{
 "cells": [
  {
   "cell_type": "markdown",
   "metadata": {
    "colab_type": "text",
    "id": "wwzADB6wisTx"
   },
   "source": [
    "# Liberías"
   ]
  },
  {
   "cell_type": "code",
   "execution_count": 1,
   "metadata": {
    "ExecuteTime": {
     "start_time": "2019-11-04T11:49:16.279Z"
    },
    "colab": {},
    "colab_type": "code",
    "id": "WCl0Xu_pisTz"
   },
   "outputs": [],
   "source": [
    "import pandas as pd\n",
    "import numpy as np\n",
    "\n",
    "import sklearn\n",
    "from sklearn.preprocessing import OneHotEncoder\n",
    "from sklearn import preprocessing\n",
    "from sklearn.metrics import classification_report\n",
    "from sklearn.naive_bayes import GaussianNB\n",
    "from sklearn import tree,svm,neighbors\n",
    "from sklearn.linear_model import LogisticRegression\n",
    "from sklearn.ensemble import GradientBoostingClassifier,AdaBoostClassifier, RandomForestClassifier\n",
    "from sklearn.neighbors import NearestCentroid \n",
    "from sklearn.neural_network import MLPClassifier\n",
    "from sklearn.model_selection import train_test_split\n",
    "from sklearn.model_selection import GridSearchCV \n",
    "from sklearn.preprocessing import OrdinalEncoder\n",
    "\n",
    "import matplotlib.pyplot as plt\n",
    "\n",
    "from keras.layers import Dense, Dropout\n",
    "from keras.models import Sequential\n",
    "from keras.utils import to_categorical\n",
    "from scikeras.wrappers import KerasClassifier\n",
    "from keras.optimizers import RMSprop\n",
    "# from keras.constraints import maxnorm"
   ]
  },
  {
   "cell_type": "code",
   "execution_count": 2,
   "metadata": {
    "ExecuteTime": {
     "end_time": "2019-05-29T14:11:05.343488Z",
     "start_time": "2019-05-29T14:11:05.309579Z"
    },
    "colab": {},
    "colab_type": "code",
    "id": "4QzV7-PZisT7",
    "outputId": "ddd508d4-0dfd-451b-dd2d-3672870ab80d"
   },
   "outputs": [
    {
     "name": "stdout",
     "output_type": "stream",
     "text": [
      "WARNING:tensorflow:From C:\\Users\\ASUS\\AppData\\Local\\Temp\\ipykernel_15112\\466397855.py:5: The name tf.ConfigProto is deprecated. Please use tf.compat.v1.ConfigProto instead.\n",
      "\n",
      "Device mapping: no known devices.\n"
     ]
    }
   ],
   "source": [
    "import tensorflow as tf\n",
    "from tensorflow.python.keras.backend import set_session \n",
    "\n",
    "# Create a ConfigProto object\n",
    "config = tf.compat.v1.ConfigProto()\n",
    "\n",
    "# Set GPU options\n",
    "config.gpu_options.per_process_gpu_memory_fraction = 0.4\n",
    "config.gpu_options.allow_growth = True  # dynamically grow the memory used on the GPU\n",
    "\n",
    "# Log device placement\n",
    "config.log_device_placement = True  # to log device placement (on which device the operation ran)\n",
    "\n",
    "# Create a session with the specified configuration\n",
    "sess = tf.compat.v1.Session(config=config)\n",
    "\n",
    "# Set this session in the backend\n",
    "set_session(sess)"
   ]
  },
  {
   "cell_type": "markdown",
   "metadata": {
    "colab_type": "text",
    "id": "s5Nk6jIMisUE"
   },
   "source": [
    "# Lectura de datos"
   ]
  },
  {
   "cell_type": "code",
   "execution_count": 3,
   "metadata": {
    "colab": {},
    "colab_type": "code",
    "id": "2CpE6W3wisUE",
    "outputId": "dd999a59-6d39-48e8-b5fa-c938cbd89c9e"
   },
   "outputs": [
    {
     "data": {
      "text/html": [
       "<div>\n",
       "<style scoped>\n",
       "    .dataframe tbody tr th:only-of-type {\n",
       "        vertical-align: middle;\n",
       "    }\n",
       "\n",
       "    .dataframe tbody tr th {\n",
       "        vertical-align: top;\n",
       "    }\n",
       "\n",
       "    .dataframe thead th {\n",
       "        text-align: right;\n",
       "    }\n",
       "</style>\n",
       "<table border=\"1\" class=\"dataframe\">\n",
       "  <thead>\n",
       "    <tr style=\"text-align: right;\">\n",
       "      <th></th>\n",
       "      <th>DATE_CASE</th>\n",
       "      <th>NOT_COUNTRY</th>\n",
       "      <th>PROD_CAT</th>\n",
       "      <th>TYPE</th>\n",
       "      <th>RISK_DECISION</th>\n",
       "      <th>ACTION_TAKEN</th>\n",
       "      <th>DISTRIBUTION_STAT</th>\n",
       "      <th>HAZARDS_CAT</th>\n",
       "      <th>COUNT_ORIGEN</th>\n",
       "      <th>COUNT_DESTIN</th>\n",
       "      <th>COUNT_CONCERN</th>\n",
       "    </tr>\n",
       "  </thead>\n",
       "  <tbody>\n",
       "    <tr>\n",
       "      <th>102497</th>\n",
       "      <td>2010-03-16</td>\n",
       "      <td>Netherlands</td>\n",
       "      <td>cereals and bakery products</td>\n",
       "      <td>food</td>\n",
       "      <td>undecided</td>\n",
       "      <td>withdrawal from the market</td>\n",
       "      <td>distribution on the market (possible)</td>\n",
       "      <td>genetically modified food or feed</td>\n",
       "      <td>China</td>\n",
       "      <td>Sweden</td>\n",
       "      <td></td>\n",
       "    </tr>\n",
       "    <tr>\n",
       "      <th>96857</th>\n",
       "      <td>2011-01-06</td>\n",
       "      <td>Denmark</td>\n",
       "      <td>cereals and bakery products</td>\n",
       "      <td>food</td>\n",
       "      <td>undecided</td>\n",
       "      <td>public warning - press release</td>\n",
       "      <td>distribution on the market (possible)</td>\n",
       "      <td>mycotoxins</td>\n",
       "      <td>Denmark</td>\n",
       "      <td>Denmark</td>\n",
       "      <td></td>\n",
       "    </tr>\n",
       "    <tr>\n",
       "      <th>95463</th>\n",
       "      <td>2011-03-09</td>\n",
       "      <td>Ireland</td>\n",
       "      <td>cereals and bakery products</td>\n",
       "      <td>food</td>\n",
       "      <td>undecided</td>\n",
       "      <td>(obsolete)</td>\n",
       "      <td>no distribution</td>\n",
       "      <td>composition</td>\n",
       "      <td>China</td>\n",
       "      <td></td>\n",
       "      <td>Ireland</td>\n",
       "    </tr>\n",
       "    <tr>\n",
       "      <th>4604</th>\n",
       "      <td>2019-05-02</td>\n",
       "      <td>Netherlands</td>\n",
       "      <td>nuts, nut products and seeds</td>\n",
       "      <td>food</td>\n",
       "      <td>serious</td>\n",
       "      <td>physical/chemical treatment</td>\n",
       "      <td>product not (yet) placed on the market</td>\n",
       "      <td>mycotoxins</td>\n",
       "      <td>Argentina</td>\n",
       "      <td></td>\n",
       "      <td>Netherlands</td>\n",
       "    </tr>\n",
       "    <tr>\n",
       "      <th>14378</th>\n",
       "      <td>2018-08-31</td>\n",
       "      <td>Austria</td>\n",
       "      <td>fruits and vegetables</td>\n",
       "      <td>food</td>\n",
       "      <td>serious</td>\n",
       "      <td>public warning - press release</td>\n",
       "      <td>distribution to other member countries</td>\n",
       "      <td>composition</td>\n",
       "      <td>South Korea</td>\n",
       "      <td>Czech Republic</td>\n",
       "      <td>INFOSAN</td>\n",
       "    </tr>\n",
       "    <tr>\n",
       "      <th>...</th>\n",
       "      <td>...</td>\n",
       "      <td>...</td>\n",
       "      <td>...</td>\n",
       "      <td>...</td>\n",
       "      <td>...</td>\n",
       "      <td>...</td>\n",
       "      <td>...</td>\n",
       "      <td>...</td>\n",
       "      <td>...</td>\n",
       "      <td>...</td>\n",
       "      <td>...</td>\n",
       "    </tr>\n",
       "    <tr>\n",
       "      <th>80948</th>\n",
       "      <td>2012-10-09</td>\n",
       "      <td>Italy</td>\n",
       "      <td>cereals and bakery products</td>\n",
       "      <td>food</td>\n",
       "      <td>not serious</td>\n",
       "      <td>import not authorised</td>\n",
       "      <td>no distribution</td>\n",
       "      <td>composition</td>\n",
       "      <td>China</td>\n",
       "      <td></td>\n",
       "      <td>Italy</td>\n",
       "    </tr>\n",
       "    <tr>\n",
       "      <th>62116</th>\n",
       "      <td>2014-08-26</td>\n",
       "      <td>Germany</td>\n",
       "      <td>dietetic foods, food supplements, fortified foods</td>\n",
       "      <td>food</td>\n",
       "      <td>undecided</td>\n",
       "      <td>no action taken</td>\n",
       "      <td>distribution to other member countries</td>\n",
       "      <td>composition</td>\n",
       "      <td>United States</td>\n",
       "      <td>Moldova</td>\n",
       "      <td>Commission Services</td>\n",
       "    </tr>\n",
       "    <tr>\n",
       "      <th>23893</th>\n",
       "      <td>2018-02-09</td>\n",
       "      <td>Netherlands</td>\n",
       "      <td>other food product / mixed</td>\n",
       "      <td>food</td>\n",
       "      <td>undecided</td>\n",
       "      <td>informing recipient(s)</td>\n",
       "      <td>distribution to other member countries</td>\n",
       "      <td>labelling absent/incomplete/incorrect</td>\n",
       "      <td>Hong Kong</td>\n",
       "      <td>Sweden</td>\n",
       "      <td>Commission Services</td>\n",
       "    </tr>\n",
       "    <tr>\n",
       "      <th>94849</th>\n",
       "      <td>2011-03-29</td>\n",
       "      <td>Belgium</td>\n",
       "      <td>compound feeds</td>\n",
       "      <td>feed</td>\n",
       "      <td>undecided</td>\n",
       "      <td>withdrawal from the market</td>\n",
       "      <td>distribution to other member countries</td>\n",
       "      <td>metals</td>\n",
       "      <td>Japan</td>\n",
       "      <td>Netherlands</td>\n",
       "      <td></td>\n",
       "    </tr>\n",
       "    <tr>\n",
       "      <th>123399</th>\n",
       "      <td>2007-03-09</td>\n",
       "      <td>Germany</td>\n",
       "      <td>cereals and bakery products</td>\n",
       "      <td>food</td>\n",
       "      <td>undecided</td>\n",
       "      <td>recall from consumers</td>\n",
       "      <td>distribution on the market (possible)</td>\n",
       "      <td>microbial contaminants (other)</td>\n",
       "      <td>Lithuania</td>\n",
       "      <td>Germany</td>\n",
       "      <td></td>\n",
       "    </tr>\n",
       "  </tbody>\n",
       "</table>\n",
       "<p>141529 rows × 11 columns</p>\n",
       "</div>"
      ],
      "text/plain": [
       "         DATE_CASE  NOT_COUNTRY  \\\n",
       "102497  2010-03-16  Netherlands   \n",
       "96857   2011-01-06      Denmark   \n",
       "95463   2011-03-09      Ireland   \n",
       "4604    2019-05-02  Netherlands   \n",
       "14378   2018-08-31      Austria   \n",
       "...            ...          ...   \n",
       "80948   2012-10-09        Italy   \n",
       "62116   2014-08-26      Germany   \n",
       "23893   2018-02-09  Netherlands   \n",
       "94849   2011-03-29      Belgium   \n",
       "123399  2007-03-09      Germany   \n",
       "\n",
       "                                                 PROD_CAT  TYPE RISK_DECISION  \\\n",
       "102497                        cereals and bakery products  food     undecided   \n",
       "96857                         cereals and bakery products  food     undecided   \n",
       "95463                         cereals and bakery products  food     undecided   \n",
       "4604                         nuts, nut products and seeds  food       serious   \n",
       "14378                               fruits and vegetables  food       serious   \n",
       "...                                                   ...   ...           ...   \n",
       "80948                         cereals and bakery products  food   not serious   \n",
       "62116   dietetic foods, food supplements, fortified foods  food     undecided   \n",
       "23893                          other food product / mixed  food     undecided   \n",
       "94849                                      compound feeds  feed     undecided   \n",
       "123399                        cereals and bakery products  food     undecided   \n",
       "\n",
       "                          ACTION_TAKEN  \\\n",
       "102497      withdrawal from the market   \n",
       "96857   public warning - press release   \n",
       "95463                       (obsolete)   \n",
       "4604       physical/chemical treatment   \n",
       "14378   public warning - press release   \n",
       "...                                ...   \n",
       "80948            import not authorised   \n",
       "62116                  no action taken   \n",
       "23893           informing recipient(s)   \n",
       "94849       withdrawal from the market   \n",
       "123399           recall from consumers   \n",
       "\n",
       "                             DISTRIBUTION_STAT  \\\n",
       "102497   distribution on the market (possible)   \n",
       "96857    distribution on the market (possible)   \n",
       "95463                          no distribution   \n",
       "4604    product not (yet) placed on the market   \n",
       "14378   distribution to other member countries   \n",
       "...                                        ...   \n",
       "80948                          no distribution   \n",
       "62116   distribution to other member countries   \n",
       "23893   distribution to other member countries   \n",
       "94849   distribution to other member countries   \n",
       "123399   distribution on the market (possible)   \n",
       "\n",
       "                                  HAZARDS_CAT   COUNT_ORIGEN    COUNT_DESTIN  \\\n",
       "102497      genetically modified food or feed          China          Sweden   \n",
       "96857                              mycotoxins        Denmark         Denmark   \n",
       "95463                             composition          China                   \n",
       "4604                               mycotoxins      Argentina                   \n",
       "14378                             composition    South Korea  Czech Republic   \n",
       "...                                       ...            ...             ...   \n",
       "80948                             composition          China                   \n",
       "62116                             composition  United States         Moldova   \n",
       "23893   labelling absent/incomplete/incorrect      Hong Kong          Sweden   \n",
       "94849                                  metals          Japan     Netherlands   \n",
       "123399         microbial contaminants (other)      Lithuania         Germany   \n",
       "\n",
       "              COUNT_CONCERN  \n",
       "102497                       \n",
       "96857                        \n",
       "95463               Ireland  \n",
       "4604            Netherlands  \n",
       "14378               INFOSAN  \n",
       "...                     ...  \n",
       "80948                 Italy  \n",
       "62116   Commission Services  \n",
       "23893   Commission Services  \n",
       "94849                        \n",
       "123399                       \n",
       "\n",
       "[141529 rows x 11 columns]"
      ]
     },
     "execution_count": 3,
     "metadata": {},
     "output_type": "execute_result"
    }
   ],
   "source": [
    "data = pd.read_csv('C:/Users/ASUS/Documents/Data mining/splited_RASFF_DATA_16092019.csv', sep=';', \n",
    "                header=0, index_col = 0)\n",
    "data ['DATE_CASE'] = data ['DATE_CASE'].astype(str)\n",
    "data ['HAZARDS_CAT'] = data ['HAZARDS_CAT'].astype(str)\n",
    "data = data.sample(frac = 1)\n",
    "train  = data\n",
    "train"
   ]
  },
  {
   "cell_type": "markdown",
   "metadata": {
    "colab_type": "text",
    "id": "CcVuC0h-isUL"
   },
   "source": [
    "# Features"
   ]
  },
  {
   "cell_type": "code",
   "execution_count": 4,
   "metadata": {
    "colab": {},
    "colab_type": "code",
    "id": "w7xE6OPSisUM"
   },
   "outputs": [],
   "source": [
    "features = [0,1,6,8]\n",
    "target = [2]\n",
    "X = train.iloc[:,features]\n",
    "y = train.iloc[:,target]"
   ]
  },
  {
   "cell_type": "code",
   "execution_count": 5,
   "metadata": {
    "colab": {},
    "colab_type": "code",
    "id": "sdjBzZ8IisUQ",
    "outputId": "e02d2c00-605c-4d04-aa2d-60cc35dda7d6"
   },
   "outputs": [
    {
     "data": {
      "text/html": [
       "<div>\n",
       "<style scoped>\n",
       "    .dataframe tbody tr th:only-of-type {\n",
       "        vertical-align: middle;\n",
       "    }\n",
       "\n",
       "    .dataframe tbody tr th {\n",
       "        vertical-align: top;\n",
       "    }\n",
       "\n",
       "    .dataframe thead th {\n",
       "        text-align: right;\n",
       "    }\n",
       "</style>\n",
       "<table border=\"1\" class=\"dataframe\">\n",
       "  <thead>\n",
       "    <tr style=\"text-align: right;\">\n",
       "      <th></th>\n",
       "      <th>DATE_CASE</th>\n",
       "      <th>NOT_COUNTRY</th>\n",
       "      <th>DISTRIBUTION_STAT</th>\n",
       "      <th>COUNT_ORIGEN</th>\n",
       "    </tr>\n",
       "  </thead>\n",
       "  <tbody>\n",
       "    <tr>\n",
       "      <th>102497</th>\n",
       "      <td>2010-03-16</td>\n",
       "      <td>Netherlands</td>\n",
       "      <td>distribution on the market (possible)</td>\n",
       "      <td>China</td>\n",
       "    </tr>\n",
       "    <tr>\n",
       "      <th>96857</th>\n",
       "      <td>2011-01-06</td>\n",
       "      <td>Denmark</td>\n",
       "      <td>distribution on the market (possible)</td>\n",
       "      <td>Denmark</td>\n",
       "    </tr>\n",
       "    <tr>\n",
       "      <th>95463</th>\n",
       "      <td>2011-03-09</td>\n",
       "      <td>Ireland</td>\n",
       "      <td>no distribution</td>\n",
       "      <td>China</td>\n",
       "    </tr>\n",
       "    <tr>\n",
       "      <th>4604</th>\n",
       "      <td>2019-05-02</td>\n",
       "      <td>Netherlands</td>\n",
       "      <td>product not (yet) placed on the market</td>\n",
       "      <td>Argentina</td>\n",
       "    </tr>\n",
       "    <tr>\n",
       "      <th>14378</th>\n",
       "      <td>2018-08-31</td>\n",
       "      <td>Austria</td>\n",
       "      <td>distribution to other member countries</td>\n",
       "      <td>South Korea</td>\n",
       "    </tr>\n",
       "    <tr>\n",
       "      <th>...</th>\n",
       "      <td>...</td>\n",
       "      <td>...</td>\n",
       "      <td>...</td>\n",
       "      <td>...</td>\n",
       "    </tr>\n",
       "    <tr>\n",
       "      <th>80948</th>\n",
       "      <td>2012-10-09</td>\n",
       "      <td>Italy</td>\n",
       "      <td>no distribution</td>\n",
       "      <td>China</td>\n",
       "    </tr>\n",
       "    <tr>\n",
       "      <th>62116</th>\n",
       "      <td>2014-08-26</td>\n",
       "      <td>Germany</td>\n",
       "      <td>distribution to other member countries</td>\n",
       "      <td>United States</td>\n",
       "    </tr>\n",
       "    <tr>\n",
       "      <th>23893</th>\n",
       "      <td>2018-02-09</td>\n",
       "      <td>Netherlands</td>\n",
       "      <td>distribution to other member countries</td>\n",
       "      <td>Hong Kong</td>\n",
       "    </tr>\n",
       "    <tr>\n",
       "      <th>94849</th>\n",
       "      <td>2011-03-29</td>\n",
       "      <td>Belgium</td>\n",
       "      <td>distribution to other member countries</td>\n",
       "      <td>Japan</td>\n",
       "    </tr>\n",
       "    <tr>\n",
       "      <th>123399</th>\n",
       "      <td>2007-03-09</td>\n",
       "      <td>Germany</td>\n",
       "      <td>distribution on the market (possible)</td>\n",
       "      <td>Lithuania</td>\n",
       "    </tr>\n",
       "  </tbody>\n",
       "</table>\n",
       "<p>141529 rows × 4 columns</p>\n",
       "</div>"
      ],
      "text/plain": [
       "         DATE_CASE  NOT_COUNTRY                       DISTRIBUTION_STAT  \\\n",
       "102497  2010-03-16  Netherlands   distribution on the market (possible)   \n",
       "96857   2011-01-06      Denmark   distribution on the market (possible)   \n",
       "95463   2011-03-09      Ireland                         no distribution   \n",
       "4604    2019-05-02  Netherlands  product not (yet) placed on the market   \n",
       "14378   2018-08-31      Austria  distribution to other member countries   \n",
       "...            ...          ...                                     ...   \n",
       "80948   2012-10-09        Italy                         no distribution   \n",
       "62116   2014-08-26      Germany  distribution to other member countries   \n",
       "23893   2018-02-09  Netherlands  distribution to other member countries   \n",
       "94849   2011-03-29      Belgium  distribution to other member countries   \n",
       "123399  2007-03-09      Germany   distribution on the market (possible)   \n",
       "\n",
       "         COUNT_ORIGEN  \n",
       "102497          China  \n",
       "96857         Denmark  \n",
       "95463           China  \n",
       "4604        Argentina  \n",
       "14378     South Korea  \n",
       "...               ...  \n",
       "80948           China  \n",
       "62116   United States  \n",
       "23893       Hong Kong  \n",
       "94849           Japan  \n",
       "123399      Lithuania  \n",
       "\n",
       "[141529 rows x 4 columns]"
      ]
     },
     "execution_count": 5,
     "metadata": {},
     "output_type": "execute_result"
    }
   ],
   "source": [
    "X "
   ]
  },
  {
   "cell_type": "code",
   "execution_count": 6,
   "metadata": {
    "colab": {},
    "colab_type": "code",
    "id": "cc-JO_VLisUV",
    "outputId": "cfd5716d-534c-4c26-b33e-31ca02790a98"
   },
   "outputs": [
    {
     "data": {
      "text/html": [
       "<div>\n",
       "<style scoped>\n",
       "    .dataframe tbody tr th:only-of-type {\n",
       "        vertical-align: middle;\n",
       "    }\n",
       "\n",
       "    .dataframe tbody tr th {\n",
       "        vertical-align: top;\n",
       "    }\n",
       "\n",
       "    .dataframe thead th {\n",
       "        text-align: right;\n",
       "    }\n",
       "</style>\n",
       "<table border=\"1\" class=\"dataframe\">\n",
       "  <thead>\n",
       "    <tr style=\"text-align: right;\">\n",
       "      <th></th>\n",
       "      <th>PROD_CAT</th>\n",
       "    </tr>\n",
       "  </thead>\n",
       "  <tbody>\n",
       "    <tr>\n",
       "      <th>102497</th>\n",
       "      <td>cereals and bakery products</td>\n",
       "    </tr>\n",
       "    <tr>\n",
       "      <th>96857</th>\n",
       "      <td>cereals and bakery products</td>\n",
       "    </tr>\n",
       "    <tr>\n",
       "      <th>95463</th>\n",
       "      <td>cereals and bakery products</td>\n",
       "    </tr>\n",
       "    <tr>\n",
       "      <th>4604</th>\n",
       "      <td>nuts, nut products and seeds</td>\n",
       "    </tr>\n",
       "    <tr>\n",
       "      <th>14378</th>\n",
       "      <td>fruits and vegetables</td>\n",
       "    </tr>\n",
       "    <tr>\n",
       "      <th>...</th>\n",
       "      <td>...</td>\n",
       "    </tr>\n",
       "    <tr>\n",
       "      <th>80948</th>\n",
       "      <td>cereals and bakery products</td>\n",
       "    </tr>\n",
       "    <tr>\n",
       "      <th>62116</th>\n",
       "      <td>dietetic foods, food supplements, fortified foods</td>\n",
       "    </tr>\n",
       "    <tr>\n",
       "      <th>23893</th>\n",
       "      <td>other food product / mixed</td>\n",
       "    </tr>\n",
       "    <tr>\n",
       "      <th>94849</th>\n",
       "      <td>compound feeds</td>\n",
       "    </tr>\n",
       "    <tr>\n",
       "      <th>123399</th>\n",
       "      <td>cereals and bakery products</td>\n",
       "    </tr>\n",
       "  </tbody>\n",
       "</table>\n",
       "<p>141529 rows × 1 columns</p>\n",
       "</div>"
      ],
      "text/plain": [
       "                                                 PROD_CAT\n",
       "102497                        cereals and bakery products\n",
       "96857                         cereals and bakery products\n",
       "95463                         cereals and bakery products\n",
       "4604                         nuts, nut products and seeds\n",
       "14378                               fruits and vegetables\n",
       "...                                                   ...\n",
       "80948                         cereals and bakery products\n",
       "62116   dietetic foods, food supplements, fortified foods\n",
       "23893                          other food product / mixed\n",
       "94849                                      compound feeds\n",
       "123399                        cereals and bakery products\n",
       "\n",
       "[141529 rows x 1 columns]"
      ]
     },
     "execution_count": 6,
     "metadata": {},
     "output_type": "execute_result"
    }
   ],
   "source": [
    "y"
   ]
  },
  {
   "cell_type": "markdown",
   "metadata": {
    "colab_type": "text",
    "id": "NmfbhWg-isUb"
   },
   "source": [
    "# Split"
   ]
  },
  {
   "cell_type": "code",
   "execution_count": 7,
   "metadata": {
    "colab": {},
    "colab_type": "code",
    "id": "62tPem_SisUb"
   },
   "outputs": [],
   "source": [
    "X_train, X_test, y_train, y_test = train_test_split(X, y, test_size=0.2)"
   ]
  },
  {
   "cell_type": "markdown",
   "metadata": {
    "colab_type": "text",
    "id": "5LYs1zB_isUf"
   },
   "source": [
    "# Para probar codificaciones (opcional)"
   ]
  },
  {
   "cell_type": "code",
   "execution_count": 8,
   "metadata": {
    "ExecuteTime": {
     "end_time": "2019-05-29T14:17:04.402377Z",
     "start_time": "2019-05-29T14:17:04.285684Z"
    },
    "colab": {},
    "colab_type": "code",
    "id": "nBOikG7cisUg"
   },
   "outputs": [],
   "source": [
    "encX = OneHotEncoder(handle_unknown='ignore')\n",
    "#encX = OrdinalEncoder()\n",
    "#encX = FeatureHasher(n_features=25,input_type='string')\n",
    "#encX = MultiLabelBinarizer()\n",
    "encX.fit(X.values)\n",
    "X_one_hot = encX.transform(X.values)"
   ]
  },
  {
   "cell_type": "code",
   "execution_count": 9,
   "metadata": {
    "ExecuteTime": {
     "end_time": "2019-05-29T14:17:04.724124Z",
     "start_time": "2019-05-29T14:17:04.702189Z"
    },
    "colab": {},
    "colab_type": "code",
    "id": "K7waZAV2isUk"
   },
   "outputs": [],
   "source": [
    "X_train, X_test, y_train, y_test = train_test_split(X_one_hot, y, test_size=0.2)"
   ]
  },
  {
   "cell_type": "markdown",
   "metadata": {
    "colab_type": "text",
    "id": "AsNgTw5disUn"
   },
   "source": [
    "# Árboles de decisión"
   ]
  },
  {
   "cell_type": "code",
   "execution_count": 10,
   "metadata": {
    "ExecuteTime": {
     "end_time": "2019-05-29T14:17:17.741367Z",
     "start_time": "2019-05-29T14:17:17.422221Z"
    },
    "colab": {},
    "colab_type": "code",
    "id": "TH2B7njkisUn"
   },
   "outputs": [],
   "source": [
    "clf = tree.DecisionTreeClassifier(criterion='gini')\n",
    "clf = clf.fit(X_train,y_train)"
   ]
  },
  {
   "cell_type": "code",
   "execution_count": 11,
   "metadata": {
    "ExecuteTime": {
     "end_time": "2019-05-29T14:17:17.755355Z",
     "start_time": "2019-05-29T14:17:17.742364Z"
    },
    "colab": {},
    "colab_type": "code",
    "id": "bdSRgyZ-isUr"
   },
   "outputs": [],
   "source": [
    "y_pred = clf.predict(X_test)"
   ]
  },
  {
   "cell_type": "code",
   "execution_count": 12,
   "metadata": {
    "ExecuteTime": {
     "end_time": "2019-05-29T14:17:18.942217Z",
     "start_time": "2019-05-29T14:17:18.622045Z"
    },
    "colab": {},
    "colab_type": "code",
    "id": "7PfBFVzIisUw",
    "outputId": "bb71120f-960d-4012-f89b-c4c8b9913bd0",
    "scrolled": true
   },
   "outputs": [
    {
     "name": "stdout",
     "output_type": "stream",
     "text": [
      "                                                   precision    recall  f1-score   support\n",
      "\n",
      "                              alcoholic beverages       0.99      0.87      0.93        93\n",
      "                  animal by-products - (obsolete)       1.00      0.82      0.90        11\n",
      "                    animal nutrition - (obsolete)       0.86      0.79      0.82       138\n",
      "            bivalve molluscs and products thereof       0.84      0.80      0.82       490\n",
      "                 cephalopods and products thereof       0.78      0.68      0.72       164\n",
      "                      cereals and bakery products       0.83      0.83      0.83      1369\n",
      "     cocoa and cocoa preparations, coffee and tea       0.94      0.87      0.91       644\n",
      "                                   compound feeds       0.96      0.91      0.93       196\n",
      "                                    confectionery       0.89      0.83      0.86       548\n",
      "                 crustaceans and products thereof       0.76      0.74      0.75       478\n",
      "dietetic foods, food supplements, fortified foods       0.94      0.95      0.95      3378\n",
      "                            eggs and egg products       0.91      0.91      0.91       304\n",
      "                                    fats and oils       0.90      0.87      0.89       400\n",
      "                                   feed additives       0.99      0.95      0.97       258\n",
      "     feed for food-producing animals - (obsolete)       0.80      0.75      0.77       123\n",
      "                                   feed materials       0.79      0.80      0.79       832\n",
      "                                 feed premixtures       0.99      0.91      0.95        76\n",
      "                           fish and fish products       0.81      0.88      0.85      2365\n",
      "                   food additives and flavourings       0.96      0.92      0.94       161\n",
      "                           food contact materials       0.89      0.92      0.91      2169\n",
      "                            fruits and vegetables       0.86      0.87      0.86      3864\n",
      "                                       gastropods       0.93      0.82      0.88        17\n",
      "                                 herbs and spices       0.90      0.87      0.88      1662\n",
      "                            honey and royal jelly       0.87      0.78      0.82       126\n",
      "                                ices and desserts       0.94      0.87      0.90        90\n",
      "      meat and meat products (other than poultry)       0.81      0.82      0.82      1445\n",
      "                           milk and milk products       0.91      0.87      0.89       722\n",
      "       molluscs and products thereof - (obsolete)       0.81      0.84      0.82        55\n",
      "                            natural mineral water       0.83      0.66      0.74        38\n",
      "                          non-alcoholic beverages       0.79      0.69      0.74       210\n",
      "                     nuts, nut products and seeds       0.83      0.86      0.85      3042\n",
      "                       other food product / mixed       0.97      0.83      0.89       432\n",
      "                                         pet food       0.89      0.79      0.84       390\n",
      "           poultry meat and poultry meat products       0.82      0.86      0.84       995\n",
      "                       prepared dishes and snacks       0.92      0.87      0.90       501\n",
      "             soups, broths, sauces and condiments       0.93      0.83      0.88       486\n",
      "              water for human consumption (other)       0.86      0.67      0.75        18\n",
      "                                             wine       0.92      0.69      0.79        16\n",
      "\n",
      "                                         accuracy                           0.87     28306\n",
      "                                        macro avg       0.88      0.83      0.85     28306\n",
      "                                     weighted avg       0.87      0.87      0.87     28306\n",
      "\n"
     ]
    }
   ],
   "source": [
    "print(classification_report(y_test,y_pred))"
   ]
  },
  {
   "cell_type": "code",
   "execution_count": 13,
   "metadata": {
    "ExecuteTime": {
     "end_time": "2019-05-29T14:17:19.488183Z",
     "start_time": "2019-05-29T14:17:19.453267Z"
    },
    "colab": {},
    "colab_type": "code",
    "id": "Ld5qOv9DisU0",
    "outputId": "15533da6-6f74-4789-8cc6-5c422ab07c1f"
   },
   "outputs": [
    {
     "data": {
      "text/plain": [
       "0.8679785204550272"
      ]
     },
     "execution_count": 13,
     "metadata": {},
     "output_type": "execute_result"
    }
   ],
   "source": [
    "clf.score(X_test, y_test)"
   ]
  },
  {
   "cell_type": "markdown",
   "metadata": {
    "colab_type": "text",
    "id": "LYuyuZYIisU3"
   },
   "source": [
    "# Random Forest"
   ]
  },
  {
   "cell_type": "code",
   "execution_count": 14,
   "metadata": {
    "ExecuteTime": {
     "end_time": "2019-05-29T14:12:18.217291Z",
     "start_time": "2019-05-29T14:12:17.390502Z"
    },
    "colab": {},
    "colab_type": "code",
    "id": "gJ6HIWmKisU3"
   },
   "outputs": [
    {
     "name": "stderr",
     "output_type": "stream",
     "text": [
      "C:\\Users\\ASUS\\anaconda3\\Lib\\site-packages\\sklearn\\base.py:1473: DataConversionWarning: A column-vector y was passed when a 1d array was expected. Please change the shape of y to (n_samples,), for example using ravel().\n",
      "  return fit_method(estimator, *args, **kwargs)\n"
     ]
    }
   ],
   "source": [
    "clf = RandomForestClassifier()\n",
    "clf = clf.fit(X_train,y_train)"
   ]
  },
  {
   "cell_type": "code",
   "execution_count": 15,
   "metadata": {
    "ExecuteTime": {
     "end_time": "2019-05-29T14:12:19.096888Z",
     "start_time": "2019-05-29T14:12:18.957294Z"
    },
    "colab": {},
    "colab_type": "code",
    "id": "P8_hOg03isU8"
   },
   "outputs": [],
   "source": [
    "y_pred = clf.predict(X_test)"
   ]
  },
  {
   "cell_type": "code",
   "execution_count": 16,
   "metadata": {
    "ExecuteTime": {
     "end_time": "2019-05-29T14:12:20.529121Z",
     "start_time": "2019-05-29T14:12:20.525132Z"
    },
    "colab": {},
    "colab_type": "code",
    "id": "3nEopJiYisU_",
    "outputId": "83275240-1d11-44d4-b8fc-077cc9307429"
   },
   "outputs": [
    {
     "data": {
      "text/plain": [
       "array(['milk and milk products', 'nuts, nut products and seeds',\n",
       "       'food contact materials', ..., 'fruits and vegetables',\n",
       "       'prepared dishes and snacks', 'fish and fish products'],\n",
       "      dtype=object)"
      ]
     },
     "execution_count": 16,
     "metadata": {},
     "output_type": "execute_result"
    }
   ],
   "source": [
    "y_pred"
   ]
  },
  {
   "cell_type": "code",
   "execution_count": 17,
   "metadata": {
    "ExecuteTime": {
     "end_time": "2019-05-29T14:12:24.109264Z",
     "start_time": "2019-05-29T14:12:23.789148Z"
    },
    "colab": {},
    "colab_type": "code",
    "id": "xjm5a8TtisVC",
    "outputId": "920e742b-029c-453c-af1c-5cac33f40ba3",
    "scrolled": true
   },
   "outputs": [
    {
     "name": "stdout",
     "output_type": "stream",
     "text": [
      "                                                   precision    recall  f1-score   support\n",
      "\n",
      "                              alcoholic beverages       0.99      0.87      0.93        93\n",
      "                  animal by-products - (obsolete)       1.00      0.91      0.95        11\n",
      "                    animal nutrition - (obsolete)       0.87      0.79      0.83       138\n",
      "            bivalve molluscs and products thereof       0.83      0.78      0.81       490\n",
      "                 cephalopods and products thereof       0.81      0.66      0.73       164\n",
      "                      cereals and bakery products       0.85      0.82      0.83      1369\n",
      "     cocoa and cocoa preparations, coffee and tea       0.92      0.88      0.90       644\n",
      "                                   compound feeds       0.96      0.90      0.93       196\n",
      "                                    confectionery       0.90      0.83      0.86       548\n",
      "                 crustaceans and products thereof       0.77      0.74      0.75       478\n",
      "dietetic foods, food supplements, fortified foods       0.94      0.96      0.95      3378\n",
      "                            eggs and egg products       0.92      0.91      0.92       304\n",
      "                                    fats and oils       0.95      0.88      0.91       400\n",
      "                                   feed additives       0.99      0.95      0.97       258\n",
      "     feed for food-producing animals - (obsolete)       0.79      0.74      0.76       123\n",
      "                                   feed materials       0.82      0.82      0.82       832\n",
      "                                 feed premixtures       1.00      0.91      0.95        76\n",
      "                           fish and fish products       0.81      0.89      0.85      2365\n",
      "                   food additives and flavourings       0.99      0.90      0.94       161\n",
      "                           food contact materials       0.89      0.93      0.91      2169\n",
      "                            fruits and vegetables       0.85      0.88      0.87      3864\n",
      "                                       gastropods       1.00      0.71      0.83        17\n",
      "                                 herbs and spices       0.90      0.86      0.88      1662\n",
      "                            honey and royal jelly       0.87      0.78      0.82       126\n",
      "                                ices and desserts       0.91      0.87      0.89        90\n",
      "      meat and meat products (other than poultry)       0.81      0.82      0.82      1445\n",
      "                           milk and milk products       0.93      0.87      0.90       722\n",
      "       molluscs and products thereof - (obsolete)       0.74      0.82      0.78        55\n",
      "                            natural mineral water       0.89      0.66      0.76        38\n",
      "                          non-alcoholic beverages       0.81      0.68      0.74       210\n",
      "                     nuts, nut products and seeds       0.84      0.87      0.85      3042\n",
      "                       other food product / mixed       0.98      0.82      0.89       432\n",
      "                                         pet food       0.88      0.78      0.83       390\n",
      "           poultry meat and poultry meat products       0.83      0.87      0.85       995\n",
      "                       prepared dishes and snacks       0.93      0.87      0.90       501\n",
      "             soups, broths, sauces and condiments       0.92      0.84      0.88       486\n",
      "              water for human consumption (other)       1.00      0.72      0.84        18\n",
      "                                             wine       1.00      0.75      0.86        16\n",
      "\n",
      "                                         accuracy                           0.87     28306\n",
      "                                        macro avg       0.90      0.83      0.86     28306\n",
      "                                     weighted avg       0.87      0.87      0.87     28306\n",
      "\n"
     ]
    }
   ],
   "source": [
    "print(classification_report(y_test,y_pred))"
   ]
  },
  {
   "cell_type": "code",
   "execution_count": 18,
   "metadata": {
    "ExecuteTime": {
     "end_time": "2019-05-29T14:12:24.809025Z",
     "start_time": "2019-05-29T14:12:24.637510Z"
    },
    "colab": {},
    "colab_type": "code",
    "id": "hsX0mIjHisVF",
    "outputId": "c3b21fff-10e0-43df-e5a2-552e582c8469"
   },
   "outputs": [
    {
     "data": {
      "text/plain": [
       "0.871016745566311"
      ]
     },
     "execution_count": 18,
     "metadata": {},
     "output_type": "execute_result"
    }
   ],
   "source": [
    "clf.score(X_test, y_test)"
   ]
  },
  {
   "cell_type": "markdown",
   "metadata": {
    "colab_type": "text",
    "id": "GiRPkcSXisVI"
   },
   "source": [
    "# Gaussian naive Bayes clasiffier"
   ]
  },
  {
   "cell_type": "code",
   "execution_count": 19,
   "metadata": {},
   "outputs": [
    {
     "name": "stdout",
     "output_type": "stream",
     "text": [
      "(141529, 4222)\n",
      "(141529, 1)\n"
     ]
    }
   ],
   "source": [
    "print(X_one_hot.shape)\n",
    "print(y.shape)"
   ]
  },
  {
   "cell_type": "code",
   "execution_count": 20,
   "metadata": {
    "ExecuteTime": {
     "end_time": "2019-04-24T08:48:46.053759Z",
     "start_time": "2019-04-24T08:48:45.336057Z"
    },
    "colab": {},
    "colab_type": "code",
    "id": "d5jkwqfMisVJ"
   },
   "outputs": [
    {
     "name": "stderr",
     "output_type": "stream",
     "text": [
      "C:\\Users\\ASUS\\anaconda3\\Lib\\site-packages\\sklearn\\utils\\validation.py:1310: DataConversionWarning: A column-vector y was passed when a 1d array was expected. Please change the shape of y to (n_samples, ), for example using ravel().\n",
      "  y = column_or_1d(y, warn=True)\n"
     ]
    }
   ],
   "source": [
    "clf = GaussianNB()\n",
    "clf = clf.fit(X_train.toarray(),y_train)"
   ]
  },
  {
   "cell_type": "code",
   "execution_count": 21,
   "metadata": {
    "ExecuteTime": {
     "end_time": "2019-04-24T08:48:50.422701Z",
     "start_time": "2019-04-24T08:48:47.721717Z"
    },
    "colab": {},
    "colab_type": "code",
    "id": "sJmTeKfEisVM"
   },
   "outputs": [],
   "source": [
    "y_pred = clf.predict(X_test.toarray())"
   ]
  },
  {
   "cell_type": "code",
   "execution_count": 22,
   "metadata": {
    "ExecuteTime": {
     "end_time": "2019-04-24T08:48:52.025811Z",
     "start_time": "2019-04-24T08:48:51.577708Z"
    },
    "colab": {},
    "colab_type": "code",
    "id": "qEUaLmfoisVO",
    "outputId": "89a3ac81-8f6f-48f7-8b8a-2870c482641b",
    "scrolled": true
   },
   "outputs": [
    {
     "name": "stdout",
     "output_type": "stream",
     "text": [
      "                                                   precision    recall  f1-score   support\n",
      "\n",
      "                              alcoholic beverages       0.26      0.89      0.40        93\n",
      "                  animal by-products - (obsolete)       0.26      0.82      0.39        11\n",
      "                    animal nutrition - (obsolete)       0.24      0.80      0.37       138\n",
      "            bivalve molluscs and products thereof       0.13      0.25      0.17       490\n",
      "                 cephalopods and products thereof       0.07      0.55      0.13       164\n",
      "                      cereals and bakery products       0.20      0.10      0.13      1369\n",
      "     cocoa and cocoa preparations, coffee and tea       0.15      0.39      0.22       644\n",
      "                                   compound feeds       0.18      0.91      0.29       196\n",
      "                                    confectionery       0.13      0.30      0.18       548\n",
      "                 crustaceans and products thereof       0.11      0.23      0.15       478\n",
      "dietetic foods, food supplements, fortified foods       0.62      0.15      0.24      3378\n",
      "                            eggs and egg products       0.20      0.66      0.31       304\n",
      "                                    fats and oils       0.23      0.76      0.36       400\n",
      "                                   feed additives       0.38      0.94      0.54       258\n",
      "     feed for food-producing animals - (obsolete)       0.16      0.83      0.26       123\n",
      "                                   feed materials       0.13      0.20      0.16       832\n",
      "                                 feed premixtures       0.43      0.80      0.56        76\n",
      "                           fish and fish products       0.64      0.07      0.12      2365\n",
      "                   food additives and flavourings       0.28      0.90      0.43       161\n",
      "                           food contact materials       0.49      0.08      0.13      2169\n",
      "                            fruits and vegetables       0.67      0.03      0.06      3864\n",
      "                                       gastropods       0.36      0.71      0.48        17\n",
      "                                 herbs and spices       0.28      0.13      0.17      1662\n",
      "                            honey and royal jelly       0.13      0.66      0.21       126\n",
      "                                ices and desserts       0.15      0.88      0.26        90\n",
      "      meat and meat products (other than poultry)       0.24      0.05      0.09      1445\n",
      "                           milk and milk products       0.17      0.27      0.21       722\n",
      "       molluscs and products thereof - (obsolete)       0.12      0.80      0.21        55\n",
      "                            natural mineral water       0.21      0.66      0.32        38\n",
      "                          non-alcoholic beverages       0.09      0.56      0.15       210\n",
      "                     nuts, nut products and seeds       0.83      0.05      0.10      3042\n",
      "                       other food product / mixed       0.16      0.60      0.25       432\n",
      "                                         pet food       0.17      0.64      0.26       390\n",
      "           poultry meat and poultry meat products       0.25      0.08      0.12       995\n",
      "                       prepared dishes and snacks       0.16      0.53      0.25       501\n",
      "             soups, broths, sauces and condiments       0.12      0.44      0.19       486\n",
      "              water for human consumption (other)       0.11      0.78      0.19        18\n",
      "                                             wine       0.19      0.69      0.29        16\n",
      "\n",
      "                                         accuracy                           0.20     28306\n",
      "                                        macro avg       0.25      0.50      0.25     28306\n",
      "                                     weighted avg       0.44      0.20      0.16     28306\n",
      "\n"
     ]
    }
   ],
   "source": [
    "print(classification_report(y_test,y_pred))"
   ]
  },
  {
   "cell_type": "code",
   "execution_count": 23,
   "metadata": {
    "ExecuteTime": {
     "end_time": "2019-04-24T08:48:57.326470Z",
     "start_time": "2019-04-24T08:48:54.504429Z"
    },
    "colab": {},
    "colab_type": "code",
    "id": "-6NYF3LyisVT",
    "outputId": "78de53f4-7230-4131-d27d-8326930214e1"
   },
   "outputs": [
    {
     "data": {
      "text/plain": [
       "0.1954355966932806"
      ]
     },
     "execution_count": 23,
     "metadata": {},
     "output_type": "execute_result"
    }
   ],
   "source": [
    "clf.score(X_test.toarray(), y_test)"
   ]
  },
  {
   "cell_type": "markdown",
   "metadata": {
    "colab_type": "text",
    "id": "ht1hG2D-isVW"
   },
   "source": [
    "# Regresión logística"
   ]
  },
  {
   "cell_type": "code",
   "execution_count": 24,
   "metadata": {
    "ExecuteTime": {
     "end_time": "2019-05-29T14:18:09.034447Z",
     "start_time": "2019-05-29T14:17:42.365763Z"
    },
    "colab": {},
    "colab_type": "code",
    "id": "ERFV7NgLisVX"
   },
   "outputs": [
    {
     "name": "stderr",
     "output_type": "stream",
     "text": [
      "C:\\Users\\ASUS\\anaconda3\\Lib\\site-packages\\sklearn\\utils\\validation.py:1310: DataConversionWarning: A column-vector y was passed when a 1d array was expected. Please change the shape of y to (n_samples, ), for example using ravel().\n",
      "  y = column_or_1d(y, warn=True)\n",
      "C:\\Users\\ASUS\\anaconda3\\Lib\\site-packages\\sklearn\\linear_model\\_logistic.py:469: ConvergenceWarning: lbfgs failed to converge (status=1):\n",
      "STOP: TOTAL NO. of ITERATIONS REACHED LIMIT.\n",
      "\n",
      "Increase the number of iterations (max_iter) or scale the data as shown in:\n",
      "    https://scikit-learn.org/stable/modules/preprocessing.html\n",
      "Please also refer to the documentation for alternative solver options:\n",
      "    https://scikit-learn.org/stable/modules/linear_model.html#logistic-regression\n",
      "  n_iter_i = _check_optimize_result(\n"
     ]
    }
   ],
   "source": [
    "clf = LogisticRegression()\n",
    "clf = clf.fit(X_train,y_train)"
   ]
  },
  {
   "cell_type": "code",
   "execution_count": 25,
   "metadata": {
    "ExecuteTime": {
     "end_time": "2019-05-29T14:18:09.057357Z",
     "start_time": "2019-05-29T14:18:09.036414Z"
    },
    "colab": {},
    "colab_type": "code",
    "id": "B4hgnMp2isVa"
   },
   "outputs": [],
   "source": [
    "y_pred = clf.predict(X_test)"
   ]
  },
  {
   "cell_type": "code",
   "execution_count": 26,
   "metadata": {
    "ExecuteTime": {
     "end_time": "2019-05-29T14:18:09.389469Z",
     "start_time": "2019-05-29T14:18:09.060349Z"
    },
    "colab": {},
    "colab_type": "code",
    "id": "k_mPk4dqisVd",
    "outputId": "ee5a340a-2f69-46f7-c2c3-be240e0cad15"
   },
   "outputs": [
    {
     "name": "stderr",
     "output_type": "stream",
     "text": [
      "C:\\Users\\ASUS\\anaconda3\\Lib\\site-packages\\sklearn\\metrics\\_classification.py:1517: UndefinedMetricWarning: Precision is ill-defined and being set to 0.0 in labels with no predicted samples. Use `zero_division` parameter to control this behavior.\n",
      "  _warn_prf(average, modifier, f\"{metric.capitalize()} is\", len(result))\n",
      "C:\\Users\\ASUS\\anaconda3\\Lib\\site-packages\\sklearn\\metrics\\_classification.py:1517: UndefinedMetricWarning: Precision is ill-defined and being set to 0.0 in labels with no predicted samples. Use `zero_division` parameter to control this behavior.\n",
      "  _warn_prf(average, modifier, f\"{metric.capitalize()} is\", len(result))\n"
     ]
    },
    {
     "name": "stdout",
     "output_type": "stream",
     "text": [
      "                                                   precision    recall  f1-score   support\n",
      "\n",
      "                              alcoholic beverages       0.93      0.57      0.71        93\n",
      "                  animal by-products - (obsolete)       0.00      0.00      0.00        11\n",
      "                    animal nutrition - (obsolete)       0.85      0.63      0.72       138\n",
      "            bivalve molluscs and products thereof       0.59      0.42      0.49       490\n",
      "                 cephalopods and products thereof       0.67      0.20      0.30       164\n",
      "                      cereals and bakery products       0.55      0.59      0.57      1369\n",
      "     cocoa and cocoa preparations, coffee and tea       0.70      0.59      0.64       644\n",
      "                                   compound feeds       0.92      0.66      0.77       196\n",
      "                                    confectionery       0.66      0.49      0.57       548\n",
      "                 crustaceans and products thereof       0.54      0.41      0.47       478\n",
      "dietetic foods, food supplements, fortified foods       0.80      0.87      0.83      3378\n",
      "                            eggs and egg products       0.87      0.66      0.75       304\n",
      "                                    fats and oils       0.75      0.75      0.75       400\n",
      "                                   feed additives       0.93      0.83      0.88       258\n",
      "     feed for food-producing animals - (obsolete)       0.80      0.55      0.65       123\n",
      "                                   feed materials       0.55      0.49      0.52       832\n",
      "                                 feed premixtures       0.89      0.75      0.81        76\n",
      "                           fish and fish products       0.60      0.70      0.65      2365\n",
      "                   food additives and flavourings       0.94      0.81      0.87       161\n",
      "                           food contact materials       0.71      0.83      0.76      2169\n",
      "                            fruits and vegetables       0.63      0.72      0.67      3864\n",
      "                                       gastropods       0.00      0.00      0.00        17\n",
      "                                 herbs and spices       0.63      0.62      0.62      1662\n",
      "                            honey and royal jelly       0.71      0.31      0.43       126\n",
      "                                ices and desserts       0.94      0.33      0.49        90\n",
      "      meat and meat products (other than poultry)       0.56      0.54      0.55      1445\n",
      "                           milk and milk products       0.67      0.73      0.70       722\n",
      "       molluscs and products thereof - (obsolete)       0.78      0.25      0.38        55\n",
      "                            natural mineral water       0.80      0.32      0.45        38\n",
      "                          non-alcoholic beverages       0.61      0.27      0.38       210\n",
      "                     nuts, nut products and seeds       0.66      0.66      0.66      3042\n",
      "                       other food product / mixed       0.77      0.60      0.68       432\n",
      "                                         pet food       0.79      0.54      0.64       390\n",
      "           poultry meat and poultry meat products       0.59      0.63      0.61       995\n",
      "                       prepared dishes and snacks       0.75      0.56      0.64       501\n",
      "             soups, broths, sauces and condiments       0.70      0.51      0.59       486\n",
      "              water for human consumption (other)       0.92      0.61      0.73        18\n",
      "                                             wine       0.00      0.00      0.00        16\n",
      "\n",
      "                                         accuracy                           0.67     28306\n",
      "                                        macro avg       0.68      0.53      0.58     28306\n",
      "                                     weighted avg       0.67      0.67      0.66     28306\n",
      "\n"
     ]
    },
    {
     "name": "stderr",
     "output_type": "stream",
     "text": [
      "C:\\Users\\ASUS\\anaconda3\\Lib\\site-packages\\sklearn\\metrics\\_classification.py:1517: UndefinedMetricWarning: Precision is ill-defined and being set to 0.0 in labels with no predicted samples. Use `zero_division` parameter to control this behavior.\n",
      "  _warn_prf(average, modifier, f\"{metric.capitalize()} is\", len(result))\n"
     ]
    }
   ],
   "source": [
    "print(classification_report(y_test,y_pred))"
   ]
  },
  {
   "cell_type": "code",
   "execution_count": 27,
   "metadata": {
    "ExecuteTime": {
     "end_time": "2019-05-29T14:18:09.428365Z",
     "start_time": "2019-05-29T14:18:09.390497Z"
    },
    "colab": {},
    "colab_type": "code",
    "id": "55L2gwPbisVh",
    "outputId": "bba47cf8-6419-4d4f-c083-839b83ca0ad2"
   },
   "outputs": [
    {
     "data": {
      "text/plain": [
       "0.6660778633505264"
      ]
     },
     "execution_count": 27,
     "metadata": {},
     "output_type": "execute_result"
    }
   ],
   "source": [
    "clf.score(X_test, y_test)"
   ]
  },
  {
   "cell_type": "markdown",
   "metadata": {
    "colab_type": "text",
    "id": "xaQhsM6qisVj"
   },
   "source": [
    "# Support vector machine"
   ]
  },
  {
   "cell_type": "code",
   "execution_count": 28,
   "metadata": {
    "ExecuteTime": {
     "end_time": "2019-05-21T10:49:27.308632Z",
     "start_time": "2019-05-21T10:39:04.167258Z"
    },
    "colab": {},
    "colab_type": "code",
    "id": "Plh9xoVyisVj"
   },
   "outputs": [
    {
     "name": "stderr",
     "output_type": "stream",
     "text": [
      "C:\\Users\\ASUS\\anaconda3\\Lib\\site-packages\\sklearn\\utils\\validation.py:1310: DataConversionWarning: A column-vector y was passed when a 1d array was expected. Please change the shape of y to (n_samples, ), for example using ravel().\n",
      "  y = column_or_1d(y, warn=True)\n"
     ]
    },
    {
     "name": "stdout",
     "output_type": "stream",
     "text": [
      "                                                   precision    recall  f1-score   support\n",
      "\n",
      "                              alcoholic beverages       1.00      0.74      0.85        93\n",
      "                  animal by-products - (obsolete)       1.00      0.27      0.43        11\n",
      "                    animal nutrition - (obsolete)       0.91      0.70      0.79       138\n",
      "            bivalve molluscs and products thereof       0.74      0.63      0.68       490\n",
      "                 cephalopods and products thereof       0.73      0.40      0.52       164\n",
      "                      cereals and bakery products       0.76      0.76      0.76      1369\n",
      "     cocoa and cocoa preparations, coffee and tea       0.91      0.78      0.84       644\n",
      "                                   compound feeds       0.99      0.80      0.88       196\n",
      "                                    confectionery       0.91      0.68      0.77       548\n",
      "                 crustaceans and products thereof       0.74      0.54      0.62       478\n",
      "dietetic foods, food supplements, fortified foods       0.90      0.94      0.92      3378\n",
      "                            eggs and egg products       0.94      0.77      0.85       304\n",
      "                                    fats and oils       0.91      0.83      0.87       400\n",
      "                                   feed additives       1.00      0.90      0.95       258\n",
      "     feed for food-producing animals - (obsolete)       0.89      0.69      0.78       123\n",
      "                                   feed materials       0.74      0.71      0.73       832\n",
      "                                 feed premixtures       1.00      0.83      0.91        76\n",
      "                           fish and fish products       0.71      0.86      0.78      2365\n",
      "                   food additives and flavourings       0.99      0.84      0.91       161\n",
      "                           food contact materials       0.84      0.91      0.87      2169\n",
      "                            fruits and vegetables       0.79      0.84      0.81      3864\n",
      "                                       gastropods       1.00      0.41      0.58        17\n",
      "                                 herbs and spices       0.85      0.78      0.81      1662\n",
      "                            honey and royal jelly       0.96      0.56      0.71       126\n",
      "                                ices and desserts       1.00      0.61      0.76        90\n",
      "      meat and meat products (other than poultry)       0.69      0.75      0.72      1445\n",
      "                           milk and milk products       0.84      0.79      0.81       722\n",
      "       molluscs and products thereof - (obsolete)       0.78      0.53      0.63        55\n",
      "                            natural mineral water       0.83      0.50      0.62        38\n",
      "                          non-alcoholic beverages       0.94      0.48      0.64       210\n",
      "                     nuts, nut products and seeds       0.75      0.84      0.79      3042\n",
      "                       other food product / mixed       0.99      0.74      0.85       432\n",
      "                                         pet food       0.88      0.66      0.75       390\n",
      "           poultry meat and poultry meat products       0.72      0.80      0.76       995\n",
      "                       prepared dishes and snacks       0.89      0.73      0.80       501\n",
      "             soups, broths, sauces and condiments       0.93      0.71      0.81       486\n",
      "              water for human consumption (other)       1.00      0.61      0.76        18\n",
      "                                             wine       1.00      0.31      0.48        16\n",
      "\n",
      "                                         accuracy                           0.81     28306\n",
      "                                        macro avg       0.88      0.69      0.76     28306\n",
      "                                     weighted avg       0.81      0.81      0.81     28306\n",
      "\n"
     ]
    }
   ],
   "source": [
    "clf = svm.SVC()\n",
    "clf = clf.fit(X_train,y_train)\n",
    "y_pred = clf.predict(X_test)\n",
    "print(classification_report(y_test,y_pred))"
   ]
  },
  {
   "cell_type": "code",
   "execution_count": 29,
   "metadata": {
    "ExecuteTime": {
     "end_time": "2019-05-21T10:52:09.655716Z",
     "start_time": "2019-05-21T10:49:27.308632Z"
    },
    "colab": {},
    "colab_type": "code",
    "id": "UDf4VXGkisVm"
   },
   "outputs": [
    {
     "data": {
      "text/plain": [
       "0.8068607362396665"
      ]
     },
     "execution_count": 29,
     "metadata": {},
     "output_type": "execute_result"
    }
   ],
   "source": [
    "clf.score(X_test, y_test)"
   ]
  },
  {
   "cell_type": "markdown",
   "metadata": {
    "colab_type": "text",
    "id": "9YFnh1NmisVo"
   },
   "source": [
    "# Boosted Trees"
   ]
  },
  {
   "cell_type": "code",
   "execution_count": 30,
   "metadata": {
    "ExecuteTime": {
     "end_time": "2019-05-21T10:57:28.233875Z",
     "start_time": "2019-05-21T10:54:53.079659Z"
    },
    "colab": {},
    "colab_type": "code",
    "id": "b5FvzrKaisVp",
    "outputId": "31806fe8-5ef9-492a-dccb-2565db02a53a",
    "scrolled": true
   },
   "outputs": [
    {
     "name": "stderr",
     "output_type": "stream",
     "text": [
      "C:\\Users\\ASUS\\anaconda3\\Lib\\site-packages\\sklearn\\preprocessing\\_label.py:114: DataConversionWarning: A column-vector y was passed when a 1d array was expected. Please change the shape of y to (n_samples, ), for example using ravel().\n",
      "  y = column_or_1d(y, warn=True)\n"
     ]
    },
    {
     "name": "stdout",
     "output_type": "stream",
     "text": [
      "                                                   precision    recall  f1-score   support\n",
      "\n",
      "                              alcoholic beverages       0.95      0.78      0.86        93\n",
      "                  animal by-products - (obsolete)       0.46      0.55      0.50        11\n",
      "                    animal nutrition - (obsolete)       0.81      0.49      0.61       138\n",
      "            bivalve molluscs and products thereof       0.69      0.43      0.53       490\n",
      "                 cephalopods and products thereof       0.63      0.47      0.54       164\n",
      "                      cereals and bakery products       0.60      0.33      0.43      1369\n",
      "     cocoa and cocoa preparations, coffee and tea       0.91      0.54      0.68       644\n",
      "                                   compound feeds       0.90      0.82      0.86       196\n",
      "                                    confectionery       0.88      0.49      0.63       548\n",
      "                 crustaceans and products thereof       0.64      0.41      0.50       478\n",
      "dietetic foods, food supplements, fortified foods       0.71      0.77      0.74      3378\n",
      "                            eggs and egg products       0.95      0.81      0.88       304\n",
      "                                    fats and oils       0.84      0.74      0.79       400\n",
      "                                   feed additives       0.89      0.85      0.87       258\n",
      "     feed for food-producing animals - (obsolete)       0.60      0.59      0.60       123\n",
      "                                   feed materials       0.73      0.38      0.50       832\n",
      "                                 feed premixtures       0.88      0.75      0.81        76\n",
      "                           fish and fish products       0.51      0.64      0.57      2365\n",
      "                   food additives and flavourings       0.92      0.83      0.87       161\n",
      "                           food contact materials       0.62      0.81      0.70      2169\n",
      "                            fruits and vegetables       0.43      0.67      0.52      3864\n",
      "                                       gastropods       0.50      0.41      0.45        17\n",
      "                                 herbs and spices       0.57      0.47      0.51      1662\n",
      "                            honey and royal jelly       0.53      0.47      0.50       126\n",
      "                                ices and desserts       0.72      0.62      0.67        90\n",
      "      meat and meat products (other than poultry)       0.81      0.34      0.48      1445\n",
      "                           milk and milk products       0.62      0.70      0.66       722\n",
      "       molluscs and products thereof - (obsolete)       0.24      0.16      0.20        55\n",
      "                            natural mineral water       0.84      0.55      0.67        38\n",
      "                          non-alcoholic beverages       0.58      0.34      0.43       210\n",
      "                     nuts, nut products and seeds       0.61      0.61      0.61      3042\n",
      "                       other food product / mixed       0.92      0.68      0.78       432\n",
      "                                         pet food       0.87      0.57      0.69       390\n",
      "           poultry meat and poultry meat products       0.52      0.62      0.57       995\n",
      "                       prepared dishes and snacks       0.92      0.61      0.73       501\n",
      "             soups, broths, sauces and condiments       0.89      0.58      0.70       486\n",
      "              water for human consumption (other)       0.31      0.22      0.26        18\n",
      "                                             wine       0.69      0.56      0.62        16\n",
      "\n",
      "                                         accuracy                           0.61     28306\n",
      "                                        macro avg       0.70      0.57      0.62     28306\n",
      "                                     weighted avg       0.65      0.61      0.61     28306\n",
      "\n"
     ]
    }
   ],
   "source": [
    "clf = GradientBoostingClassifier()\n",
    "clf = clf.fit(X_train,y_train)\n",
    "y_pred = clf.predict(X_test)\n",
    "print(classification_report(y_test,y_pred))"
   ]
  },
  {
   "cell_type": "code",
   "execution_count": 31,
   "metadata": {
    "ExecuteTime": {
     "end_time": "2019-05-21T10:57:29.141447Z",
     "start_time": "2019-05-21T10:57:28.234898Z"
    },
    "colab": {},
    "colab_type": "code",
    "id": "f1hssRFlisVs",
    "outputId": "6c2a91d4-35d1-4adc-db09-ff305c58b8ba"
   },
   "outputs": [
    {
     "data": {
      "text/plain": [
       "0.6090228220165336"
      ]
     },
     "execution_count": 31,
     "metadata": {},
     "output_type": "execute_result"
    }
   ],
   "source": [
    "clf.score(X_test, y_test)"
   ]
  },
  {
   "cell_type": "code",
   "execution_count": 32,
   "metadata": {
    "ExecuteTime": {
     "end_time": "2019-05-21T10:32:25.762313Z",
     "start_time": "2019-05-21T10:32:11.447315Z"
    },
    "colab": {},
    "colab_type": "code",
    "id": "qr2xZEjHisVx",
    "outputId": "7711cc1c-e56b-4f03-cbbf-53cb0becd70e",
    "scrolled": true
   },
   "outputs": [
    {
     "name": "stderr",
     "output_type": "stream",
     "text": [
      "C:\\Users\\ASUS\\anaconda3\\Lib\\site-packages\\sklearn\\utils\\validation.py:1310: DataConversionWarning: A column-vector y was passed when a 1d array was expected. Please change the shape of y to (n_samples, ), for example using ravel().\n",
      "  y = column_or_1d(y, warn=True)\n",
      "C:\\Users\\ASUS\\anaconda3\\Lib\\site-packages\\sklearn\\ensemble\\_weight_boosting.py:527: FutureWarning: The SAMME.R algorithm (the default) is deprecated and will be removed in 1.6. Use the SAMME algorithm to circumvent this warning.\n",
      "  warnings.warn(\n",
      "C:\\Users\\ASUS\\anaconda3\\Lib\\site-packages\\sklearn\\metrics\\_classification.py:1517: UndefinedMetricWarning: Precision is ill-defined and being set to 0.0 in labels with no predicted samples. Use `zero_division` parameter to control this behavior.\n",
      "  _warn_prf(average, modifier, f\"{metric.capitalize()} is\", len(result))\n",
      "C:\\Users\\ASUS\\anaconda3\\Lib\\site-packages\\sklearn\\metrics\\_classification.py:1517: UndefinedMetricWarning: Precision is ill-defined and being set to 0.0 in labels with no predicted samples. Use `zero_division` parameter to control this behavior.\n",
      "  _warn_prf(average, modifier, f\"{metric.capitalize()} is\", len(result))\n"
     ]
    },
    {
     "name": "stdout",
     "output_type": "stream",
     "text": [
      "                                                   precision    recall  f1-score   support\n",
      "\n",
      "                              alcoholic beverages       0.71      0.29      0.41        93\n",
      "                  animal by-products - (obsolete)       0.00      0.00      0.00        11\n",
      "                    animal nutrition - (obsolete)       0.00      0.00      0.00       138\n",
      "            bivalve molluscs and products thereof       0.50      0.00      0.00       490\n",
      "                 cephalopods and products thereof       0.00      0.00      0.00       164\n",
      "                      cereals and bakery products       0.17      0.00      0.00      1369\n",
      "     cocoa and cocoa preparations, coffee and tea       0.93      0.02      0.04       644\n",
      "                                   compound feeds       0.90      0.58      0.70       196\n",
      "                                    confectionery       0.67      0.01      0.01       548\n",
      "                 crustaceans and products thereof       0.00      0.00      0.00       478\n",
      "dietetic foods, food supplements, fortified foods       0.25      0.72      0.37      3378\n",
      "                            eggs and egg products       0.94      0.50      0.65       304\n",
      "                                    fats and oils       0.00      0.00      0.00       400\n",
      "                                   feed additives       0.94      0.50      0.65       258\n",
      "     feed for food-producing animals - (obsolete)       0.80      0.20      0.31       123\n",
      "                                   feed materials       0.50      0.00      0.00       832\n",
      "                                 feed premixtures       0.71      0.61      0.65        76\n",
      "                           fish and fish products       0.31      0.33      0.32      2365\n",
      "                   food additives and flavourings       0.59      0.45      0.51       161\n",
      "                           food contact materials       0.41      0.55      0.47      2169\n",
      "                            fruits and vegetables       0.19      0.52      0.28      3864\n",
      "                                       gastropods       0.00      0.00      0.00        17\n",
      "                                 herbs and spices       0.00      0.00      0.00      1662\n",
      "                            honey and royal jelly       0.00      0.00      0.00       126\n",
      "                                ices and desserts       0.00      0.00      0.00        90\n",
      "      meat and meat products (other than poultry)       0.00      0.00      0.00      1445\n",
      "                           milk and milk products       0.50      0.01      0.01       722\n",
      "       molluscs and products thereof - (obsolete)       0.00      0.00      0.00        55\n",
      "                            natural mineral water       0.00      0.00      0.00        38\n",
      "                          non-alcoholic beverages       0.00      0.00      0.00       210\n",
      "                     nuts, nut products and seeds       0.79      0.19      0.31      3042\n",
      "                       other food product / mixed       0.00      0.00      0.00       432\n",
      "                                         pet food       0.00      0.00      0.00       390\n",
      "           poultry meat and poultry meat products       0.40      0.28      0.33       995\n",
      "                       prepared dishes and snacks       0.00      0.00      0.00       501\n",
      "             soups, broths, sauces and condiments       0.00      0.00      0.00       486\n",
      "              water for human consumption (other)       0.54      0.39      0.45        18\n",
      "                                             wine       0.00      0.00      0.00        16\n",
      "\n",
      "                                         accuracy                           0.28     28306\n",
      "                                        macro avg       0.31      0.16      0.17     28306\n",
      "                                     weighted avg       0.33      0.28      0.22     28306\n",
      "\n"
     ]
    },
    {
     "name": "stderr",
     "output_type": "stream",
     "text": [
      "C:\\Users\\ASUS\\anaconda3\\Lib\\site-packages\\sklearn\\metrics\\_classification.py:1517: UndefinedMetricWarning: Precision is ill-defined and being set to 0.0 in labels with no predicted samples. Use `zero_division` parameter to control this behavior.\n",
      "  _warn_prf(average, modifier, f\"{metric.capitalize()} is\", len(result))\n"
     ]
    }
   ],
   "source": [
    "clf = AdaBoostClassifier()\n",
    "clf = clf.fit(X_train,y_train)\n",
    "y_pred = clf.predict(X_test)\n",
    "print(classification_report(y_test,y_pred))"
   ]
  },
  {
   "cell_type": "code",
   "execution_count": 33,
   "metadata": {
    "ExecuteTime": {
     "end_time": "2019-05-21T10:32:26.756654Z",
     "start_time": "2019-05-21T10:32:25.764308Z"
    },
    "colab": {},
    "colab_type": "code",
    "id": "L-mqg9-yisV0",
    "outputId": "c24163b3-6e8f-40ad-ce3d-28b569e25413"
   },
   "outputs": [
    {
     "data": {
      "text/plain": [
       "0.2779622694835017"
      ]
     },
     "execution_count": 33,
     "metadata": {},
     "output_type": "execute_result"
    }
   ],
   "source": [
    "clf.score(X_test, y_test)"
   ]
  },
  {
   "cell_type": "markdown",
   "metadata": {
    "colab_type": "text",
    "id": "BKnWF9WrisV3"
   },
   "source": [
    "# Nearest centroid"
   ]
  },
  {
   "cell_type": "code",
   "execution_count": 34,
   "metadata": {
    "ExecuteTime": {
     "end_time": "2019-04-24T09:08:16.746824Z",
     "start_time": "2019-04-24T09:08:16.312788Z"
    },
    "colab": {},
    "colab_type": "code",
    "id": "evlfpeLcisV4",
    "outputId": "c1e5e2f0-cba4-4a43-8625-ba3ebeab041f",
    "scrolled": true
   },
   "outputs": [
    {
     "name": "stderr",
     "output_type": "stream",
     "text": [
      "C:\\Users\\ASUS\\anaconda3\\Lib\\site-packages\\sklearn\\utils\\validation.py:1310: DataConversionWarning: A column-vector y was passed when a 1d array was expected. Please change the shape of y to (n_samples, ), for example using ravel().\n",
      "  y = column_or_1d(y, warn=True)\n"
     ]
    },
    {
     "name": "stdout",
     "output_type": "stream",
     "text": [
      "                                                   precision    recall  f1-score   support\n",
      "\n",
      "                              alcoholic beverages       0.08      0.37      0.12        93\n",
      "                  animal by-products - (obsolete)       0.02      0.45      0.03        11\n",
      "                    animal nutrition - (obsolete)       0.04      0.67      0.08       138\n",
      "            bivalve molluscs and products thereof       0.13      0.23      0.16       490\n",
      "                 cephalopods and products thereof       0.07      0.40      0.12       164\n",
      "                      cereals and bakery products       0.52      0.02      0.03      1369\n",
      "     cocoa and cocoa preparations, coffee and tea       0.29      0.02      0.04       644\n",
      "                                   compound feeds       0.23      0.59      0.33       196\n",
      "                                    confectionery       0.07      0.02      0.03       548\n",
      "                 crustaceans and products thereof       0.18      0.18      0.18       478\n",
      "dietetic foods, food supplements, fortified foods       0.69      0.36      0.48      3378\n",
      "                            eggs and egg products       0.23      0.51      0.32       304\n",
      "                                    fats and oils       0.78      0.21      0.33       400\n",
      "                                   feed additives       0.30      0.60      0.40       258\n",
      "     feed for food-producing animals - (obsolete)       0.04      0.46      0.08       123\n",
      "                                   feed materials       0.18      0.16      0.17       832\n",
      "                                 feed premixtures       0.03      0.54      0.06        76\n",
      "                           fish and fish products       0.57      0.10      0.17      2365\n",
      "                   food additives and flavourings       0.12      0.19      0.15       161\n",
      "                           food contact materials       0.50      0.43      0.46      2169\n",
      "                            fruits and vegetables       0.54      0.13      0.20      3864\n",
      "                                       gastropods       0.03      0.53      0.07        17\n",
      "                                 herbs and spices       0.32      0.06      0.10      1662\n",
      "                            honey and royal jelly       0.05      0.36      0.09       126\n",
      "                                ices and desserts       0.03      0.30      0.05        90\n",
      "      meat and meat products (other than poultry)       0.18      0.01      0.02      1445\n",
      "                           milk and milk products       0.30      0.54      0.38       722\n",
      "       molluscs and products thereof - (obsolete)       0.02      0.47      0.04        55\n",
      "                            natural mineral water       0.02      0.21      0.03        38\n",
      "                          non-alcoholic beverages       0.14      0.04      0.07       210\n",
      "                     nuts, nut products and seeds       0.47      0.38      0.42      3042\n",
      "                       other food product / mixed       0.07      0.33      0.12       432\n",
      "                                         pet food       0.52      0.29      0.37       390\n",
      "           poultry meat and poultry meat products       0.41      0.35      0.38       995\n",
      "                       prepared dishes and snacks       0.17      0.23      0.19       501\n",
      "             soups, broths, sauces and condiments       0.51      0.08      0.14       486\n",
      "              water for human consumption (other)       0.03      0.72      0.06        18\n",
      "                                             wine       0.01      0.12      0.02        16\n",
      "\n",
      "                                         accuracy                           0.24     28306\n",
      "                                        macro avg       0.23      0.31      0.17     28306\n",
      "                                     weighted avg       0.43      0.24      0.25     28306\n",
      "\n"
     ]
    }
   ],
   "source": [
    "clf = NearestCentroid()\n",
    "clf = clf.fit(X_train,y_train)\n",
    "y_pred = clf.predict(X_test)\n",
    "print(classification_report(y_test,y_pred))"
   ]
  },
  {
   "cell_type": "code",
   "execution_count": 35,
   "metadata": {
    "ExecuteTime": {
     "end_time": "2019-04-24T09:08:18.469337Z",
     "start_time": "2019-04-24T09:08:18.408501Z"
    },
    "colab": {},
    "colab_type": "code",
    "id": "vpaGkoIcisV7",
    "outputId": "f0c81516-0e9d-4390-82e3-b45e56ad0563"
   },
   "outputs": [
    {
     "data": {
      "text/plain": [
       "0.2357450717162439"
      ]
     },
     "execution_count": 35,
     "metadata": {},
     "output_type": "execute_result"
    }
   ],
   "source": [
    "clf.score(X_test, y_test)"
   ]
  },
  {
   "cell_type": "markdown",
   "metadata": {
    "colab_type": "text",
    "id": "7QfrRy84isV_"
   },
   "source": [
    "# Nearest neighbor"
   ]
  },
  {
   "cell_type": "code",
   "execution_count": 36,
   "metadata": {
    "ExecuteTime": {
     "end_time": "2019-04-01T10:20:35.880699Z",
     "start_time": "2019-04-01T10:19:34.213349Z"
    },
    "colab": {},
    "colab_type": "code",
    "id": "3-N-dcRsisV_",
    "outputId": "bc6f75eb-cec9-4dbe-ede7-f4dd8e298886",
    "scrolled": true
   },
   "outputs": [
    {
     "name": "stderr",
     "output_type": "stream",
     "text": [
      "C:\\Users\\ASUS\\anaconda3\\Lib\\site-packages\\sklearn\\neighbors\\_classification.py:238: DataConversionWarning: A column-vector y was passed when a 1d array was expected. Please change the shape of y to (n_samples,), for example using ravel().\n",
      "  return self._fit(X, y)\n"
     ]
    },
    {
     "name": "stdout",
     "output_type": "stream",
     "text": [
      "                                                   precision    recall  f1-score   support\n",
      "\n",
      "                              alcoholic beverages       0.57      0.80      0.66        93\n",
      "                  animal by-products - (obsolete)       0.67      0.73      0.70        11\n",
      "                    animal nutrition - (obsolete)       0.58      0.74      0.65       138\n",
      "            bivalve molluscs and products thereof       0.60      0.68      0.63       490\n",
      "                 cephalopods and products thereof       0.46      0.48      0.47       164\n",
      "                      cereals and bakery products       0.66      0.75      0.71      1369\n",
      "     cocoa and cocoa preparations, coffee and tea       0.68      0.81      0.74       644\n",
      "                                   compound feeds       0.87      0.84      0.86       196\n",
      "                                    confectionery       0.69      0.74      0.71       548\n",
      "                 crustaceans and products thereof       0.59      0.63      0.61       478\n",
      "dietetic foods, food supplements, fortified foods       0.87      0.94      0.90      3378\n",
      "                            eggs and egg products       0.84      0.82      0.83       304\n",
      "                                    fats and oils       0.85      0.82      0.84       400\n",
      "                                   feed additives       0.88      0.92      0.90       258\n",
      "     feed for food-producing animals - (obsolete)       0.63      0.64      0.63       123\n",
      "                                   feed materials       0.71      0.66      0.68       832\n",
      "                                 feed premixtures       0.90      0.84      0.87        76\n",
      "                           fish and fish products       0.74      0.78      0.76      2365\n",
      "                   food additives and flavourings       0.90      0.86      0.88       161\n",
      "                           food contact materials       0.81      0.88      0.84      2169\n",
      "                            fruits and vegetables       0.78      0.77      0.78      3864\n",
      "                                       gastropods       0.88      0.41      0.56        17\n",
      "                                 herbs and spices       0.80      0.74      0.77      1662\n",
      "                            honey and royal jelly       0.68      0.63      0.66       126\n",
      "                                ices and desserts       0.87      0.64      0.74        90\n",
      "      meat and meat products (other than poultry)       0.76      0.67      0.71      1445\n",
      "                           milk and milk products       0.84      0.79      0.81       722\n",
      "       molluscs and products thereof - (obsolete)       0.50      0.47      0.49        55\n",
      "                            natural mineral water       0.81      0.58      0.68        38\n",
      "                          non-alcoholic beverages       0.66      0.51      0.57       210\n",
      "                     nuts, nut products and seeds       0.79      0.75      0.77      3042\n",
      "                       other food product / mixed       0.90      0.75      0.82       432\n",
      "                                         pet food       0.79      0.66      0.72       390\n",
      "           poultry meat and poultry meat products       0.77      0.70      0.73       995\n",
      "                       prepared dishes and snacks       0.88      0.71      0.79       501\n",
      "             soups, broths, sauces and condiments       0.84      0.71      0.77       486\n",
      "              water for human consumption (other)       0.71      0.56      0.62        18\n",
      "                                             wine       1.00      0.31      0.48        16\n",
      "\n",
      "                                         accuracy                           0.77     28306\n",
      "                                        macro avg       0.76      0.70      0.72     28306\n",
      "                                     weighted avg       0.78      0.77      0.77     28306\n",
      "\n"
     ]
    }
   ],
   "source": [
    "clf = neighbors.KNeighborsClassifier()\n",
    "clf = clf.fit(X_train,y_train)\n",
    "y_pred = clf.predict(X_test)\n",
    "print(classification_report(y_test,y_pred))"
   ]
  },
  {
   "cell_type": "code",
   "execution_count": 37,
   "metadata": {
    "ExecuteTime": {
     "end_time": "2019-04-01T10:21:46.078806Z",
     "start_time": "2019-04-01T10:20:45.397515Z"
    },
    "colab": {},
    "colab_type": "code",
    "id": "1o0BnRO4isWB",
    "outputId": "20a983cd-e31f-43f2-9b07-3e4fa10be1a7"
   },
   "outputs": [
    {
     "data": {
      "text/plain": [
       "0.7741821521938812"
      ]
     },
     "execution_count": 37,
     "metadata": {},
     "output_type": "execute_result"
    }
   ],
   "source": [
    "clf.score(X_test, y_test)"
   ]
  },
  {
   "cell_type": "markdown",
   "metadata": {
    "colab_type": "text",
    "id": "8qAIFZa4isWD"
   },
   "source": [
    "# MLP sin embeddings"
   ]
  },
  {
   "cell_type": "code",
   "execution_count": 38,
   "metadata": {
    "ExecuteTime": {
     "end_time": "2019-03-08T12:41:51.654502Z",
     "start_time": "2019-03-08T12:41:51.628544Z"
    },
    "colab": {},
    "colab_type": "code",
    "id": "6fBjCvu7isWE",
    "outputId": "a4a9476c-710b-40c9-fe6f-2faf577deb3c"
   },
   "outputs": [
    {
     "name": "stderr",
     "output_type": "stream",
     "text": [
      "C:\\Users\\ASUS\\anaconda3\\Lib\\site-packages\\sklearn\\preprocessing\\_label.py:97: DataConversionWarning: A column-vector y was passed when a 1d array was expected. Please change the shape of y to (n_samples, ), for example using ravel().\n",
      "  y = column_or_1d(y, warn=True)\n",
      "C:\\Users\\ASUS\\anaconda3\\Lib\\site-packages\\sklearn\\preprocessing\\_label.py:132: DataConversionWarning: A column-vector y was passed when a 1d array was expected. Please change the shape of y to (n_samples, ), for example using ravel().\n",
      "  y = column_or_1d(y, dtype=self.classes_.dtype, warn=True)\n"
     ]
    },
    {
     "data": {
      "text/plain": [
       "array([[0., 0., 0., ..., 0., 0., 0.],\n",
       "       [0., 0., 0., ..., 0., 0., 0.],\n",
       "       [0., 0., 0., ..., 0., 0., 0.],\n",
       "       ...,\n",
       "       [0., 0., 0., ..., 0., 0., 0.],\n",
       "       [0., 0., 0., ..., 0., 0., 0.],\n",
       "       [0., 0., 0., ..., 0., 0., 0.]])"
      ]
     },
     "metadata": {},
     "output_type": "display_data"
    }
   ],
   "source": [
    "le = preprocessing.LabelEncoder()\n",
    "le.fit(y_train.values)\n",
    "Y_train_label = le.transform(y_train.values) \n",
    "y_train = to_categorical(Y_train_label)\n",
    "display(y_train)"
   ]
  },
  {
   "cell_type": "code",
   "execution_count": 39,
   "metadata": {
    "ExecuteTime": {
     "end_time": "2019-03-08T12:41:52.253488Z",
     "start_time": "2019-03-08T12:41:52.244506Z"
    },
    "colab": {},
    "colab_type": "code",
    "id": "ECbZ8AYEisWH",
    "outputId": "45543cf6-bd9b-4a1f-b763-ec577bc36a18"
   },
   "outputs": [
    {
     "name": "stderr",
     "output_type": "stream",
     "text": [
      "C:\\Users\\ASUS\\anaconda3\\Lib\\site-packages\\sklearn\\preprocessing\\_label.py:132: DataConversionWarning: A column-vector y was passed when a 1d array was expected. Please change the shape of y to (n_samples, ), for example using ravel().\n",
      "  y = column_or_1d(y, dtype=self.classes_.dtype, warn=True)\n"
     ]
    },
    {
     "data": {
      "text/plain": [
       "array([[0., 0., 0., ..., 0., 0., 0.],\n",
       "       [0., 0., 0., ..., 0., 0., 0.],\n",
       "       [0., 0., 0., ..., 0., 0., 0.],\n",
       "       ...,\n",
       "       [0., 0., 0., ..., 0., 0., 0.],\n",
       "       [0., 0., 0., ..., 0., 0., 0.],\n",
       "       [0., 0., 0., ..., 0., 0., 0.]])"
      ]
     },
     "metadata": {},
     "output_type": "display_data"
    }
   ],
   "source": [
    "y_test_label = le.transform(y_test.values) \n",
    "y_test = to_categorical(y_test_label)\n",
    "display(y_test)"
   ]
  },
  {
   "cell_type": "code",
   "execution_count": 40,
   "metadata": {
    "colab": {},
    "colab_type": "code",
    "id": "dQgT0j0fisWX"
   },
   "outputs": [
    {
     "name": "stderr",
     "output_type": "stream",
     "text": [
      "C:\\Users\\ASUS\\anaconda3\\Lib\\site-packages\\keras\\src\\layers\\core\\dense.py:87: UserWarning: Do not pass an `input_shape`/`input_dim` argument to a layer. When using Sequential models, prefer using an `Input(shape)` object as the first layer in the model instead.\n",
      "  super().__init__(activity_regularizer=activity_regularizer, **kwargs)\n"
     ]
    }
   ],
   "source": [
    "model = Sequential() \n",
    "model.add(Dense(300, activation='relu', input_dim=4222))\n",
    "model.add(Dense(200, activation='relu'))\n",
    "model.add(Dense(100, activation='relu'))\n",
    "model.add(Dense(38)) \n",
    "optimizer = RMSprop(learning_rate=0.001)\n",
    "model.compile(optimizer=optimizer, loss='mean_squared_error', metrics= ['accuracy'])"
   ]
  },
  {
   "cell_type": "code",
   "execution_count": 41,
   "metadata": {},
   "outputs": [
    {
     "name": "stdout",
     "output_type": "stream",
     "text": [
      "(113223, 4222)\n",
      "(28306, 4222)\n"
     ]
    }
   ],
   "source": [
    "print(X_train.shape)  # Should be (num_samples, 351)\n",
    "print(X_test.shape)"
   ]
  },
  {
   "cell_type": "code",
   "execution_count": 42,
   "metadata": {
    "colab": {},
    "colab_type": "code",
    "id": "sHepGhskisWZ",
    "outputId": "4a0b37b8-b4e5-4458-904e-4952b923a63b",
    "scrolled": true
   },
   "outputs": [
    {
     "name": "stdout",
     "output_type": "stream",
     "text": [
      "Epoch 1/70\n",
      "\u001b[1m944/944\u001b[0m \u001b[32m━━━━━━━━━━━━━━━━━━━━\u001b[0m\u001b[37m\u001b[0m \u001b[1m34s\u001b[0m 26ms/step - accuracy: 0.2951 - loss: 0.0225 - val_accuracy: 0.4598 - val_loss: 0.0186\n",
      "Epoch 2/70\n",
      "\u001b[1m944/944\u001b[0m \u001b[32m━━━━━━━━━━━━━━━━━━━━\u001b[0m\u001b[37m\u001b[0m \u001b[1m17s\u001b[0m 18ms/step - accuracy: 0.4866 - loss: 0.0180 - val_accuracy: 0.5431 - val_loss: 0.0165\n",
      "Epoch 3/70\n",
      "\u001b[1m944/944\u001b[0m \u001b[32m━━━━━━━━━━━━━━━━━━━━\u001b[0m\u001b[37m\u001b[0m \u001b[1m12s\u001b[0m 12ms/step - accuracy: 0.5629 - loss: 0.0160 - val_accuracy: 0.5941 - val_loss: 0.0153\n",
      "Epoch 4/70\n",
      "\u001b[1m944/944\u001b[0m \u001b[32m━━━━━━━━━━━━━━━━━━━━\u001b[0m\u001b[37m\u001b[0m \u001b[1m12s\u001b[0m 12ms/step - accuracy: 0.6185 - loss: 0.0145 - val_accuracy: 0.6322 - val_loss: 0.0141\n",
      "Epoch 5/70\n",
      "\u001b[1m944/944\u001b[0m \u001b[32m━━━━━━━━━━━━━━━━━━━━\u001b[0m\u001b[37m\u001b[0m \u001b[1m11s\u001b[0m 11ms/step - accuracy: 0.6604 - loss: 0.0134 - val_accuracy: 0.6527 - val_loss: 0.0141\n",
      "Epoch 6/70\n",
      "\u001b[1m944/944\u001b[0m \u001b[32m━━━━━━━━━━━━━━━━━━━━\u001b[0m\u001b[37m\u001b[0m \u001b[1m11s\u001b[0m 12ms/step - accuracy: 0.6936 - loss: 0.0123 - val_accuracy: 0.6811 - val_loss: 0.0125\n",
      "Epoch 7/70\n",
      "\u001b[1m944/944\u001b[0m \u001b[32m━━━━━━━━━━━━━━━━━━━━\u001b[0m\u001b[37m\u001b[0m \u001b[1m12s\u001b[0m 12ms/step - accuracy: 0.7211 - loss: 0.0115 - val_accuracy: 0.7000 - val_loss: 0.0121\n",
      "Epoch 8/70\n",
      "\u001b[1m944/944\u001b[0m \u001b[32m━━━━━━━━━━━━━━━━━━━━\u001b[0m\u001b[37m\u001b[0m \u001b[1m12s\u001b[0m 12ms/step - accuracy: 0.7464 - loss: 0.0107 - val_accuracy: 0.7112 - val_loss: 0.0116\n",
      "Epoch 9/70\n",
      "\u001b[1m944/944\u001b[0m \u001b[32m━━━━━━━━━━━━━━━━━━━━\u001b[0m\u001b[37m\u001b[0m \u001b[1m12s\u001b[0m 13ms/step - accuracy: 0.7689 - loss: 0.0100 - val_accuracy: 0.7236 - val_loss: 0.0113\n",
      "Epoch 10/70\n",
      "\u001b[1m944/944\u001b[0m \u001b[32m━━━━━━━━━━━━━━━━━━━━\u001b[0m\u001b[37m\u001b[0m \u001b[1m11s\u001b[0m 11ms/step - accuracy: 0.7890 - loss: 0.0093 - val_accuracy: 0.7418 - val_loss: 0.0106\n",
      "Epoch 11/70\n",
      "\u001b[1m944/944\u001b[0m \u001b[32m━━━━━━━━━━━━━━━━━━━━\u001b[0m\u001b[37m\u001b[0m \u001b[1m10s\u001b[0m 11ms/step - accuracy: 0.8057 - loss: 0.0087 - val_accuracy: 0.7531 - val_loss: 0.0103\n",
      "Epoch 12/70\n",
      "\u001b[1m944/944\u001b[0m \u001b[32m━━━━━━━━━━━━━━━━━━━━\u001b[0m\u001b[37m\u001b[0m \u001b[1m10s\u001b[0m 11ms/step - accuracy: 0.8201 - loss: 0.0082 - val_accuracy: 0.7592 - val_loss: 0.0102\n",
      "Epoch 13/70\n",
      "\u001b[1m944/944\u001b[0m \u001b[32m━━━━━━━━━━━━━━━━━━━━\u001b[0m\u001b[37m\u001b[0m \u001b[1m12s\u001b[0m 13ms/step - accuracy: 0.8340 - loss: 0.0077 - val_accuracy: 0.7716 - val_loss: 0.0096\n",
      "Epoch 14/70\n",
      "\u001b[1m944/944\u001b[0m \u001b[32m━━━━━━━━━━━━━━━━━━━━\u001b[0m\u001b[37m\u001b[0m \u001b[1m12s\u001b[0m 12ms/step - accuracy: 0.8478 - loss: 0.0072 - val_accuracy: 0.7756 - val_loss: 0.0095\n",
      "Epoch 15/70\n",
      "\u001b[1m944/944\u001b[0m \u001b[32m━━━━━━━━━━━━━━━━━━━━\u001b[0m\u001b[37m\u001b[0m \u001b[1m11s\u001b[0m 11ms/step - accuracy: 0.8581 - loss: 0.0068 - val_accuracy: 0.7807 - val_loss: 0.0094\n",
      "Epoch 16/70\n",
      "\u001b[1m944/944\u001b[0m \u001b[32m━━━━━━━━━━━━━━━━━━━━\u001b[0m\u001b[37m\u001b[0m \u001b[1m10s\u001b[0m 11ms/step - accuracy: 0.8679 - loss: 0.0064 - val_accuracy: 0.7834 - val_loss: 0.0092\n",
      "Epoch 17/70\n",
      "\u001b[1m944/944\u001b[0m \u001b[32m━━━━━━━━━━━━━━━━━━━━\u001b[0m\u001b[37m\u001b[0m \u001b[1m10s\u001b[0m 10ms/step - accuracy: 0.8799 - loss: 0.0060 - val_accuracy: 0.7955 - val_loss: 0.0087\n",
      "Epoch 18/70\n",
      "\u001b[1m944/944\u001b[0m \u001b[32m━━━━━━━━━━━━━━━━━━━━\u001b[0m\u001b[37m\u001b[0m \u001b[1m10s\u001b[0m 11ms/step - accuracy: 0.8844 - loss: 0.0057 - val_accuracy: 0.7968 - val_loss: 0.0087\n",
      "Epoch 19/70\n",
      "\u001b[1m944/944\u001b[0m \u001b[32m━━━━━━━━━━━━━━━━━━━━\u001b[0m\u001b[37m\u001b[0m \u001b[1m11s\u001b[0m 11ms/step - accuracy: 0.8951 - loss: 0.0054 - val_accuracy: 0.8041 - val_loss: 0.0083\n",
      "Epoch 20/70\n",
      "\u001b[1m944/944\u001b[0m \u001b[32m━━━━━━━━━━━━━━━━━━━━\u001b[0m\u001b[37m\u001b[0m \u001b[1m11s\u001b[0m 11ms/step - accuracy: 0.9003 - loss: 0.0051 - val_accuracy: 0.8080 - val_loss: 0.0082\n",
      "Epoch 21/70\n",
      "\u001b[1m944/944\u001b[0m \u001b[32m━━━━━━━━━━━━━━━━━━━━\u001b[0m\u001b[37m\u001b[0m \u001b[1m10s\u001b[0m 11ms/step - accuracy: 0.9059 - loss: 0.0048 - val_accuracy: 0.8113 - val_loss: 0.0079\n",
      "Epoch 22/70\n",
      "\u001b[1m944/944\u001b[0m \u001b[32m━━━━━━━━━━━━━━━━━━━━\u001b[0m\u001b[37m\u001b[0m \u001b[1m11s\u001b[0m 12ms/step - accuracy: 0.9128 - loss: 0.0046 - val_accuracy: 0.8143 - val_loss: 0.0078\n",
      "Epoch 23/70\n",
      "\u001b[1m944/944\u001b[0m \u001b[32m━━━━━━━━━━━━━━━━━━━━\u001b[0m\u001b[37m\u001b[0m \u001b[1m11s\u001b[0m 11ms/step - accuracy: 0.9178 - loss: 0.0043 - val_accuracy: 0.8147 - val_loss: 0.0079\n",
      "Epoch 24/70\n",
      "\u001b[1m944/944\u001b[0m \u001b[32m━━━━━━━━━━━━━━━━━━━━\u001b[0m\u001b[37m\u001b[0m \u001b[1m11s\u001b[0m 12ms/step - accuracy: 0.9223 - loss: 0.0041 - val_accuracy: 0.8195 - val_loss: 0.0076\n",
      "Epoch 25/70\n",
      "\u001b[1m944/944\u001b[0m \u001b[32m━━━━━━━━━━━━━━━━━━━━\u001b[0m\u001b[37m\u001b[0m \u001b[1m10s\u001b[0m 11ms/step - accuracy: 0.9257 - loss: 0.0040 - val_accuracy: 0.8140 - val_loss: 0.0080\n",
      "Epoch 26/70\n",
      "\u001b[1m944/944\u001b[0m \u001b[32m━━━━━━━━━━━━━━━━━━━━\u001b[0m\u001b[37m\u001b[0m \u001b[1m11s\u001b[0m 12ms/step - accuracy: 0.9303 - loss: 0.0038 - val_accuracy: 0.8247 - val_loss: 0.0073\n",
      "Epoch 27/70\n",
      "\u001b[1m944/944\u001b[0m \u001b[32m━━━━━━━━━━━━━━━━━━━━\u001b[0m\u001b[37m\u001b[0m \u001b[1m10s\u001b[0m 11ms/step - accuracy: 0.9347 - loss: 0.0036 - val_accuracy: 0.8253 - val_loss: 0.0074\n",
      "Epoch 28/70\n",
      "\u001b[1m944/944\u001b[0m \u001b[32m━━━━━━━━━━━━━━━━━━━━\u001b[0m\u001b[37m\u001b[0m \u001b[1m10s\u001b[0m 11ms/step - accuracy: 0.9373 - loss: 0.0035 - val_accuracy: 0.8300 - val_loss: 0.0074\n",
      "Epoch 29/70\n",
      "\u001b[1m944/944\u001b[0m \u001b[32m━━━━━━━━━━━━━━━━━━━━\u001b[0m\u001b[37m\u001b[0m \u001b[1m9s\u001b[0m 9ms/step - accuracy: 0.9390 - loss: 0.0033 - val_accuracy: 0.8325 - val_loss: 0.0071\n",
      "Epoch 30/70\n",
      "\u001b[1m944/944\u001b[0m \u001b[32m━━━━━━━━━━━━━━━━━━━━\u001b[0m\u001b[37m\u001b[0m \u001b[1m11s\u001b[0m 12ms/step - accuracy: 0.9436 - loss: 0.0032 - val_accuracy: 0.8331 - val_loss: 0.0070\n",
      "Epoch 31/70\n",
      "\u001b[1m944/944\u001b[0m \u001b[32m━━━━━━━━━━━━━━━━━━━━\u001b[0m\u001b[37m\u001b[0m \u001b[1m11s\u001b[0m 11ms/step - accuracy: 0.9460 - loss: 0.0031 - val_accuracy: 0.8332 - val_loss: 0.0071\n",
      "Epoch 32/70\n",
      "\u001b[1m944/944\u001b[0m \u001b[32m━━━━━━━━━━━━━━━━━━━━\u001b[0m\u001b[37m\u001b[0m \u001b[1m11s\u001b[0m 11ms/step - accuracy: 0.9468 - loss: 0.0030 - val_accuracy: 0.8379 - val_loss: 0.0069\n",
      "Epoch 33/70\n",
      "\u001b[1m944/944\u001b[0m \u001b[32m━━━━━━━━━━━━━━━━━━━━\u001b[0m\u001b[37m\u001b[0m \u001b[1m21s\u001b[0m 12ms/step - accuracy: 0.9503 - loss: 0.0029 - val_accuracy: 0.8354 - val_loss: 0.0069\n",
      "Epoch 34/70\n",
      "\u001b[1m944/944\u001b[0m \u001b[32m━━━━━━━━━━━━━━━━━━━━\u001b[0m\u001b[37m\u001b[0m \u001b[1m10s\u001b[0m 11ms/step - accuracy: 0.9527 - loss: 0.0028 - val_accuracy: 0.8375 - val_loss: 0.0068\n",
      "Epoch 35/70\n",
      "\u001b[1m944/944\u001b[0m \u001b[32m━━━━━━━━━━━━━━━━━━━━\u001b[0m\u001b[37m\u001b[0m \u001b[1m12s\u001b[0m 12ms/step - accuracy: 0.9538 - loss: 0.0027 - val_accuracy: 0.8392 - val_loss: 0.0068\n",
      "Epoch 36/70\n",
      "\u001b[1m944/944\u001b[0m \u001b[32m━━━━━━━━━━━━━━━━━━━━\u001b[0m\u001b[37m\u001b[0m \u001b[1m12s\u001b[0m 13ms/step - accuracy: 0.9566 - loss: 0.0025 - val_accuracy: 0.8404 - val_loss: 0.0067\n",
      "Epoch 37/70\n",
      "\u001b[1m944/944\u001b[0m \u001b[32m━━━━━━━━━━━━━━━━━━━━\u001b[0m\u001b[37m\u001b[0m \u001b[1m12s\u001b[0m 12ms/step - accuracy: 0.9585 - loss: 0.0025 - val_accuracy: 0.8435 - val_loss: 0.0066\n",
      "Epoch 38/70\n",
      "\u001b[1m944/944\u001b[0m \u001b[32m━━━━━━━━━━━━━━━━━━━━\u001b[0m\u001b[37m\u001b[0m \u001b[1m11s\u001b[0m 12ms/step - accuracy: 0.9602 - loss: 0.0024 - val_accuracy: 0.8425 - val_loss: 0.0065\n",
      "Epoch 39/70\n",
      "\u001b[1m944/944\u001b[0m \u001b[32m━━━━━━━━━━━━━━━━━━━━\u001b[0m\u001b[37m\u001b[0m \u001b[1m12s\u001b[0m 12ms/step - accuracy: 0.9613 - loss: 0.0023 - val_accuracy: 0.8441 - val_loss: 0.0065\n",
      "Epoch 40/70\n",
      "\u001b[1m944/944\u001b[0m \u001b[32m━━━━━━━━━━━━━━━━━━━━\u001b[0m\u001b[37m\u001b[0m \u001b[1m10s\u001b[0m 11ms/step - accuracy: 0.9619 - loss: 0.0023 - val_accuracy: 0.8440 - val_loss: 0.0066\n",
      "Epoch 41/70\n",
      "\u001b[1m944/944\u001b[0m \u001b[32m━━━━━━━━━━━━━━━━━━━━\u001b[0m\u001b[37m\u001b[0m \u001b[1m12s\u001b[0m 13ms/step - accuracy: 0.9628 - loss: 0.0022 - val_accuracy: 0.8451 - val_loss: 0.0065\n",
      "Epoch 42/70\n",
      "\u001b[1m944/944\u001b[0m \u001b[32m━━━━━━━━━━━━━━━━━━━━\u001b[0m\u001b[37m\u001b[0m \u001b[1m19s\u001b[0m 11ms/step - accuracy: 0.9645 - loss: 0.0022 - val_accuracy: 0.8424 - val_loss: 0.0066\n",
      "Epoch 43/70\n",
      "\u001b[1m944/944\u001b[0m \u001b[32m━━━━━━━━━━━━━━━━━━━━\u001b[0m\u001b[37m\u001b[0m \u001b[1m10s\u001b[0m 10ms/step - accuracy: 0.9652 - loss: 0.0021 - val_accuracy: 0.8471 - val_loss: 0.0064\n",
      "Epoch 44/70\n",
      "\u001b[1m944/944\u001b[0m \u001b[32m━━━━━━━━━━━━━━━━━━━━\u001b[0m\u001b[37m\u001b[0m \u001b[1m11s\u001b[0m 12ms/step - accuracy: 0.9658 - loss: 0.0021 - val_accuracy: 0.8477 - val_loss: 0.0063\n",
      "Epoch 45/70\n",
      "\u001b[1m944/944\u001b[0m \u001b[32m━━━━━━━━━━━━━━━━━━━━\u001b[0m\u001b[37m\u001b[0m \u001b[1m10s\u001b[0m 11ms/step - accuracy: 0.9674 - loss: 0.0020 - val_accuracy: 0.8456 - val_loss: 0.0065\n",
      "Epoch 46/70\n",
      "\u001b[1m944/944\u001b[0m \u001b[32m━━━━━━━━━━━━━━━━━━━━\u001b[0m\u001b[37m\u001b[0m \u001b[1m11s\u001b[0m 11ms/step - accuracy: 0.9673 - loss: 0.0020 - val_accuracy: 0.8466 - val_loss: 0.0064\n",
      "Epoch 47/70\n",
      "\u001b[1m944/944\u001b[0m \u001b[32m━━━━━━━━━━━━━━━━━━━━\u001b[0m\u001b[37m\u001b[0m \u001b[1m12s\u001b[0m 12ms/step - accuracy: 0.9699 - loss: 0.0019 - val_accuracy: 0.8477 - val_loss: 0.0064\n",
      "Epoch 48/70\n",
      "\u001b[1m944/944\u001b[0m \u001b[32m━━━━━━━━━━━━━━━━━━━━\u001b[0m\u001b[37m\u001b[0m \u001b[1m12s\u001b[0m 12ms/step - accuracy: 0.9699 - loss: 0.0019 - val_accuracy: 0.8495 - val_loss: 0.0063\n",
      "Epoch 49/70\n",
      "\u001b[1m944/944\u001b[0m \u001b[32m━━━━━━━━━━━━━━━━━━━━\u001b[0m\u001b[37m\u001b[0m \u001b[1m12s\u001b[0m 13ms/step - accuracy: 0.9706 - loss: 0.0018 - val_accuracy: 0.8500 - val_loss: 0.0062\n",
      "Epoch 50/70\n",
      "\u001b[1m944/944\u001b[0m \u001b[32m━━━━━━━━━━━━━━━━━━━━\u001b[0m\u001b[37m\u001b[0m \u001b[1m12s\u001b[0m 12ms/step - accuracy: 0.9709 - loss: 0.0018 - val_accuracy: 0.8502 - val_loss: 0.0062\n",
      "Epoch 51/70\n",
      "\u001b[1m944/944\u001b[0m \u001b[32m━━━━━━━━━━━━━━━━━━━━\u001b[0m\u001b[37m\u001b[0m \u001b[1m11s\u001b[0m 11ms/step - accuracy: 0.9711 - loss: 0.0018 - val_accuracy: 0.8517 - val_loss: 0.0062\n",
      "Epoch 52/70\n",
      "\u001b[1m944/944\u001b[0m \u001b[32m━━━━━━━━━━━━━━━━━━━━\u001b[0m\u001b[37m\u001b[0m \u001b[1m12s\u001b[0m 13ms/step - accuracy: 0.9725 - loss: 0.0017 - val_accuracy: 0.8518 - val_loss: 0.0061\n",
      "Epoch 53/70\n",
      "\u001b[1m944/944\u001b[0m \u001b[32m━━━━━━━━━━━━━━━━━━━━\u001b[0m\u001b[37m\u001b[0m \u001b[1m11s\u001b[0m 12ms/step - accuracy: 0.9734 - loss: 0.0017 - val_accuracy: 0.8534 - val_loss: 0.0061\n",
      "Epoch 54/70\n",
      "\u001b[1m944/944\u001b[0m \u001b[32m━━━━━━━━━━━━━━━━━━━━\u001b[0m\u001b[37m\u001b[0m \u001b[1m12s\u001b[0m 12ms/step - accuracy: 0.9723 - loss: 0.0017 - val_accuracy: 0.8520 - val_loss: 0.0060\n",
      "Epoch 55/70\n",
      "\u001b[1m944/944\u001b[0m \u001b[32m━━━━━━━━━━━━━━━━━━━━\u001b[0m\u001b[37m\u001b[0m \u001b[1m11s\u001b[0m 12ms/step - accuracy: 0.9737 - loss: 0.0017 - val_accuracy: 0.8519 - val_loss: 0.0061\n",
      "Epoch 56/70\n",
      "\u001b[1m944/944\u001b[0m \u001b[32m━━━━━━━━━━━━━━━━━━━━\u001b[0m\u001b[37m\u001b[0m \u001b[1m11s\u001b[0m 12ms/step - accuracy: 0.9739 - loss: 0.0016 - val_accuracy: 0.8510 - val_loss: 0.0061\n",
      "Epoch 57/70\n",
      "\u001b[1m944/944\u001b[0m \u001b[32m━━━━━━━━━━━━━━━━━━━━\u001b[0m\u001b[37m\u001b[0m \u001b[1m11s\u001b[0m 11ms/step - accuracy: 0.9750 - loss: 0.0016 - val_accuracy: 0.8516 - val_loss: 0.0061\n",
      "Epoch 58/70\n",
      "\u001b[1m944/944\u001b[0m \u001b[32m━━━━━━━━━━━━━━━━━━━━\u001b[0m\u001b[37m\u001b[0m \u001b[1m11s\u001b[0m 12ms/step - accuracy: 0.9751 - loss: 0.0015 - val_accuracy: 0.8526 - val_loss: 0.0061\n",
      "Epoch 59/70\n",
      "\u001b[1m944/944\u001b[0m \u001b[32m━━━━━━━━━━━━━━━━━━━━\u001b[0m\u001b[37m\u001b[0m \u001b[1m11s\u001b[0m 12ms/step - accuracy: 0.9757 - loss: 0.0015 - val_accuracy: 0.8529 - val_loss: 0.0062\n",
      "Epoch 60/70\n",
      "\u001b[1m944/944\u001b[0m \u001b[32m━━━━━━━━━━━━━━━━━━━━\u001b[0m\u001b[37m\u001b[0m \u001b[1m11s\u001b[0m 12ms/step - accuracy: 0.9759 - loss: 0.0015 - val_accuracy: 0.8537 - val_loss: 0.0060\n",
      "Epoch 61/70\n",
      "\u001b[1m944/944\u001b[0m \u001b[32m━━━━━━━━━━━━━━━━━━━━\u001b[0m\u001b[37m\u001b[0m \u001b[1m11s\u001b[0m 12ms/step - accuracy: 0.9768 - loss: 0.0015 - val_accuracy: 0.8525 - val_loss: 0.0060\n",
      "Epoch 62/70\n",
      "\u001b[1m944/944\u001b[0m \u001b[32m━━━━━━━━━━━━━━━━━━━━\u001b[0m\u001b[37m\u001b[0m \u001b[1m11s\u001b[0m 11ms/step - accuracy: 0.9768 - loss: 0.0014 - val_accuracy: 0.8552 - val_loss: 0.0060\n",
      "Epoch 63/70\n",
      "\u001b[1m944/944\u001b[0m \u001b[32m━━━━━━━━━━━━━━━━━━━━\u001b[0m\u001b[37m\u001b[0m \u001b[1m25s\u001b[0m 26ms/step - accuracy: 0.9772 - loss: 0.0014 - val_accuracy: 0.8515 - val_loss: 0.0060\n",
      "Epoch 64/70\n",
      "\u001b[1m944/944\u001b[0m \u001b[32m━━━━━━━━━━━━━━━━━━━━\u001b[0m\u001b[37m\u001b[0m \u001b[1m25s\u001b[0m 27ms/step - accuracy: 0.9771 - loss: 0.0014 - val_accuracy: 0.8540 - val_loss: 0.0059\n",
      "Epoch 65/70\n",
      "\u001b[1m944/944\u001b[0m \u001b[32m━━━━━━━━━━━━━━━━━━━━\u001b[0m\u001b[37m\u001b[0m \u001b[1m19s\u001b[0m 20ms/step - accuracy: 0.9774 - loss: 0.0014 - val_accuracy: 0.8546 - val_loss: 0.0059\n",
      "Epoch 66/70\n",
      "\u001b[1m944/944\u001b[0m \u001b[32m━━━━━━━━━━━━━━━━━━━━\u001b[0m\u001b[37m\u001b[0m \u001b[1m24s\u001b[0m 26ms/step - accuracy: 0.9771 - loss: 0.0014 - val_accuracy: 0.8550 - val_loss: 0.0058\n",
      "Epoch 67/70\n",
      "\u001b[1m944/944\u001b[0m \u001b[32m━━━━━━━━━━━━━━━━━━━━\u001b[0m\u001b[37m\u001b[0m \u001b[1m25s\u001b[0m 26ms/step - accuracy: 0.9773 - loss: 0.0013 - val_accuracy: 0.8529 - val_loss: 0.0060\n",
      "Epoch 68/70\n",
      "\u001b[1m944/944\u001b[0m \u001b[32m━━━━━━━━━━━━━━━━━━━━\u001b[0m\u001b[37m\u001b[0m \u001b[1m22s\u001b[0m 23ms/step - accuracy: 0.9771 - loss: 0.0013 - val_accuracy: 0.8546 - val_loss: 0.0058\n",
      "Epoch 69/70\n",
      "\u001b[1m944/944\u001b[0m \u001b[32m━━━━━━━━━━━━━━━━━━━━\u001b[0m\u001b[37m\u001b[0m \u001b[1m24s\u001b[0m 25ms/step - accuracy: 0.9784 - loss: 0.0013 - val_accuracy: 0.8542 - val_loss: 0.0058\n",
      "Epoch 70/70\n",
      "\u001b[1m944/944\u001b[0m \u001b[32m━━━━━━━━━━━━━━━━━━━━\u001b[0m\u001b[37m\u001b[0m \u001b[1m26s\u001b[0m 27ms/step - accuracy: 0.9789 - loss: 0.0013 - val_accuracy: 0.8532 - val_loss: 0.0059\n"
     ]
    }
   ],
   "source": [
    "hist = model.fit(X_train,y_train, epochs=70,validation_data=(X_test, y_test), batch_size=120)"
   ]
  },
  {
   "cell_type": "code",
   "execution_count": 43,
   "metadata": {
    "colab": {},
    "colab_type": "code",
    "id": "ENb3inRrisWa",
    "outputId": "557810df-9ccd-4ee1-a98a-dd1469566bca"
   },
   "outputs": [
    {
     "data": {
      "image/png": "[encoded data removed]",
      "text/plain": [
       "<Figure size 640x480 with 1 Axes>"
      ]
     },
     "metadata": {},
     "output_type": "display_data"
    },
    {
     "data": {
      "image/png": "[encoded data removed]",
      "text/plain": [
       "<Figure size 640x480 with 1 Axes>"
      ]
     },
     "metadata": {},
     "output_type": "display_data"
    }
   ],
   "source": [
    "plt.plot(hist.history['loss']) \n",
    "plt.plot(hist.history['val_loss']) \n",
    "plt.show()\n",
    "\n",
    "\n",
    "plt.plot(hist.history['accuracy']) \n",
    "plt.plot(hist.history['val_accuracy']) \n",
    "plt.show()"
   ]
  },
  {
   "cell_type": "markdown",
   "metadata": {
    "colab_type": "text",
    "id": "q6jtSqYDisWd"
   },
   "source": [
    "## Pruebas grid search"
   ]
  },
  {
   "cell_type": "code",
   "execution_count": null,
   "metadata": {},
   "outputs": [],
   "source": []
  },
  {
   "cell_type": "code",
   "execution_count": null,
   "metadata": {},
   "outputs": [],
   "source": []
  },
  {
   "cell_type": "code",
   "execution_count": null,
   "metadata": {},
   "outputs": [],
   "source": []
  },
  {
   "cell_type": "code",
   "execution_count": null,
   "metadata": {},
   "outputs": [],
   "source": []
  }
 ],
 "metadata": {
  "colab": {
   "collapsed_sections": [],
   "name": "Algoritmos_ML.ipynb",
   "provenance": []
  },
  "kernelspec": {
   "display_name": "Python 3 (ipykernel)",
   "language": "python",
   "name": "python3"
  },
  "language_info": {
   "codemirror_mode": {
    "name": "ipython",
    "version": 3
   },
   "file_extension": ".py",
   "mimetype": "text/x-python",
   "name": "python",
   "nbconvert_exporter": "python",
   "pygments_lexer": "ipython3",
   "version": "3.11.7"
  },
  "toc": {
   "base_numbering": 1,
   "nav_menu": {},
   "number_sections": true,
   "sideBar": true,
   "skip_h1_title": false,
   "title_cell": "Table of Contents",
   "title_sidebar": "Contents",
   "toc_cell": false,
   "toc_position": {
    "height": "calc(100% - 180px)",
    "left": "10px",
    "top": "150px",
    "width": "384px"
   },
   "toc_section_display": true,
   "toc_window_display": true
  }
 },
 "nbformat": 4,
 "nbformat_minor": 4
}
