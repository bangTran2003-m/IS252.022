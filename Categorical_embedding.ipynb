{
 "cells": [
  {
   "cell_type": "markdown",
   "metadata": {
    "colab_type": "text",
    "id": "8Wj2_jhW4vsS"
   },
   "source": [
    "# Library"
   ]
  },
  {
   "cell_type": "code",
   "execution_count": 63,
   "metadata": {
    "ExecuteTime": {
     "end_time": "2019-11-07T09:58:33.466115Z",
     "start_time": "2019-11-07T09:58:33.460153Z"
    },
    "colab": {},
    "colab_type": "code",
    "id": "nuu3FCuL4vsU",
    "outputId": "cb6802cd-212f-45f8-8679-1ed6483d819b"
   },
   "outputs": [],
   "source": [
    "import numpy as np\n",
    "import pandas as pd\n",
    "import tensorflow as tf\n",
    "from IPython.display import Image\n",
    "import matplotlib.pyplot as plt\n",
    "import functools\n",
    "\n",
    "from keras.models import Sequential, Model\n",
    "from keras.layers import Dense, Dropout, Flatten, Input, MaxPooling1D, Conv1D, Embedding,Reshape, Concatenate,BatchNormalization,GlobalMaxPooling1D,GlobalAveragePooling1D\n",
    "# from keras.layers.merge import Concatenate\n",
    "from keras.preprocessing import sequence\n",
    "from keras.optimizers import RMSprop, Adam\n",
    "from keras.preprocessing.sequence import pad_sequences\n",
    "from keras.utils import to_categorical\n",
    "from keras.utils import plot_model\n",
    "from keras import regularizers\n",
    "from keras import metrics\n",
    "from keras import backend as K\n",
    "# from keras.wrappers.scikit_learn import KerasClassifier\n",
    "from scikeras.wrappers import KerasClassifier\n",
    "\n",
    "from sklearn import preprocessing\n",
    "from sklearn.model_selection import train_test_split\n",
    "from sklearn.preprocessing import OneHotEncoder\n",
    "from sklearn.preprocessing import LabelBinarizer\n",
    "from sklearn.model_selection import GridSearchCV \n",
    "from sklearn.metrics import classification_report\n",
    "import pydot_ng as pydot\n",
    "from sklearn.compose import make_column_selector\n"
   ]
  },
  {
   "cell_type": "code",
   "execution_count": 64,
   "metadata": {},
   "outputs": [
    {
     "name": "stdout",
     "output_type": "stream",
     "text": [
      "None\n"
     ]
    }
   ],
   "source": [
    "print(pydot.find_graphviz())"
   ]
  },
  {
   "cell_type": "markdown",
   "metadata": {
    "colab_type": "text",
    "id": "4Sfq8g5B4vsd"
   },
   "source": [
    "# Training data"
   ]
  },
  {
   "cell_type": "code",
   "execution_count": 65,
   "metadata": {
    "ExecuteTime": {
     "end_time": "2019-11-07T09:58:34.347205Z",
     "start_time": "2019-11-07T09:58:34.022084Z"
    },
    "colab": {},
    "colab_type": "code",
    "id": "a7-UwfBS4vsg",
    "outputId": "bb505d90-dca2-42d5-fdfc-358b78371e5b",
    "scrolled": true
   },
   "outputs": [
    {
     "data": {
      "text/html": [
       "<div>\n",
       "<style scoped>\n",
       "    .dataframe tbody tr th:only-of-type {\n",
       "        vertical-align: middle;\n",
       "    }\n",
       "\n",
       "    .dataframe tbody tr th {\n",
       "        vertical-align: top;\n",
       "    }\n",
       "\n",
       "    .dataframe thead th {\n",
       "        text-align: right;\n",
       "    }\n",
       "</style>\n",
       "<table border=\"1\" class=\"dataframe\">\n",
       "  <thead>\n",
       "    <tr style=\"text-align: right;\">\n",
       "      <th></th>\n",
       "      <th>DATE_CASE</th>\n",
       "      <th>NOT_COUNTRY</th>\n",
       "      <th>PROD_CAT</th>\n",
       "      <th>TYPE</th>\n",
       "      <th>RISK_DECISION</th>\n",
       "      <th>ACTION_TAKEN</th>\n",
       "      <th>DISTRIBUTION_STAT</th>\n",
       "      <th>HAZARDS_CAT</th>\n",
       "      <th>COUNT_ORIGEN</th>\n",
       "      <th>COUNT_DESTIN</th>\n",
       "      <th>COUNT_CONCERN</th>\n",
       "    </tr>\n",
       "  </thead>\n",
       "  <tbody>\n",
       "    <tr>\n",
       "      <th>4986</th>\n",
       "      <td>2019-04-18</td>\n",
       "      <td>Germany</td>\n",
       "      <td>fruits and vegetables</td>\n",
       "      <td>food</td>\n",
       "      <td>serious</td>\n",
       "      <td>official detention</td>\n",
       "      <td>information on distribution not (yet) available</td>\n",
       "      <td>composition</td>\n",
       "      <td>Syria</td>\n",
       "      <td></td>\n",
       "      <td>Germany</td>\n",
       "    </tr>\n",
       "    <tr>\n",
       "      <th>15381</th>\n",
       "      <td>2018-07-26</td>\n",
       "      <td>Slovenia</td>\n",
       "      <td>food contact materials</td>\n",
       "      <td>fcm</td>\n",
       "      <td>serious</td>\n",
       "      <td>withdrawal from the market</td>\n",
       "      <td>distribution to other member countries</td>\n",
       "      <td>industrial contaminants</td>\n",
       "      <td>China</td>\n",
       "      <td>Croatia</td>\n",
       "      <td>Belgium</td>\n",
       "    </tr>\n",
       "    <tr>\n",
       "      <th>51072</th>\n",
       "      <td>2015-10-30</td>\n",
       "      <td>Poland</td>\n",
       "      <td>food contact materials</td>\n",
       "      <td>fcm</td>\n",
       "      <td>serious</td>\n",
       "      <td>informing authorities</td>\n",
       "      <td>distribution to other member countries</td>\n",
       "      <td>migration</td>\n",
       "      <td>Hong Kong</td>\n",
       "      <td>Finland</td>\n",
       "      <td>Commission Services</td>\n",
       "    </tr>\n",
       "    <tr>\n",
       "      <th>66732</th>\n",
       "      <td>2014-04-04</td>\n",
       "      <td>Germany</td>\n",
       "      <td>feed materials</td>\n",
       "      <td>feed</td>\n",
       "      <td>serious</td>\n",
       "      <td>withdrawal from the market</td>\n",
       "      <td>distribution to other member countries</td>\n",
       "      <td>environmental pollutants</td>\n",
       "      <td>Poland</td>\n",
       "      <td>Austria</td>\n",
       "      <td></td>\n",
       "    </tr>\n",
       "    <tr>\n",
       "      <th>118016</th>\n",
       "      <td>2008-02-01</td>\n",
       "      <td>Sweden</td>\n",
       "      <td>fish and fish products</td>\n",
       "      <td>food</td>\n",
       "      <td>undecided</td>\n",
       "      <td>withdrawal from the market</td>\n",
       "      <td>distribution on the market (possible)</td>\n",
       "      <td>labelling absent/incomplete/incorrect</td>\n",
       "      <td>Germany</td>\n",
       "      <td>Sweden</td>\n",
       "      <td></td>\n",
       "    </tr>\n",
       "    <tr>\n",
       "      <th>...</th>\n",
       "      <td>...</td>\n",
       "      <td>...</td>\n",
       "      <td>...</td>\n",
       "      <td>...</td>\n",
       "      <td>...</td>\n",
       "      <td>...</td>\n",
       "      <td>...</td>\n",
       "      <td>...</td>\n",
       "      <td>...</td>\n",
       "      <td>...</td>\n",
       "      <td>...</td>\n",
       "    </tr>\n",
       "    <tr>\n",
       "      <th>29212</th>\n",
       "      <td>2017-10-17</td>\n",
       "      <td>Netherlands</td>\n",
       "      <td>nuts, nut products and seeds</td>\n",
       "      <td>food</td>\n",
       "      <td>serious</td>\n",
       "      <td>physical/chemical treatment</td>\n",
       "      <td>product not (yet) placed on the market</td>\n",
       "      <td>mycotoxins</td>\n",
       "      <td>Bolivia</td>\n",
       "      <td></td>\n",
       "      <td>Netherlands</td>\n",
       "    </tr>\n",
       "    <tr>\n",
       "      <th>92870</th>\n",
       "      <td>2011-06-24</td>\n",
       "      <td>Czech Republic</td>\n",
       "      <td>nuts, nut products and seeds</td>\n",
       "      <td>food</td>\n",
       "      <td>undecided</td>\n",
       "      <td></td>\n",
       "      <td>distribution restricted to notifying country</td>\n",
       "      <td>natural toxins (other)</td>\n",
       "      <td>Netherlands</td>\n",
       "      <td>Slovakia</td>\n",
       "      <td></td>\n",
       "    </tr>\n",
       "    <tr>\n",
       "      <th>29278</th>\n",
       "      <td>2017-10-10</td>\n",
       "      <td>Italy</td>\n",
       "      <td>eggs and egg products</td>\n",
       "      <td>food</td>\n",
       "      <td>not serious</td>\n",
       "      <td>informing recipient(s)</td>\n",
       "      <td>distribution restricted to notifying country</td>\n",
       "      <td>pesticide residues</td>\n",
       "      <td>Italy</td>\n",
       "      <td>Italy</td>\n",
       "      <td></td>\n",
       "    </tr>\n",
       "    <tr>\n",
       "      <th>134217</th>\n",
       "      <td>2005-05-25</td>\n",
       "      <td>Spain</td>\n",
       "      <td>nuts, nut products and seeds</td>\n",
       "      <td>food</td>\n",
       "      <td>undecided</td>\n",
       "      <td>re-dispatch</td>\n",
       "      <td>no distribution</td>\n",
       "      <td>mycotoxins</td>\n",
       "      <td>Iran</td>\n",
       "      <td></td>\n",
       "      <td>Spain</td>\n",
       "    </tr>\n",
       "    <tr>\n",
       "      <th>24729</th>\n",
       "      <td>2018-01-25</td>\n",
       "      <td>Spain</td>\n",
       "      <td>feed materials</td>\n",
       "      <td>feed</td>\n",
       "      <td>not serious</td>\n",
       "      <td>physical/chemical treatment</td>\n",
       "      <td>distribution restricted to notifying country</td>\n",
       "      <td>microbial contaminants (other)</td>\n",
       "      <td>Morocco</td>\n",
       "      <td>Spain</td>\n",
       "      <td></td>\n",
       "    </tr>\n",
       "  </tbody>\n",
       "</table>\n",
       "<p>141529 rows × 11 columns</p>\n",
       "</div>"
      ],
      "text/plain": [
       "         DATE_CASE     NOT_COUNTRY                      PROD_CAT  TYPE  \\\n",
       "4986    2019-04-18         Germany         fruits and vegetables  food   \n",
       "15381   2018-07-26        Slovenia        food contact materials   fcm   \n",
       "51072   2015-10-30          Poland        food contact materials   fcm   \n",
       "66732   2014-04-04         Germany                feed materials  feed   \n",
       "118016  2008-02-01          Sweden        fish and fish products  food   \n",
       "...            ...             ...                           ...   ...   \n",
       "29212   2017-10-17     Netherlands  nuts, nut products and seeds  food   \n",
       "92870   2011-06-24  Czech Republic  nuts, nut products and seeds  food   \n",
       "29278   2017-10-10           Italy         eggs and egg products  food   \n",
       "134217  2005-05-25           Spain  nuts, nut products and seeds  food   \n",
       "24729   2018-01-25           Spain                feed materials  feed   \n",
       "\n",
       "       RISK_DECISION                 ACTION_TAKEN  \\\n",
       "4986         serious           official detention   \n",
       "15381        serious   withdrawal from the market   \n",
       "51072        serious        informing authorities   \n",
       "66732        serious   withdrawal from the market   \n",
       "118016     undecided   withdrawal from the market   \n",
       "...              ...                          ...   \n",
       "29212        serious  physical/chemical treatment   \n",
       "92870      undecided                                \n",
       "29278    not serious       informing recipient(s)   \n",
       "134217     undecided                  re-dispatch   \n",
       "24729    not serious  physical/chemical treatment   \n",
       "\n",
       "                                      DISTRIBUTION_STAT  \\\n",
       "4986    information on distribution not (yet) available   \n",
       "15381            distribution to other member countries   \n",
       "51072            distribution to other member countries   \n",
       "66732            distribution to other member countries   \n",
       "118016            distribution on the market (possible)   \n",
       "...                                                 ...   \n",
       "29212            product not (yet) placed on the market   \n",
       "92870      distribution restricted to notifying country   \n",
       "29278      distribution restricted to notifying country   \n",
       "134217                                  no distribution   \n",
       "24729      distribution restricted to notifying country   \n",
       "\n",
       "                                  HAZARDS_CAT COUNT_ORIGEN COUNT_DESTIN  \\\n",
       "4986                              composition        Syria                \n",
       "15381                 industrial contaminants        China      Croatia   \n",
       "51072                               migration    Hong Kong      Finland   \n",
       "66732                environmental pollutants       Poland      Austria   \n",
       "118016  labelling absent/incomplete/incorrect      Germany       Sweden   \n",
       "...                                       ...          ...          ...   \n",
       "29212                              mycotoxins      Bolivia                \n",
       "92870                  natural toxins (other)  Netherlands     Slovakia   \n",
       "29278                      pesticide residues        Italy        Italy   \n",
       "134217                             mycotoxins         Iran                \n",
       "24729          microbial contaminants (other)      Morocco        Spain   \n",
       "\n",
       "              COUNT_CONCERN  \n",
       "4986                Germany  \n",
       "15381               Belgium  \n",
       "51072   Commission Services  \n",
       "66732                        \n",
       "118016                       \n",
       "...                     ...  \n",
       "29212           Netherlands  \n",
       "92870                        \n",
       "29278                        \n",
       "134217                Spain  \n",
       "24729                        \n",
       "\n",
       "[141529 rows x 11 columns]"
      ]
     },
     "execution_count": 65,
     "metadata": {},
     "output_type": "execute_result"
    }
   ],
   "source": [
    "data = pd.read_csv('C:/Users/ASUS/Documents/Data mining/splited_RASFF_DATA_16092019.csv', sep=';', \n",
    "                header=0, index_col = 0)\n",
    "data = data.sample(frac = 1)\n",
    "df = data \n",
    "df"
   ]
  },
  {
   "cell_type": "markdown",
   "metadata": {
    "colab_type": "text",
    "id": "9pPNjLsA4vsm"
   },
   "source": [
    "# Preprocessing"
   ]
  },
  {
   "cell_type": "code",
   "execution_count": 66,
   "metadata": {
    "ExecuteTime": {
     "end_time": "2019-11-07T09:58:35.113167Z",
     "start_time": "2019-11-07T09:58:34.979538Z"
    },
    "colab": {},
    "colab_type": "code",
    "id": "6DOLl9014vso"
   },
   "outputs": [],
   "source": [
    "df['HAZARDS_CAT'] = df['HAZARDS_CAT'].astype(str)\n",
    "df['DATE_CASE'] = df['DATE_CASE'].astype(str)\n",
    "df['DATE_CASE'] =pd.to_datetime(df.DATE_CASE)\n",
    "df['DATE_CASE'] = df.DATE_CASE.dt.month"
   ]
  },
  {
   "cell_type": "markdown",
   "metadata": {
    "colab_type": "text",
    "id": "ZCy43SqV4vss"
   },
   "source": [
    "# Select the features"
   ]
  },
  {
   "cell_type": "code",
   "execution_count": 67,
   "metadata": {
    "ExecuteTime": {
     "end_time": "2019-11-07T09:58:39.169658Z",
     "start_time": "2019-11-07T09:58:39.161652Z"
    },
    "colab": {},
    "colab_type": "code",
    "id": "FIJhCA8f4vsu"
   },
   "outputs": [],
   "source": [
    "features = [0, 1, 6, 8]\n",
    "target = [2]\n",
    "\n",
    "\n",
    "# Extract the features and target\n",
    "\n",
    "X = df.iloc[:, features]\n",
    "y = df.iloc[:, target]\n",
    "\n"
   ]
  },
  {
   "cell_type": "code",
   "execution_count": 68,
   "metadata": {
    "ExecuteTime": {
     "end_time": "2019-11-07T09:58:39.622387Z",
     "start_time": "2019-11-07T09:58:39.605432Z"
    },
    "colab": {},
    "colab_type": "code",
    "id": "60xhpgfs4vsy",
    "outputId": "f44ccac5-53f1-4dde-8495-7ba6df8702e8",
    "scrolled": true
   },
   "outputs": [
    {
     "data": {
      "text/html": [
       "<div>\n",
       "<style scoped>\n",
       "    .dataframe tbody tr th:only-of-type {\n",
       "        vertical-align: middle;\n",
       "    }\n",
       "\n",
       "    .dataframe tbody tr th {\n",
       "        vertical-align: top;\n",
       "    }\n",
       "\n",
       "    .dataframe thead th {\n",
       "        text-align: right;\n",
       "    }\n",
       "</style>\n",
       "<table border=\"1\" class=\"dataframe\">\n",
       "  <thead>\n",
       "    <tr style=\"text-align: right;\">\n",
       "      <th></th>\n",
       "      <th>DATE_CASE</th>\n",
       "      <th>NOT_COUNTRY</th>\n",
       "      <th>DISTRIBUTION_STAT</th>\n",
       "      <th>COUNT_ORIGEN</th>\n",
       "    </tr>\n",
       "  </thead>\n",
       "  <tbody>\n",
       "    <tr>\n",
       "      <th>4986</th>\n",
       "      <td>4</td>\n",
       "      <td>Germany</td>\n",
       "      <td>information on distribution not (yet) available</td>\n",
       "      <td>Syria</td>\n",
       "    </tr>\n",
       "    <tr>\n",
       "      <th>15381</th>\n",
       "      <td>7</td>\n",
       "      <td>Slovenia</td>\n",
       "      <td>distribution to other member countries</td>\n",
       "      <td>China</td>\n",
       "    </tr>\n",
       "    <tr>\n",
       "      <th>51072</th>\n",
       "      <td>10</td>\n",
       "      <td>Poland</td>\n",
       "      <td>distribution to other member countries</td>\n",
       "      <td>Hong Kong</td>\n",
       "    </tr>\n",
       "    <tr>\n",
       "      <th>66732</th>\n",
       "      <td>4</td>\n",
       "      <td>Germany</td>\n",
       "      <td>distribution to other member countries</td>\n",
       "      <td>Poland</td>\n",
       "    </tr>\n",
       "    <tr>\n",
       "      <th>118016</th>\n",
       "      <td>2</td>\n",
       "      <td>Sweden</td>\n",
       "      <td>distribution on the market (possible)</td>\n",
       "      <td>Germany</td>\n",
       "    </tr>\n",
       "    <tr>\n",
       "      <th>...</th>\n",
       "      <td>...</td>\n",
       "      <td>...</td>\n",
       "      <td>...</td>\n",
       "      <td>...</td>\n",
       "    </tr>\n",
       "    <tr>\n",
       "      <th>29212</th>\n",
       "      <td>10</td>\n",
       "      <td>Netherlands</td>\n",
       "      <td>product not (yet) placed on the market</td>\n",
       "      <td>Bolivia</td>\n",
       "    </tr>\n",
       "    <tr>\n",
       "      <th>92870</th>\n",
       "      <td>6</td>\n",
       "      <td>Czech Republic</td>\n",
       "      <td>distribution restricted to notifying country</td>\n",
       "      <td>Netherlands</td>\n",
       "    </tr>\n",
       "    <tr>\n",
       "      <th>29278</th>\n",
       "      <td>10</td>\n",
       "      <td>Italy</td>\n",
       "      <td>distribution restricted to notifying country</td>\n",
       "      <td>Italy</td>\n",
       "    </tr>\n",
       "    <tr>\n",
       "      <th>134217</th>\n",
       "      <td>5</td>\n",
       "      <td>Spain</td>\n",
       "      <td>no distribution</td>\n",
       "      <td>Iran</td>\n",
       "    </tr>\n",
       "    <tr>\n",
       "      <th>24729</th>\n",
       "      <td>1</td>\n",
       "      <td>Spain</td>\n",
       "      <td>distribution restricted to notifying country</td>\n",
       "      <td>Morocco</td>\n",
       "    </tr>\n",
       "  </tbody>\n",
       "</table>\n",
       "<p>141529 rows × 4 columns</p>\n",
       "</div>"
      ],
      "text/plain": [
       "        DATE_CASE     NOT_COUNTRY  \\\n",
       "4986            4         Germany   \n",
       "15381           7        Slovenia   \n",
       "51072          10          Poland   \n",
       "66732           4         Germany   \n",
       "118016          2          Sweden   \n",
       "...           ...             ...   \n",
       "29212          10     Netherlands   \n",
       "92870           6  Czech Republic   \n",
       "29278          10           Italy   \n",
       "134217          5           Spain   \n",
       "24729           1           Spain   \n",
       "\n",
       "                                      DISTRIBUTION_STAT COUNT_ORIGEN  \n",
       "4986    information on distribution not (yet) available        Syria  \n",
       "15381            distribution to other member countries        China  \n",
       "51072            distribution to other member countries    Hong Kong  \n",
       "66732            distribution to other member countries       Poland  \n",
       "118016            distribution on the market (possible)      Germany  \n",
       "...                                                 ...          ...  \n",
       "29212            product not (yet) placed on the market      Bolivia  \n",
       "92870      distribution restricted to notifying country  Netherlands  \n",
       "29278      distribution restricted to notifying country        Italy  \n",
       "134217                                  no distribution         Iran  \n",
       "24729      distribution restricted to notifying country      Morocco  \n",
       "\n",
       "[141529 rows x 4 columns]"
      ]
     },
     "execution_count": 68,
     "metadata": {},
     "output_type": "execute_result"
    }
   ],
   "source": [
    "X"
   ]
  },
  {
   "cell_type": "code",
   "execution_count": 69,
   "metadata": {
    "ExecuteTime": {
     "end_time": "2019-11-07T09:58:42.208891Z",
     "start_time": "2019-11-07T09:58:42.196950Z"
    },
    "colab": {},
    "colab_type": "code",
    "id": "FQCg4xQ54vs4",
    "outputId": "ea6ee104-d2da-4bd1-c289-19bd86ea7253",
    "scrolled": true
   },
   "outputs": [
    {
     "data": {
      "text/html": [
       "<div>\n",
       "<style scoped>\n",
       "    .dataframe tbody tr th:only-of-type {\n",
       "        vertical-align: middle;\n",
       "    }\n",
       "\n",
       "    .dataframe tbody tr th {\n",
       "        vertical-align: top;\n",
       "    }\n",
       "\n",
       "    .dataframe thead th {\n",
       "        text-align: right;\n",
       "    }\n",
       "</style>\n",
       "<table border=\"1\" class=\"dataframe\">\n",
       "  <thead>\n",
       "    <tr style=\"text-align: right;\">\n",
       "      <th></th>\n",
       "      <th>PROD_CAT</th>\n",
       "    </tr>\n",
       "  </thead>\n",
       "  <tbody>\n",
       "    <tr>\n",
       "      <th>4986</th>\n",
       "      <td>fruits and vegetables</td>\n",
       "    </tr>\n",
       "    <tr>\n",
       "      <th>15381</th>\n",
       "      <td>food contact materials</td>\n",
       "    </tr>\n",
       "    <tr>\n",
       "      <th>51072</th>\n",
       "      <td>food contact materials</td>\n",
       "    </tr>\n",
       "    <tr>\n",
       "      <th>66732</th>\n",
       "      <td>feed materials</td>\n",
       "    </tr>\n",
       "    <tr>\n",
       "      <th>118016</th>\n",
       "      <td>fish and fish products</td>\n",
       "    </tr>\n",
       "    <tr>\n",
       "      <th>...</th>\n",
       "      <td>...</td>\n",
       "    </tr>\n",
       "    <tr>\n",
       "      <th>29212</th>\n",
       "      <td>nuts, nut products and seeds</td>\n",
       "    </tr>\n",
       "    <tr>\n",
       "      <th>92870</th>\n",
       "      <td>nuts, nut products and seeds</td>\n",
       "    </tr>\n",
       "    <tr>\n",
       "      <th>29278</th>\n",
       "      <td>eggs and egg products</td>\n",
       "    </tr>\n",
       "    <tr>\n",
       "      <th>134217</th>\n",
       "      <td>nuts, nut products and seeds</td>\n",
       "    </tr>\n",
       "    <tr>\n",
       "      <th>24729</th>\n",
       "      <td>feed materials</td>\n",
       "    </tr>\n",
       "  </tbody>\n",
       "</table>\n",
       "<p>141529 rows × 1 columns</p>\n",
       "</div>"
      ],
      "text/plain": [
       "                            PROD_CAT\n",
       "4986           fruits and vegetables\n",
       "15381         food contact materials\n",
       "51072         food contact materials\n",
       "66732                 feed materials\n",
       "118016        fish and fish products\n",
       "...                              ...\n",
       "29212   nuts, nut products and seeds\n",
       "92870   nuts, nut products and seeds\n",
       "29278          eggs and egg products\n",
       "134217  nuts, nut products and seeds\n",
       "24729                 feed materials\n",
       "\n",
       "[141529 rows x 1 columns]"
      ]
     },
     "execution_count": 69,
     "metadata": {},
     "output_type": "execute_result"
    }
   ],
   "source": [
    "y"
   ]
  },
  {
   "cell_type": "code",
   "execution_count": 70,
   "metadata": {},
   "outputs": [],
   "source": [
    "\n",
    "# df = pd.DataFrame(y)\n",
    "\n",
    "\n",
    "# # Create an instance of OneHotEncoder\n",
    "\n",
    "# encoder = OneHotEncoder(sparse_output=False)  # Use sparse_output=False to return a dense array\n",
    "\n",
    "\n",
    "\n",
    "# # Fit and transform the data\n",
    "\n",
    "# encoded_data = encoder.fit_transform(df[['PROD_CAT']])\n",
    "\n",
    "\n",
    "# # Convert the encoded data to a DataFrame\n",
    "\n",
    "# encoded_df = pd.DataFrame(encoded_data, columns=encoder.get_feature_names_out(['PROD_CAT']))\n",
    "\n",
    "\n",
    "# # Concatenate the original DataFrame and the encoded DataFrame\n",
    "\n",
    "# final_df = pd.concat([df, encoded_df], axis=1)\n",
    "\n",
    "\n",
    "# # Drop the original product_category column if desired\n",
    "\n",
    "# # final_df = final_df.drop('product_category', axis=1)\n",
    "\n",
    "\n",
    "\n",
    "# # Print the final DataFrame\n",
    "\n",
    "# print(final_df)\n"
   ]
  },
  {
   "cell_type": "code",
   "execution_count": 71,
   "metadata": {
    "ExecuteTime": {
     "end_time": "2019-11-07T09:58:47.391416Z",
     "start_time": "2019-11-07T09:58:47.346535Z"
    },
    "colab": {},
    "colab_type": "code",
    "id": "lYMY6oXk4vs9"
   },
   "outputs": [
    {
     "data": {
      "text/plain": [
       "(141529, 38)"
      ]
     },
     "execution_count": 71,
     "metadata": {},
     "output_type": "execute_result"
    }
   ],
   "source": [
    "# Initialize the OneHotEncoder with sparse_output instead of sparse\n",
    "encX = OneHotEncoder(handle_unknown='ignore')\n",
    "ency = OneHotEncoder(handle_unknown='ignore', sparse_output=False)\n",
    "\n",
    "\n",
    "# Fit the encoder to your data\n",
    "encX.fit(X.values)\n",
    "ency.fit(y.values)\n",
    "\n",
    "\n",
    "# Transform the data to one-hot encoded format\n",
    "X_one_hot = encX.transform(X.values)\n",
    "y_one_hot = ency.transform(y.values)\n",
    "y_one_hot.shape"
   ]
  },
  {
   "cell_type": "markdown",
   "metadata": {
    "colab_type": "text",
    "id": "9pHebzer4vtB"
   },
   "source": [
    "# Test data"
   ]
  },
  {
   "cell_type": "markdown",
   "metadata": {
    "colab_type": "text",
    "id": "6A-ocBgx4vtB"
   },
   "source": [
    "## Loading"
   ]
  },
  {
   "cell_type": "code",
   "execution_count": 72,
   "metadata": {
    "ExecuteTime": {
     "end_time": "2019-11-07T09:58:50.434099Z",
     "start_time": "2019-11-07T09:58:50.374287Z"
    },
    "colab": {},
    "colab_type": "code",
    "id": "zxE6R8kd4vtC",
    "outputId": "1a598948-6c17-43fe-935d-1de27f80ed91"
   },
   "outputs": [
    {
     "data": {
      "text/html": [
       "<div>\n",
       "<style scoped>\n",
       "    .dataframe tbody tr th:only-of-type {\n",
       "        vertical-align: middle;\n",
       "    }\n",
       "\n",
       "    .dataframe tbody tr th {\n",
       "        vertical-align: top;\n",
       "    }\n",
       "\n",
       "    .dataframe thead th {\n",
       "        text-align: right;\n",
       "    }\n",
       "</style>\n",
       "<table border=\"1\" class=\"dataframe\">\n",
       "  <thead>\n",
       "    <tr style=\"text-align: right;\">\n",
       "      <th></th>\n",
       "      <th>DATE_CASE</th>\n",
       "      <th>NOT_COUNTRY</th>\n",
       "      <th>PROD_CAT</th>\n",
       "      <th>TYPE</th>\n",
       "      <th>RISK_DECISION</th>\n",
       "      <th>ACTION_TAKEN</th>\n",
       "      <th>DISTRIBUTION_STAT</th>\n",
       "      <th>HAZARDS_CAT</th>\n",
       "      <th>COUNT_ORIGEN</th>\n",
       "      <th>COUNT_DESTIN</th>\n",
       "      <th>COUNT_CONCERN</th>\n",
       "    </tr>\n",
       "  </thead>\n",
       "  <tbody>\n",
       "    <tr>\n",
       "      <th>281</th>\n",
       "      <td>2019-09-05</td>\n",
       "      <td>Germany</td>\n",
       "      <td>feed materials</td>\n",
       "      <td>feed</td>\n",
       "      <td>undecided</td>\n",
       "      <td>detained by operator</td>\n",
       "      <td>no distribution from notifying country</td>\n",
       "      <td>pesticide residues</td>\n",
       "      <td>India</td>\n",
       "      <td>Germany</td>\n",
       "      <td>Netherlands</td>\n",
       "    </tr>\n",
       "    <tr>\n",
       "      <th>9662</th>\n",
       "      <td>2019-01-14</td>\n",
       "      <td>Austria</td>\n",
       "      <td>meat and meat products (other than poultry)</td>\n",
       "      <td>food</td>\n",
       "      <td>serious</td>\n",
       "      <td>no action taken</td>\n",
       "      <td>product (presumably) no longer on the market</td>\n",
       "      <td>allergens</td>\n",
       "      <td>Italy</td>\n",
       "      <td>Austria</td>\n",
       "      <td></td>\n",
       "    </tr>\n",
       "    <tr>\n",
       "      <th>3078</th>\n",
       "      <td>2019-06-17</td>\n",
       "      <td>Germany</td>\n",
       "      <td>cocoa and cocoa preparations, coffee and tea</td>\n",
       "      <td>food</td>\n",
       "      <td>serious</td>\n",
       "      <td>withdrawal from the market</td>\n",
       "      <td>distribution to other member countries</td>\n",
       "      <td>pesticide residues</td>\n",
       "      <td>Syria</td>\n",
       "      <td>Norway</td>\n",
       "      <td>Bulgaria</td>\n",
       "    </tr>\n",
       "    <tr>\n",
       "      <th>5407</th>\n",
       "      <td>2019-04-08</td>\n",
       "      <td>Belgium</td>\n",
       "      <td>feed materials</td>\n",
       "      <td>feed</td>\n",
       "      <td>not serious</td>\n",
       "      <td>official detention</td>\n",
       "      <td>no distribution from notifying country</td>\n",
       "      <td>pesticide residues</td>\n",
       "      <td>France</td>\n",
       "      <td>Netherlands</td>\n",
       "      <td></td>\n",
       "    </tr>\n",
       "    <tr>\n",
       "      <th>3472</th>\n",
       "      <td>2019-06-11</td>\n",
       "      <td>Slovakia</td>\n",
       "      <td>nuts, nut products and seeds</td>\n",
       "      <td>food</td>\n",
       "      <td>serious</td>\n",
       "      <td>withdrawal from recipient(s)</td>\n",
       "      <td>distribution to other member countries</td>\n",
       "      <td>allergens</td>\n",
       "      <td>Czech Republic</td>\n",
       "      <td>Poland</td>\n",
       "      <td>INFOSAN</td>\n",
       "    </tr>\n",
       "    <tr>\n",
       "      <th>...</th>\n",
       "      <td>...</td>\n",
       "      <td>...</td>\n",
       "      <td>...</td>\n",
       "      <td>...</td>\n",
       "      <td>...</td>\n",
       "      <td>...</td>\n",
       "      <td>...</td>\n",
       "      <td>...</td>\n",
       "      <td>...</td>\n",
       "      <td>...</td>\n",
       "      <td>...</td>\n",
       "    </tr>\n",
       "    <tr>\n",
       "      <th>3492</th>\n",
       "      <td>2019-06-07</td>\n",
       "      <td>Germany</td>\n",
       "      <td>feed materials</td>\n",
       "      <td>feed</td>\n",
       "      <td>serious</td>\n",
       "      <td>withdrawal from the market</td>\n",
       "      <td>distribution to other member countries</td>\n",
       "      <td>environmental pollutants</td>\n",
       "      <td>China</td>\n",
       "      <td>Germany</td>\n",
       "      <td>INFOSAN</td>\n",
       "    </tr>\n",
       "    <tr>\n",
       "      <th>572</th>\n",
       "      <td>2019-08-23</td>\n",
       "      <td>Portugal</td>\n",
       "      <td>fruits and vegetables</td>\n",
       "      <td>food</td>\n",
       "      <td>serious</td>\n",
       "      <td></td>\n",
       "      <td>distribution to other member countries</td>\n",
       "      <td>pesticide residues</td>\n",
       "      <td>Spain</td>\n",
       "      <td>Belgium</td>\n",
       "      <td></td>\n",
       "    </tr>\n",
       "    <tr>\n",
       "      <th>2437</th>\n",
       "      <td>2019-07-05</td>\n",
       "      <td>France</td>\n",
       "      <td>milk and milk products</td>\n",
       "      <td>food</td>\n",
       "      <td>serious</td>\n",
       "      <td>recall from consumers</td>\n",
       "      <td>product (presumably) no longer on the market</td>\n",
       "      <td>microbial contaminants (other)</td>\n",
       "      <td></td>\n",
       "      <td>Denmark</td>\n",
       "      <td>INFOSAN</td>\n",
       "    </tr>\n",
       "    <tr>\n",
       "      <th>9713</th>\n",
       "      <td>2019-01-08</td>\n",
       "      <td>Austria</td>\n",
       "      <td>pet food</td>\n",
       "      <td>feed</td>\n",
       "      <td>serious</td>\n",
       "      <td>withdrawal from the market</td>\n",
       "      <td>distribution to other member countries</td>\n",
       "      <td>pathogenic micro-organisms</td>\n",
       "      <td>Belgium</td>\n",
       "      <td>Poland</td>\n",
       "      <td>Germany</td>\n",
       "    </tr>\n",
       "    <tr>\n",
       "      <th>9116</th>\n",
       "      <td>2019-01-29</td>\n",
       "      <td>Croatia</td>\n",
       "      <td>cocoa and cocoa preparations, coffee and tea</td>\n",
       "      <td>food</td>\n",
       "      <td>serious</td>\n",
       "      <td>return to consignor</td>\n",
       "      <td>product (presumably) no longer on the market</td>\n",
       "      <td>natural toxins (other)</td>\n",
       "      <td>Serbia</td>\n",
       "      <td>Croatia</td>\n",
       "      <td>INFOSAN</td>\n",
       "    </tr>\n",
       "  </tbody>\n",
       "</table>\n",
       "<p>9835 rows × 11 columns</p>\n",
       "</div>"
      ],
      "text/plain": [
       "       DATE_CASE NOT_COUNTRY                                      PROD_CAT  \\\n",
       "281   2019-09-05     Germany                                feed materials   \n",
       "9662  2019-01-14     Austria   meat and meat products (other than poultry)   \n",
       "3078  2019-06-17     Germany  cocoa and cocoa preparations, coffee and tea   \n",
       "5407  2019-04-08     Belgium                                feed materials   \n",
       "3472  2019-06-11    Slovakia                  nuts, nut products and seeds   \n",
       "...          ...         ...                                           ...   \n",
       "3492  2019-06-07     Germany                                feed materials   \n",
       "572   2019-08-23    Portugal                         fruits and vegetables   \n",
       "2437  2019-07-05      France                        milk and milk products   \n",
       "9713  2019-01-08     Austria                                      pet food   \n",
       "9116  2019-01-29     Croatia  cocoa and cocoa preparations, coffee and tea   \n",
       "\n",
       "      TYPE RISK_DECISION                  ACTION_TAKEN  \\\n",
       "281   feed     undecided          detained by operator   \n",
       "9662  food       serious               no action taken   \n",
       "3078  food       serious    withdrawal from the market   \n",
       "5407  feed   not serious            official detention   \n",
       "3472  food       serious  withdrawal from recipient(s)   \n",
       "...    ...           ...                           ...   \n",
       "3492  feed       serious    withdrawal from the market   \n",
       "572   food       serious                                 \n",
       "2437  food       serious         recall from consumers   \n",
       "9713  feed       serious    withdrawal from the market   \n",
       "9116  food       serious           return to consignor   \n",
       "\n",
       "                                 DISTRIBUTION_STAT  \\\n",
       "281         no distribution from notifying country   \n",
       "9662  product (presumably) no longer on the market   \n",
       "3078        distribution to other member countries   \n",
       "5407        no distribution from notifying country   \n",
       "3472        distribution to other member countries   \n",
       "...                                            ...   \n",
       "3492        distribution to other member countries   \n",
       "572         distribution to other member countries   \n",
       "2437  product (presumably) no longer on the market   \n",
       "9713        distribution to other member countries   \n",
       "9116  product (presumably) no longer on the market   \n",
       "\n",
       "                         HAZARDS_CAT    COUNT_ORIGEN COUNT_DESTIN  \\\n",
       "281               pesticide residues           India      Germany   \n",
       "9662                       allergens           Italy      Austria   \n",
       "3078              pesticide residues           Syria       Norway   \n",
       "5407              pesticide residues          France  Netherlands   \n",
       "3472                       allergens  Czech Republic       Poland   \n",
       "...                              ...             ...          ...   \n",
       "3492        environmental pollutants           China      Germany   \n",
       "572               pesticide residues           Spain      Belgium   \n",
       "2437  microbial contaminants (other)                      Denmark   \n",
       "9713      pathogenic micro-organisms         Belgium       Poland   \n",
       "9116          natural toxins (other)          Serbia      Croatia   \n",
       "\n",
       "     COUNT_CONCERN  \n",
       "281    Netherlands  \n",
       "9662                \n",
       "3078      Bulgaria  \n",
       "5407                \n",
       "3472       INFOSAN  \n",
       "...            ...  \n",
       "3492       INFOSAN  \n",
       "572                 \n",
       "2437       INFOSAN  \n",
       "9713       Germany  \n",
       "9116       INFOSAN  \n",
       "\n",
       "[9835 rows x 11 columns]"
      ]
     },
     "execution_count": 72,
     "metadata": {},
     "output_type": "execute_result"
    }
   ],
   "source": [
    "data = pd.read_csv('C:/Users/ASUS/Documents/Data mining/splited_2019_RASFF_DATA_16092019.csv', sep=';', \n",
    "                header=0, index_col = 0)\n",
    "data = data.sample(frac = 1)\n",
    "test = data\n",
    "test"
   ]
  },
  {
   "cell_type": "markdown",
   "metadata": {
    "colab_type": "text",
    "id": "AwSriq4U4vtH"
   },
   "source": [
    "## Preprocesamiento"
   ]
  },
  {
   "cell_type": "code",
   "execution_count": 73,
   "metadata": {
    "ExecuteTime": {
     "end_time": "2019-11-07T09:58:51.753558Z",
     "start_time": "2019-11-07T09:58:51.747575Z"
    },
    "colab": {},
    "colab_type": "code",
    "id": "2zn9d1en4vtH"
   },
   "outputs": [],
   "source": [
    "test['HAZARDS_CAT'] = test['HAZARDS_CAT'].astype(str)\n",
    "test['DATE_CASE'] = test['DATE_CASE'].astype(str)\n",
    "test['DATE_CASE'] =pd.to_datetime(test.DATE_CASE)\n",
    "test['DATE_CASE'] = test.DATE_CASE.dt.month"
   ]
  },
  {
   "cell_type": "markdown",
   "metadata": {
    "colab_type": "text",
    "id": "Z8W5dWUy4vtM"
   },
   "source": [
    "## Features"
   ]
  },
  {
   "cell_type": "code",
   "execution_count": 74,
   "metadata": {
    "ExecuteTime": {
     "end_time": "2019-11-07T09:59:05.912763Z",
     "start_time": "2019-11-07T09:59:05.907777Z"
    },
    "colab": {},
    "colab_type": "code",
    "id": "eCJiBJTd4vtN"
   },
   "outputs": [],
   "source": [
    "features = [0,1,6,8]\n",
    "target = [2]\n",
    "X_val = test.iloc[:,features]\n",
    "y_val = test.iloc[:,target]"
   ]
  },
  {
   "cell_type": "code",
   "execution_count": 75,
   "metadata": {
    "ExecuteTime": {
     "end_time": "2019-11-07T09:59:06.840786Z",
     "start_time": "2019-11-07T09:59:06.834775Z"
    },
    "colab": {},
    "colab_type": "code",
    "id": "Yg_d5wdm4vtS"
   },
   "outputs": [
    {
     "data": {
      "text/plain": [
       "(9835, 4)"
      ]
     },
     "execution_count": 75,
     "metadata": {},
     "output_type": "execute_result"
    }
   ],
   "source": [
    "y_val_one_hot = ency.transform(y_val.values)\n",
    "X_val.shape"
   ]
  },
  {
   "cell_type": "markdown",
   "metadata": {
    "colab_type": "text",
    "id": "nIFN4glP4vtY"
   },
   "source": [
    "# Split train-test-val"
   ]
  },
  {
   "cell_type": "code",
   "execution_count": 76,
   "metadata": {
    "ExecuteTime": {
     "end_time": "2019-11-07T09:59:26.331998Z",
     "start_time": "2019-11-07T09:59:26.328009Z"
    },
    "colab": {},
    "colab_type": "code",
    "id": "4Ywg0ZnU4vta"
   },
   "outputs": [],
   "source": [
    "categoical_vars = ['DATE_CASE','NOT_COUNTRY','DISTRIBUTION_STAT','COUNT_ORIGEN']"
   ]
  },
  {
   "cell_type": "code",
   "execution_count": 77,
   "metadata": {
    "ExecuteTime": {
     "end_time": "2019-11-07T09:59:27.517648Z",
     "start_time": "2019-11-07T09:59:27.475766Z"
    },
    "colab": {},
    "colab_type": "code",
    "id": "3Cxjq3aw4vte"
   },
   "outputs": [
    {
     "data": {
      "text/plain": [
       "(28306, 4)"
      ]
     },
     "execution_count": 77,
     "metadata": {},
     "output_type": "execute_result"
    }
   ],
   "source": [
    "X_train, X_test, y_train, y_test = train_test_split(X, y_one_hot, test_size=0.2)\n",
    "X_test.shape\n"
   ]
  },
  {
   "cell_type": "code",
   "execution_count": 78,
   "metadata": {
    "ExecuteTime": {
     "end_time": "2019-11-07T09:59:27.703560Z",
     "start_time": "2019-11-07T09:59:27.700592Z"
    },
    "colab": {},
    "colab_type": "code",
    "id": "AzlpUO974vti"
   },
   "outputs": [
    {
     "data": {
      "text/plain": [
       "(28306, 38)"
      ]
     },
     "execution_count": 78,
     "metadata": {},
     "output_type": "execute_result"
    }
   ],
   "source": [
    "X_train1, X_val, y_train1, y_val = train_test_split(X_train, y_train, test_size=0.25, random_state=42,shuffle = True)\n",
    "y_val.shape\n"
   ]
  },
  {
   "cell_type": "markdown",
   "metadata": {
    "colab_type": "text",
    "id": "mHCmO2P94vtn"
   },
   "source": [
    "# Coding and conversion to lists to be able to add it to the model"
   ]
  },
  {
   "cell_type": "code",
   "execution_count": 79,
   "metadata": {
    "ExecuteTime": {
     "end_time": "2019-11-07T09:59:28.471661Z",
     "start_time": "2019-11-07T09:59:28.466702Z"
    },
    "colab": {},
    "colab_type": "code",
    "id": "kXmAc-Hd4vtn"
   },
   "outputs": [],
   "source": [
    "def preproc(X_train, X_test, Xvalidation_data):\n",
    "    input_list_train = []\n",
    "    input_list_test = []\n",
    "    input_list_testval = []\n",
    "    \n",
    "    for c in categoical_vars:\n",
    "        raw_vals = np.unique(X_train[c])\n",
    "        val_map = {}\n",
    "        for i in range(len(raw_vals)):\n",
    "            val_map[raw_vals[i]] = i       \n",
    "        \n",
    "        input_list_train.append(X_train[c].map(val_map).values)\n",
    "        input_list_test.append(X_test[c].map(val_map).fillna(0).values)\n",
    "        input_list_testval.append(X_val[c].map(val_map).fillna(0).values)\n",
    "\n",
    "    return input_list_train, input_list_test,input_list_testval"
   ]
  },
  {
   "cell_type": "code",
   "execution_count": 80,
   "metadata": {
    "ExecuteTime": {
     "end_time": "2019-11-07T09:59:29.786581Z",
     "start_time": "2019-11-07T09:59:29.588085Z"
    },
    "colab": {},
    "colab_type": "code",
    "id": "q3nDJ1jc4vtp"
   },
   "outputs": [
    {
     "name": "stdout",
     "output_type": "stream",
     "text": [
      "Shape of input_list_testval: [array([7, 8, 7, ..., 6, 7, 9], dtype=int64), array([11, 21, 23, ..., 16, 23,  1], dtype=int64), array([4, 4, 2, ..., 6, 2, 4], dtype=int64), array([181, 135,  32, ...,  21,  32,  32], dtype=int64)]\n",
      "Shape of y_val_one_hot: (113223, 4)\n"
     ]
    }
   ],
   "source": [
    "input_list_train,input_list_test,input_list_testval = preproc(X_train,X_test, X_val)\n",
    "print(f\"Shape of input_list_testval: {[x for x in input_list_train]}\")\n",
    "print(f\"Shape of y_val_one_hot: {X_train.shape}\")"
   ]
  },
  {
   "cell_type": "markdown",
   "metadata": {
    "colab_type": "text",
    "id": "lF4wpn6G4vtt"
   },
   "source": [
    "# Definition of metrics"
   ]
  },
  {
   "cell_type": "code",
   "execution_count": 81,
   "metadata": {
    "ExecuteTime": {
     "end_time": "2019-11-07T09:59:36.711059Z",
     "start_time": "2019-11-07T09:59:36.707069Z"
    },
    "colab": {},
    "colab_type": "code",
    "id": "kmXV0Hix4vtu"
   },
   "outputs": [],
   "source": [
    "top3_acc = functools.partial(metrics.top_k_categorical_accuracy, k=3)\n",
    "top3_acc.__name__ = 'top3_acc'\n",
    "\n",
    "top2_acc = functools.partial(metrics.top_k_categorical_accuracy, k=3)\n",
    "top2_acc.__name__ = 'top2_acc'"
   ]
  },
  {
   "cell_type": "code",
   "execution_count": 82,
   "metadata": {
    "ExecuteTime": {
     "end_time": "2019-11-07T09:59:37.063768Z",
     "start_time": "2019-11-07T09:59:37.060776Z"
    },
    "colab": {},
    "colab_type": "code",
    "id": "g0Es5YDS4vtx"
   },
   "outputs": [],
   "source": [
    "def top_1_categorical_accuracy(y_true, y_pred):\n",
    "    return metrics.top_k_categorical_accuracy(y_true, y_pred, k=1) "
   ]
  },
  {
   "cell_type": "code",
   "execution_count": 83,
   "metadata": {
    "ExecuteTime": {
     "end_time": "2019-11-07T09:59:37.431036Z",
     "start_time": "2019-11-07T09:59:37.427024Z"
    },
    "colab": {},
    "colab_type": "code",
    "id": "TwP5FXfl4vt0"
   },
   "outputs": [],
   "source": [
    "def top_2_categorical_accuracy(y_true, y_pred):\n",
    "    return metrics.top_k_categorical_accuracy(y_true, y_pred, k=2) "
   ]
  },
  {
   "cell_type": "code",
   "execution_count": 84,
   "metadata": {
    "ExecuteTime": {
     "end_time": "2019-11-07T09:59:37.813431Z",
     "start_time": "2019-11-07T09:59:37.811432Z"
    },
    "colab": {},
    "colab_type": "code",
    "id": "RXl1GIFG4vt4"
   },
   "outputs": [],
   "source": [
    "def top_3_categorical_accuracy(y_true, y_pred):\n",
    "    return metrics.top_k_categorical_accuracy(y_true, y_pred, k=3) "
   ]
  },
  {
   "cell_type": "markdown",
   "metadata": {
    "colab_type": "text",
    "id": "criCy0OW4vt9"
   },
   "source": [
    "# Embeddings + mlp model (cases 1 and 3)"
   ]
  },
  {
   "cell_type": "code",
   "execution_count": 23,
   "metadata": {
    "ExecuteTime": {
     "end_time": "2019-11-07T11:20:14.437025Z",
     "start_time": "2019-11-07T11:20:14.205645Z"
    },
    "colab": {},
    "colab_type": "code",
    "id": "_OY6J3cX4vt9"
   },
   "outputs": [],
   "source": [
    "input_models=[]\n",
    "output_embeddings=[]\n",
    "\n",
    "for categorical_var in categoical_vars:\n",
    "    cat_emb_name= categorical_var.replace(\" \", \"\")+'_Embedding'\n",
    "    input_name= 'Input_' + categorical_var.replace(\" \", \"\")\n",
    "    no_of_unique_cat  = X_train[categorical_var].nunique()\n",
    "    embedding_size = int(min(np.ceil((no_of_unique_cat)/2), 50 ))\n",
    "   \n",
    "    input_model = Input(shape=(1,), name=input_name)\n",
    "    output_model = Embedding(no_of_unique_cat, embedding_size, name=cat_emb_name)(input_model)\n",
    "    output_model = Reshape(target_shape=(embedding_size,))(output_model)    \n",
    "    \n",
    "    input_models.append(input_model)\n",
    "    output_embeddings.append(output_model)\n",
    "  \n",
    "\n",
    "output = Concatenate()(output_embeddings)\n",
    "output = Dense(2048,activation=\"relu\")(output)\n",
    "output= Dropout(0.3)(output)\n",
    "output = Dense(1024,activation=\"relu\")(output)\n",
    "output= Dropout(0.2)(output)\n",
    "output = Dense(512,activation=\"relu\")(output)\n",
    "output= Dropout(0.2)(output)\n",
    "output = Dense(38, activation='softmax')(output)\n",
    "model = Model(inputs=input_models, outputs=output)"
   ]
  },
  {
   "cell_type": "code",
   "execution_count": 24,
   "metadata": {
    "colab": {},
    "colab_type": "code",
    "id": "O0WRB4Ln4vuC"
   },
   "outputs": [],
   "source": [
    "model.compile(loss='categorical_crossentropy', optimizer=\"adam\", metrics=['accuracy', top_1_categorical_accuracy,top_2_categorical_accuracy,top_3_categorical_accuracy])"
   ]
  },
  {
   "cell_type": "code",
   "execution_count": 25,
   "metadata": {
    "ExecuteTime": {
     "end_time": "2019-11-07T11:22:01.539705Z",
     "start_time": "2019-11-07T11:20:15.149426Z"
    },
    "colab": {},
    "colab_type": "code",
    "id": "y5lTVZmY4vuF",
    "outputId": "df7d720b-a099-4d15-e28d-e7ebb639e227",
    "scrolled": true
   },
   "outputs": [
    {
     "name": "stdout",
     "output_type": "stream",
     "text": [
      "Epoch 1/5\n",
      "\u001b[1m1770/1770\u001b[0m \u001b[32m━━━━━━━━━━━━━━━━━━━━\u001b[0m\u001b[37m\u001b[0m \u001b[1m40s\u001b[0m 21ms/step - accuracy: 0.3824 - loss: 2.2604 - top_1_categorical_accuracy: 0.3824 - top_2_categorical_accuracy: 0.5098 - top_3_categorical_accuracy: 0.5914 - val_accuracy: 0.5362 - val_loss: 1.6644 - val_top_1_categorical_accuracy: 0.5362 - val_top_2_categorical_accuracy: 0.6652 - val_top_3_categorical_accuracy: 0.7357\n",
      "Epoch 2/5\n",
      "\u001b[1m1770/1770\u001b[0m \u001b[32m━━━━━━━━━━━━━━━━━━━━\u001b[0m\u001b[37m\u001b[0m \u001b[1m37s\u001b[0m 21ms/step - accuracy: 0.5509 - loss: 1.5985 - top_1_categorical_accuracy: 0.5509 - top_2_categorical_accuracy: 0.6805 - top_3_categorical_accuracy: 0.7524 - val_accuracy: 0.6008 - val_loss: 1.4096 - val_top_1_categorical_accuracy: 0.6008 - val_top_2_categorical_accuracy: 0.7320 - val_top_3_categorical_accuracy: 0.7946\n",
      "Epoch 3/5\n",
      "\u001b[1m1770/1770\u001b[0m \u001b[32m━━━━━━━━━━━━━━━━━━━━\u001b[0m\u001b[37m\u001b[0m \u001b[1m37s\u001b[0m 21ms/step - accuracy: 0.6024 - loss: 1.3867 - top_1_categorical_accuracy: 0.6024 - top_2_categorical_accuracy: 0.7336 - top_3_categorical_accuracy: 0.7988 - val_accuracy: 0.6271 - val_loss: 1.2917 - val_top_1_categorical_accuracy: 0.6271 - val_top_2_categorical_accuracy: 0.7596 - val_top_3_categorical_accuracy: 0.8200\n",
      "Epoch 4/5\n",
      "\u001b[1m1770/1770\u001b[0m \u001b[32m━━━━━━━━━━━━━━━━━━━━\u001b[0m\u001b[37m\u001b[0m \u001b[1m38s\u001b[0m 21ms/step - accuracy: 0.6370 - loss: 1.2448 - top_1_categorical_accuracy: 0.6370 - top_2_categorical_accuracy: 0.7694 - top_3_categorical_accuracy: 0.8322 - val_accuracy: 0.6520 - val_loss: 1.2041 - val_top_1_categorical_accuracy: 0.6520 - val_top_2_categorical_accuracy: 0.7815 - val_top_3_categorical_accuracy: 0.8405\n",
      "Epoch 5/5\n",
      "\u001b[1m1770/1770\u001b[0m \u001b[32m━━━━━━━━━━━━━━━━━━━━\u001b[0m\u001b[37m\u001b[0m \u001b[1m38s\u001b[0m 21ms/step - accuracy: 0.6574 - loss: 1.1443 - top_1_categorical_accuracy: 0.6574 - top_2_categorical_accuracy: 0.7906 - top_3_categorical_accuracy: 0.8514 - val_accuracy: 0.6639 - val_loss: 1.1547 - val_top_1_categorical_accuracy: 0.6639 - val_top_2_categorical_accuracy: 0.7929 - val_top_3_categorical_accuracy: 0.8497\n"
     ]
    }
   ],
   "source": [
    " hist = model.fit(input_list_train,y_train,validation_data=(input_list_test,y_test) , epochs = 5 , batch_size = 64, verbose=1)"
   ]
  },
  {
   "cell_type": "code",
   "execution_count": 26,
   "metadata": {
    "ExecuteTime": {
     "end_time": "2019-11-07T10:04:57.607967Z",
     "start_time": "2019-11-07T10:04:57.603000Z"
    },
    "colab": {},
    "colab_type": "code",
    "id": "_pISyeDB4vuI",
    "outputId": "b29ab044-1aab-40f2-cfd3-b84e3838cab0",
    "scrolled": true
   },
   "outputs": [
    {
     "data": {
      "text/html": [
       "<pre style=\"white-space:pre;overflow-x:auto;line-height:normal;font-family:Menlo,'DejaVu Sans Mono',consolas,'Courier New',monospace\"><span style=\"font-weight: bold\">Model: \"functional_1\"</span>\n",
       "</pre>\n"
      ],
      "text/plain": [
       "\u001b[1mModel: \"functional_1\"\u001b[0m\n"
      ]
     },
     "metadata": {},
     "output_type": "display_data"
    },
    {
     "data": {
      "text/html": [
       "<pre style=\"white-space:pre;overflow-x:auto;line-height:normal;font-family:Menlo,'DejaVu Sans Mono',consolas,'Courier New',monospace\">┏━━━━━━━━━━━━━━━━━━━━━━━━━━━━━━━┳━━━━━━━━━━━━━━━━━━━━━━━━━━━┳━━━━━━━━━━━━━━━━━┳━━━━━━━━━━━━━━━━━━━━━━━━━━━━┓\n",
       "┃<span style=\"font-weight: bold\"> Layer (type)                  </span>┃<span style=\"font-weight: bold\"> Output Shape              </span>┃<span style=\"font-weight: bold\">         Param # </span>┃<span style=\"font-weight: bold\"> Connected to               </span>┃\n",
       "┡━━━━━━━━━━━━━━━━━━━━━━━━━━━━━━━╇━━━━━━━━━━━━━━━━━━━━━━━━━━━╇━━━━━━━━━━━━━━━━━╇━━━━━━━━━━━━━━━━━━━━━━━━━━━━┩\n",
       "│ Input_DATE_CASE (<span style=\"color: #0087ff; text-decoration-color: #0087ff\">InputLayer</span>)  │ (<span style=\"color: #00d7ff; text-decoration-color: #00d7ff\">None</span>, <span style=\"color: #00af00; text-decoration-color: #00af00\">1</span>)                 │               <span style=\"color: #00af00; text-decoration-color: #00af00\">0</span> │ -                          │\n",
       "├───────────────────────────────┼───────────────────────────┼─────────────────┼────────────────────────────┤\n",
       "│ Input_NOT_COUNTRY             │ (<span style=\"color: #00d7ff; text-decoration-color: #00d7ff\">None</span>, <span style=\"color: #00af00; text-decoration-color: #00af00\">1</span>)                 │               <span style=\"color: #00af00; text-decoration-color: #00af00\">0</span> │ -                          │\n",
       "│ (<span style=\"color: #0087ff; text-decoration-color: #0087ff\">InputLayer</span>)                  │                           │                 │                            │\n",
       "├───────────────────────────────┼───────────────────────────┼─────────────────┼────────────────────────────┤\n",
       "│ Input_DISTRIBUTION_STAT       │ (<span style=\"color: #00d7ff; text-decoration-color: #00d7ff\">None</span>, <span style=\"color: #00af00; text-decoration-color: #00af00\">1</span>)                 │               <span style=\"color: #00af00; text-decoration-color: #00af00\">0</span> │ -                          │\n",
       "│ (<span style=\"color: #0087ff; text-decoration-color: #0087ff\">InputLayer</span>)                  │                           │                 │                            │\n",
       "├───────────────────────────────┼───────────────────────────┼─────────────────┼────────────────────────────┤\n",
       "│ Input_COUNT_ORIGEN            │ (<span style=\"color: #00d7ff; text-decoration-color: #00d7ff\">None</span>, <span style=\"color: #00af00; text-decoration-color: #00af00\">1</span>)                 │               <span style=\"color: #00af00; text-decoration-color: #00af00\">0</span> │ -                          │\n",
       "│ (<span style=\"color: #0087ff; text-decoration-color: #0087ff\">InputLayer</span>)                  │                           │                 │                            │\n",
       "├───────────────────────────────┼───────────────────────────┼─────────────────┼────────────────────────────┤\n",
       "│ DATE_CASE_Embedding           │ (<span style=\"color: #00d7ff; text-decoration-color: #00d7ff\">None</span>, <span style=\"color: #00af00; text-decoration-color: #00af00\">1</span>, <span style=\"color: #00af00; text-decoration-color: #00af00\">6</span>)              │              <span style=\"color: #00af00; text-decoration-color: #00af00\">72</span> │ Input_DATE_CASE[<span style=\"color: #00af00; text-decoration-color: #00af00\">0</span>][<span style=\"color: #00af00; text-decoration-color: #00af00\">0</span>]      │\n",
       "│ (<span style=\"color: #0087ff; text-decoration-color: #0087ff\">Embedding</span>)                   │                           │                 │                            │\n",
       "├───────────────────────────────┼───────────────────────────┼─────────────────┼────────────────────────────┤\n",
       "│ NOT_COUNTRY_Embedding         │ (<span style=\"color: #00d7ff; text-decoration-color: #00d7ff\">None</span>, <span style=\"color: #00af00; text-decoration-color: #00af00\">1</span>, <span style=\"color: #00af00; text-decoration-color: #00af00\">16</span>)             │             <span style=\"color: #00af00; text-decoration-color: #00af00\">512</span> │ Input_NOT_COUNTRY[<span style=\"color: #00af00; text-decoration-color: #00af00\">0</span>][<span style=\"color: #00af00; text-decoration-color: #00af00\">0</span>]    │\n",
       "│ (<span style=\"color: #0087ff; text-decoration-color: #0087ff\">Embedding</span>)                   │                           │                 │                            │\n",
       "├───────────────────────────────┼───────────────────────────┼─────────────────┼────────────────────────────┤\n",
       "│ DISTRIBUTION_STAT_Embedding   │ (<span style=\"color: #00d7ff; text-decoration-color: #00d7ff\">None</span>, <span style=\"color: #00af00; text-decoration-color: #00af00\">1</span>, <span style=\"color: #00af00; text-decoration-color: #00af00\">9</span>)              │             <span style=\"color: #00af00; text-decoration-color: #00af00\">153</span> │ Input_DISTRIBUTION_STAT[<span style=\"color: #00af00; text-decoration-color: #00af00\">0</span>… │\n",
       "│ (<span style=\"color: #0087ff; text-decoration-color: #0087ff\">Embedding</span>)                   │                           │                 │                            │\n",
       "├───────────────────────────────┼───────────────────────────┼─────────────────┼────────────────────────────┤\n",
       "│ COUNT_ORIGEN_Embedding        │ (<span style=\"color: #00d7ff; text-decoration-color: #00d7ff\">None</span>, <span style=\"color: #00af00; text-decoration-color: #00af00\">1</span>, <span style=\"color: #00af00; text-decoration-color: #00af00\">50</span>)             │           <span style=\"color: #00af00; text-decoration-color: #00af00\">9,350</span> │ Input_COUNT_ORIGEN[<span style=\"color: #00af00; text-decoration-color: #00af00\">0</span>][<span style=\"color: #00af00; text-decoration-color: #00af00\">0</span>]   │\n",
       "│ (<span style=\"color: #0087ff; text-decoration-color: #0087ff\">Embedding</span>)                   │                           │                 │                            │\n",
       "├───────────────────────────────┼───────────────────────────┼─────────────────┼────────────────────────────┤\n",
       "│ reshape (<span style=\"color: #0087ff; text-decoration-color: #0087ff\">Reshape</span>)             │ (<span style=\"color: #00d7ff; text-decoration-color: #00d7ff\">None</span>, <span style=\"color: #00af00; text-decoration-color: #00af00\">6</span>)                 │               <span style=\"color: #00af00; text-decoration-color: #00af00\">0</span> │ DATE_CASE_Embedding[<span style=\"color: #00af00; text-decoration-color: #00af00\">0</span>][<span style=\"color: #00af00; text-decoration-color: #00af00\">0</span>]  │\n",
       "├───────────────────────────────┼───────────────────────────┼─────────────────┼────────────────────────────┤\n",
       "│ reshape_1 (<span style=\"color: #0087ff; text-decoration-color: #0087ff\">Reshape</span>)           │ (<span style=\"color: #00d7ff; text-decoration-color: #00d7ff\">None</span>, <span style=\"color: #00af00; text-decoration-color: #00af00\">16</span>)                │               <span style=\"color: #00af00; text-decoration-color: #00af00\">0</span> │ NOT_COUNTRY_Embedding[<span style=\"color: #00af00; text-decoration-color: #00af00\">0</span>][<span style=\"color: #00af00; text-decoration-color: #00af00\">…</span> │\n",
       "├───────────────────────────────┼───────────────────────────┼─────────────────┼────────────────────────────┤\n",
       "│ reshape_2 (<span style=\"color: #0087ff; text-decoration-color: #0087ff\">Reshape</span>)           │ (<span style=\"color: #00d7ff; text-decoration-color: #00d7ff\">None</span>, <span style=\"color: #00af00; text-decoration-color: #00af00\">9</span>)                 │               <span style=\"color: #00af00; text-decoration-color: #00af00\">0</span> │ DISTRIBUTION_STAT_Embeddi… │\n",
       "├───────────────────────────────┼───────────────────────────┼─────────────────┼────────────────────────────┤\n",
       "│ reshape_3 (<span style=\"color: #0087ff; text-decoration-color: #0087ff\">Reshape</span>)           │ (<span style=\"color: #00d7ff; text-decoration-color: #00d7ff\">None</span>, <span style=\"color: #00af00; text-decoration-color: #00af00\">50</span>)                │               <span style=\"color: #00af00; text-decoration-color: #00af00\">0</span> │ COUNT_ORIGEN_Embedding[<span style=\"color: #00af00; text-decoration-color: #00af00\">0</span>]… │\n",
       "├───────────────────────────────┼───────────────────────────┼─────────────────┼────────────────────────────┤\n",
       "│ concatenate (<span style=\"color: #0087ff; text-decoration-color: #0087ff\">Concatenate</span>)     │ (<span style=\"color: #00d7ff; text-decoration-color: #00d7ff\">None</span>, <span style=\"color: #00af00; text-decoration-color: #00af00\">81</span>)                │               <span style=\"color: #00af00; text-decoration-color: #00af00\">0</span> │ reshape[<span style=\"color: #00af00; text-decoration-color: #00af00\">0</span>][<span style=\"color: #00af00; text-decoration-color: #00af00\">0</span>],             │\n",
       "│                               │                           │                 │ reshape_1[<span style=\"color: #00af00; text-decoration-color: #00af00\">0</span>][<span style=\"color: #00af00; text-decoration-color: #00af00\">0</span>],           │\n",
       "│                               │                           │                 │ reshape_2[<span style=\"color: #00af00; text-decoration-color: #00af00\">0</span>][<span style=\"color: #00af00; text-decoration-color: #00af00\">0</span>],           │\n",
       "│                               │                           │                 │ reshape_3[<span style=\"color: #00af00; text-decoration-color: #00af00\">0</span>][<span style=\"color: #00af00; text-decoration-color: #00af00\">0</span>]            │\n",
       "├───────────────────────────────┼───────────────────────────┼─────────────────┼────────────────────────────┤\n",
       "│ dense (<span style=\"color: #0087ff; text-decoration-color: #0087ff\">Dense</span>)                 │ (<span style=\"color: #00d7ff; text-decoration-color: #00d7ff\">None</span>, <span style=\"color: #00af00; text-decoration-color: #00af00\">2048</span>)              │         <span style=\"color: #00af00; text-decoration-color: #00af00\">167,936</span> │ concatenate[<span style=\"color: #00af00; text-decoration-color: #00af00\">0</span>][<span style=\"color: #00af00; text-decoration-color: #00af00\">0</span>]          │\n",
       "├───────────────────────────────┼───────────────────────────┼─────────────────┼────────────────────────────┤\n",
       "│ dropout (<span style=\"color: #0087ff; text-decoration-color: #0087ff\">Dropout</span>)             │ (<span style=\"color: #00d7ff; text-decoration-color: #00d7ff\">None</span>, <span style=\"color: #00af00; text-decoration-color: #00af00\">2048</span>)              │               <span style=\"color: #00af00; text-decoration-color: #00af00\">0</span> │ dense[<span style=\"color: #00af00; text-decoration-color: #00af00\">0</span>][<span style=\"color: #00af00; text-decoration-color: #00af00\">0</span>]                │\n",
       "├───────────────────────────────┼───────────────────────────┼─────────────────┼────────────────────────────┤\n",
       "│ dense_1 (<span style=\"color: #0087ff; text-decoration-color: #0087ff\">Dense</span>)               │ (<span style=\"color: #00d7ff; text-decoration-color: #00d7ff\">None</span>, <span style=\"color: #00af00; text-decoration-color: #00af00\">1024</span>)              │       <span style=\"color: #00af00; text-decoration-color: #00af00\">2,098,176</span> │ dropout[<span style=\"color: #00af00; text-decoration-color: #00af00\">0</span>][<span style=\"color: #00af00; text-decoration-color: #00af00\">0</span>]              │\n",
       "├───────────────────────────────┼───────────────────────────┼─────────────────┼────────────────────────────┤\n",
       "│ dropout_1 (<span style=\"color: #0087ff; text-decoration-color: #0087ff\">Dropout</span>)           │ (<span style=\"color: #00d7ff; text-decoration-color: #00d7ff\">None</span>, <span style=\"color: #00af00; text-decoration-color: #00af00\">1024</span>)              │               <span style=\"color: #00af00; text-decoration-color: #00af00\">0</span> │ dense_1[<span style=\"color: #00af00; text-decoration-color: #00af00\">0</span>][<span style=\"color: #00af00; text-decoration-color: #00af00\">0</span>]              │\n",
       "├───────────────────────────────┼───────────────────────────┼─────────────────┼────────────────────────────┤\n",
       "│ dense_2 (<span style=\"color: #0087ff; text-decoration-color: #0087ff\">Dense</span>)               │ (<span style=\"color: #00d7ff; text-decoration-color: #00d7ff\">None</span>, <span style=\"color: #00af00; text-decoration-color: #00af00\">512</span>)               │         <span style=\"color: #00af00; text-decoration-color: #00af00\">524,800</span> │ dropout_1[<span style=\"color: #00af00; text-decoration-color: #00af00\">0</span>][<span style=\"color: #00af00; text-decoration-color: #00af00\">0</span>]            │\n",
       "├───────────────────────────────┼───────────────────────────┼─────────────────┼────────────────────────────┤\n",
       "│ dropout_2 (<span style=\"color: #0087ff; text-decoration-color: #0087ff\">Dropout</span>)           │ (<span style=\"color: #00d7ff; text-decoration-color: #00d7ff\">None</span>, <span style=\"color: #00af00; text-decoration-color: #00af00\">512</span>)               │               <span style=\"color: #00af00; text-decoration-color: #00af00\">0</span> │ dense_2[<span style=\"color: #00af00; text-decoration-color: #00af00\">0</span>][<span style=\"color: #00af00; text-decoration-color: #00af00\">0</span>]              │\n",
       "├───────────────────────────────┼───────────────────────────┼─────────────────┼────────────────────────────┤\n",
       "│ dense_3 (<span style=\"color: #0087ff; text-decoration-color: #0087ff\">Dense</span>)               │ (<span style=\"color: #00d7ff; text-decoration-color: #00d7ff\">None</span>, <span style=\"color: #00af00; text-decoration-color: #00af00\">38</span>)                │          <span style=\"color: #00af00; text-decoration-color: #00af00\">19,494</span> │ dropout_2[<span style=\"color: #00af00; text-decoration-color: #00af00\">0</span>][<span style=\"color: #00af00; text-decoration-color: #00af00\">0</span>]            │\n",
       "└───────────────────────────────┴───────────────────────────┴─────────────────┴────────────────────────────┘\n",
       "</pre>\n"
      ],
      "text/plain": [
       "┏━━━━━━━━━━━━━━━━━━━━━━━━━━━━━━━┳━━━━━━━━━━━━━━━━━━━━━━━━━━━┳━━━━━━━━━━━━━━━━━┳━━━━━━━━━━━━━━━━━━━━━━━━━━━━┓\n",
       "┃\u001b[1m \u001b[0m\u001b[1mLayer (type)                 \u001b[0m\u001b[1m \u001b[0m┃\u001b[1m \u001b[0m\u001b[1mOutput Shape             \u001b[0m\u001b[1m \u001b[0m┃\u001b[1m \u001b[0m\u001b[1m        Param #\u001b[0m\u001b[1m \u001b[0m┃\u001b[1m \u001b[0m\u001b[1mConnected to              \u001b[0m\u001b[1m \u001b[0m┃\n",
       "┡━━━━━━━━━━━━━━━━━━━━━━━━━━━━━━━╇━━━━━━━━━━━━━━━━━━━━━━━━━━━╇━━━━━━━━━━━━━━━━━╇━━━━━━━━━━━━━━━━━━━━━━━━━━━━┩\n",
       "│ Input_DATE_CASE (\u001b[38;5;33mInputLayer\u001b[0m)  │ (\u001b[38;5;45mNone\u001b[0m, \u001b[38;5;34m1\u001b[0m)                 │               \u001b[38;5;34m0\u001b[0m │ -                          │\n",
       "├───────────────────────────────┼───────────────────────────┼─────────────────┼────────────────────────────┤\n",
       "│ Input_NOT_COUNTRY             │ (\u001b[38;5;45mNone\u001b[0m, \u001b[38;5;34m1\u001b[0m)                 │               \u001b[38;5;34m0\u001b[0m │ -                          │\n",
       "│ (\u001b[38;5;33mInputLayer\u001b[0m)                  │                           │                 │                            │\n",
       "├───────────────────────────────┼───────────────────────────┼─────────────────┼────────────────────────────┤\n",
       "│ Input_DISTRIBUTION_STAT       │ (\u001b[38;5;45mNone\u001b[0m, \u001b[38;5;34m1\u001b[0m)                 │               \u001b[38;5;34m0\u001b[0m │ -                          │\n",
       "│ (\u001b[38;5;33mInputLayer\u001b[0m)                  │                           │                 │                            │\n",
       "├───────────────────────────────┼───────────────────────────┼─────────────────┼────────────────────────────┤\n",
       "│ Input_COUNT_ORIGEN            │ (\u001b[38;5;45mNone\u001b[0m, \u001b[38;5;34m1\u001b[0m)                 │               \u001b[38;5;34m0\u001b[0m │ -                          │\n",
       "│ (\u001b[38;5;33mInputLayer\u001b[0m)                  │                           │                 │                            │\n",
       "├───────────────────────────────┼───────────────────────────┼─────────────────┼────────────────────────────┤\n",
       "│ DATE_CASE_Embedding           │ (\u001b[38;5;45mNone\u001b[0m, \u001b[38;5;34m1\u001b[0m, \u001b[38;5;34m6\u001b[0m)              │              \u001b[38;5;34m72\u001b[0m │ Input_DATE_CASE[\u001b[38;5;34m0\u001b[0m][\u001b[38;5;34m0\u001b[0m]      │\n",
       "│ (\u001b[38;5;33mEmbedding\u001b[0m)                   │                           │                 │                            │\n",
       "├───────────────────────────────┼───────────────────────────┼─────────────────┼────────────────────────────┤\n",
       "│ NOT_COUNTRY_Embedding         │ (\u001b[38;5;45mNone\u001b[0m, \u001b[38;5;34m1\u001b[0m, \u001b[38;5;34m16\u001b[0m)             │             \u001b[38;5;34m512\u001b[0m │ Input_NOT_COUNTRY[\u001b[38;5;34m0\u001b[0m][\u001b[38;5;34m0\u001b[0m]    │\n",
       "│ (\u001b[38;5;33mEmbedding\u001b[0m)                   │                           │                 │                            │\n",
       "├───────────────────────────────┼───────────────────────────┼─────────────────┼────────────────────────────┤\n",
       "│ DISTRIBUTION_STAT_Embedding   │ (\u001b[38;5;45mNone\u001b[0m, \u001b[38;5;34m1\u001b[0m, \u001b[38;5;34m9\u001b[0m)              │             \u001b[38;5;34m153\u001b[0m │ Input_DISTRIBUTION_STAT[\u001b[38;5;34m0\u001b[0m… │\n",
       "│ (\u001b[38;5;33mEmbedding\u001b[0m)                   │                           │                 │                            │\n",
       "├───────────────────────────────┼───────────────────────────┼─────────────────┼────────────────────────────┤\n",
       "│ COUNT_ORIGEN_Embedding        │ (\u001b[38;5;45mNone\u001b[0m, \u001b[38;5;34m1\u001b[0m, \u001b[38;5;34m50\u001b[0m)             │           \u001b[38;5;34m9,350\u001b[0m │ Input_COUNT_ORIGEN[\u001b[38;5;34m0\u001b[0m][\u001b[38;5;34m0\u001b[0m]   │\n",
       "│ (\u001b[38;5;33mEmbedding\u001b[0m)                   │                           │                 │                            │\n",
       "├───────────────────────────────┼───────────────────────────┼─────────────────┼────────────────────────────┤\n",
       "│ reshape (\u001b[38;5;33mReshape\u001b[0m)             │ (\u001b[38;5;45mNone\u001b[0m, \u001b[38;5;34m6\u001b[0m)                 │               \u001b[38;5;34m0\u001b[0m │ DATE_CASE_Embedding[\u001b[38;5;34m0\u001b[0m][\u001b[38;5;34m0\u001b[0m]  │\n",
       "├───────────────────────────────┼───────────────────────────┼─────────────────┼────────────────────────────┤\n",
       "│ reshape_1 (\u001b[38;5;33mReshape\u001b[0m)           │ (\u001b[38;5;45mNone\u001b[0m, \u001b[38;5;34m16\u001b[0m)                │               \u001b[38;5;34m0\u001b[0m │ NOT_COUNTRY_Embedding[\u001b[38;5;34m0\u001b[0m][\u001b[38;5;34m…\u001b[0m │\n",
       "├───────────────────────────────┼───────────────────────────┼─────────────────┼────────────────────────────┤\n",
       "│ reshape_2 (\u001b[38;5;33mReshape\u001b[0m)           │ (\u001b[38;5;45mNone\u001b[0m, \u001b[38;5;34m9\u001b[0m)                 │               \u001b[38;5;34m0\u001b[0m │ DISTRIBUTION_STAT_Embeddi… │\n",
       "├───────────────────────────────┼───────────────────────────┼─────────────────┼────────────────────────────┤\n",
       "│ reshape_3 (\u001b[38;5;33mReshape\u001b[0m)           │ (\u001b[38;5;45mNone\u001b[0m, \u001b[38;5;34m50\u001b[0m)                │               \u001b[38;5;34m0\u001b[0m │ COUNT_ORIGEN_Embedding[\u001b[38;5;34m0\u001b[0m]… │\n",
       "├───────────────────────────────┼───────────────────────────┼─────────────────┼────────────────────────────┤\n",
       "│ concatenate (\u001b[38;5;33mConcatenate\u001b[0m)     │ (\u001b[38;5;45mNone\u001b[0m, \u001b[38;5;34m81\u001b[0m)                │               \u001b[38;5;34m0\u001b[0m │ reshape[\u001b[38;5;34m0\u001b[0m][\u001b[38;5;34m0\u001b[0m],             │\n",
       "│                               │                           │                 │ reshape_1[\u001b[38;5;34m0\u001b[0m][\u001b[38;5;34m0\u001b[0m],           │\n",
       "│                               │                           │                 │ reshape_2[\u001b[38;5;34m0\u001b[0m][\u001b[38;5;34m0\u001b[0m],           │\n",
       "│                               │                           │                 │ reshape_3[\u001b[38;5;34m0\u001b[0m][\u001b[38;5;34m0\u001b[0m]            │\n",
       "├───────────────────────────────┼───────────────────────────┼─────────────────┼────────────────────────────┤\n",
       "│ dense (\u001b[38;5;33mDense\u001b[0m)                 │ (\u001b[38;5;45mNone\u001b[0m, \u001b[38;5;34m2048\u001b[0m)              │         \u001b[38;5;34m167,936\u001b[0m │ concatenate[\u001b[38;5;34m0\u001b[0m][\u001b[38;5;34m0\u001b[0m]          │\n",
       "├───────────────────────────────┼───────────────────────────┼─────────────────┼────────────────────────────┤\n",
       "│ dropout (\u001b[38;5;33mDropout\u001b[0m)             │ (\u001b[38;5;45mNone\u001b[0m, \u001b[38;5;34m2048\u001b[0m)              │               \u001b[38;5;34m0\u001b[0m │ dense[\u001b[38;5;34m0\u001b[0m][\u001b[38;5;34m0\u001b[0m]                │\n",
       "├───────────────────────────────┼───────────────────────────┼─────────────────┼────────────────────────────┤\n",
       "│ dense_1 (\u001b[38;5;33mDense\u001b[0m)               │ (\u001b[38;5;45mNone\u001b[0m, \u001b[38;5;34m1024\u001b[0m)              │       \u001b[38;5;34m2,098,176\u001b[0m │ dropout[\u001b[38;5;34m0\u001b[0m][\u001b[38;5;34m0\u001b[0m]              │\n",
       "├───────────────────────────────┼───────────────────────────┼─────────────────┼────────────────────────────┤\n",
       "│ dropout_1 (\u001b[38;5;33mDropout\u001b[0m)           │ (\u001b[38;5;45mNone\u001b[0m, \u001b[38;5;34m1024\u001b[0m)              │               \u001b[38;5;34m0\u001b[0m │ dense_1[\u001b[38;5;34m0\u001b[0m][\u001b[38;5;34m0\u001b[0m]              │\n",
       "├───────────────────────────────┼───────────────────────────┼─────────────────┼────────────────────────────┤\n",
       "│ dense_2 (\u001b[38;5;33mDense\u001b[0m)               │ (\u001b[38;5;45mNone\u001b[0m, \u001b[38;5;34m512\u001b[0m)               │         \u001b[38;5;34m524,800\u001b[0m │ dropout_1[\u001b[38;5;34m0\u001b[0m][\u001b[38;5;34m0\u001b[0m]            │\n",
       "├───────────────────────────────┼───────────────────────────┼─────────────────┼────────────────────────────┤\n",
       "│ dropout_2 (\u001b[38;5;33mDropout\u001b[0m)           │ (\u001b[38;5;45mNone\u001b[0m, \u001b[38;5;34m512\u001b[0m)               │               \u001b[38;5;34m0\u001b[0m │ dense_2[\u001b[38;5;34m0\u001b[0m][\u001b[38;5;34m0\u001b[0m]              │\n",
       "├───────────────────────────────┼───────────────────────────┼─────────────────┼────────────────────────────┤\n",
       "│ dense_3 (\u001b[38;5;33mDense\u001b[0m)               │ (\u001b[38;5;45mNone\u001b[0m, \u001b[38;5;34m38\u001b[0m)                │          \u001b[38;5;34m19,494\u001b[0m │ dropout_2[\u001b[38;5;34m0\u001b[0m][\u001b[38;5;34m0\u001b[0m]            │\n",
       "└───────────────────────────────┴───────────────────────────┴─────────────────┴────────────────────────────┘\n"
      ]
     },
     "metadata": {},
     "output_type": "display_data"
    },
    {
     "data": {
      "text/html": [
       "<pre style=\"white-space:pre;overflow-x:auto;line-height:normal;font-family:Menlo,'DejaVu Sans Mono',consolas,'Courier New',monospace\"><span style=\"font-weight: bold\"> Total params: </span><span style=\"color: #00af00; text-decoration-color: #00af00\">8,461,481</span> (32.28 MB)\n",
       "</pre>\n"
      ],
      "text/plain": [
       "\u001b[1m Total params: \u001b[0m\u001b[38;5;34m8,461,481\u001b[0m (32.28 MB)\n"
      ]
     },
     "metadata": {},
     "output_type": "display_data"
    },
    {
     "data": {
      "text/html": [
       "<pre style=\"white-space:pre;overflow-x:auto;line-height:normal;font-family:Menlo,'DejaVu Sans Mono',consolas,'Courier New',monospace\"><span style=\"font-weight: bold\"> Trainable params: </span><span style=\"color: #00af00; text-decoration-color: #00af00\">2,820,493</span> (10.76 MB)\n",
       "</pre>\n"
      ],
      "text/plain": [
       "\u001b[1m Trainable params: \u001b[0m\u001b[38;5;34m2,820,493\u001b[0m (10.76 MB)\n"
      ]
     },
     "metadata": {},
     "output_type": "display_data"
    },
    {
     "data": {
      "text/html": [
       "<pre style=\"white-space:pre;overflow-x:auto;line-height:normal;font-family:Menlo,'DejaVu Sans Mono',consolas,'Courier New',monospace\"><span style=\"font-weight: bold\"> Non-trainable params: </span><span style=\"color: #00af00; text-decoration-color: #00af00\">0</span> (0.00 B)\n",
       "</pre>\n"
      ],
      "text/plain": [
       "\u001b[1m Non-trainable params: \u001b[0m\u001b[38;5;34m0\u001b[0m (0.00 B)\n"
      ]
     },
     "metadata": {},
     "output_type": "display_data"
    },
    {
     "data": {
      "text/html": [
       "<pre style=\"white-space:pre;overflow-x:auto;line-height:normal;font-family:Menlo,'DejaVu Sans Mono',consolas,'Courier New',monospace\"><span style=\"font-weight: bold\"> Optimizer params: </span><span style=\"color: #00af00; text-decoration-color: #00af00\">5,640,988</span> (21.52 MB)\n",
       "</pre>\n"
      ],
      "text/plain": [
       "\u001b[1m Optimizer params: \u001b[0m\u001b[38;5;34m5,640,988\u001b[0m (21.52 MB)\n"
      ]
     },
     "metadata": {},
     "output_type": "display_data"
    }
   ],
   "source": [
    "model.summary()"
   ]
  },
  {
   "cell_type": "markdown",
   "metadata": {
    "colab_type": "text",
    "id": "EC9JKLqh4vuL"
   },
   "source": [
    "## Obtaining average returns"
   ]
  },
  {
   "cell_type": "code",
   "execution_count": 27,
   "metadata": {},
   "outputs": [
    {
     "name": "stdout",
     "output_type": "stream",
     "text": [
      "Shape of input_list_testval: [(28306,), (28306,), (28306,), (28306,)]\n",
      "Shape of y_val_one_hot: (28306, 38)\n"
     ]
    }
   ],
   "source": [
    "print(f\"Shape of input_list_testval: {[x.shape for x in input_list_test]}\")\n",
    "print(f\"Shape of y_val_one_hot: {y_test.shape}\")"
   ]
  },
  {
   "cell_type": "code",
   "execution_count": 28,
   "metadata": {
    "ExecuteTime": {
     "end_time": "2019-11-04T13:16:54.409763Z",
     "start_time": "2019-11-04T13:13:02.303336Z"
    },
    "colab": {},
    "colab_type": "code",
    "id": "B5n8TZuh4vuL"
   },
   "outputs": [
    {
     "name": "stdout",
     "output_type": "stream",
     "text": [
      "\u001b[1m885/885\u001b[0m \u001b[32m━━━━━━━━━━━━━━━━━━━━\u001b[0m\u001b[37m\u001b[0m \u001b[1m4s\u001b[0m 4ms/step - accuracy: 0.7828 - loss: 0.6088 - top_1_categorical_accuracy: 0.7828 - top_2_categorical_accuracy: 0.9036 - top_3_categorical_accuracy: 0.9446\n"
     ]
    },
    {
     "name": "stderr",
     "output_type": "stream",
     "text": [
      "WARNING:absl:You are saving your model as an HDF5 file via `model.save()` or `keras.saving.save_model(model)`. This file format is considered legacy. We recommend using instead the native Keras format, e.g. `model.save('my_model.keras')` or `keras.saving.save_model(model, 'my_model.keras')`. \n"
     ]
    },
    {
     "name": "stdout",
     "output_type": "stream",
     "text": [
      "\u001b[1m885/885\u001b[0m \u001b[32m━━━━━━━━━━━━━━━━━━━━\u001b[0m\u001b[37m\u001b[0m \u001b[1m4s\u001b[0m 3ms/step - accuracy: 0.7846 - loss: 0.5893 - top_1_categorical_accuracy: 0.7846 - top_2_categorical_accuracy: 0.9057 - top_3_categorical_accuracy: 0.9479\n"
     ]
    },
    {
     "name": "stderr",
     "output_type": "stream",
     "text": [
      "WARNING:absl:You are saving your model as an HDF5 file via `model.save()` or `keras.saving.save_model(model)`. This file format is considered legacy. We recommend using instead the native Keras format, e.g. `model.save('my_model.keras')` or `keras.saving.save_model(model, 'my_model.keras')`. \n"
     ]
    },
    {
     "name": "stdout",
     "output_type": "stream",
     "text": [
      "\u001b[1m885/885\u001b[0m \u001b[32m━━━━━━━━━━━━━━━━━━━━\u001b[0m\u001b[37m\u001b[0m \u001b[1m5s\u001b[0m 5ms/step - accuracy: 0.7848 - loss: 0.5793 - top_1_categorical_accuracy: 0.7848 - top_2_categorical_accuracy: 0.9066 - top_3_categorical_accuracy: 0.9473\n"
     ]
    },
    {
     "name": "stderr",
     "output_type": "stream",
     "text": [
      "WARNING:absl:You are saving your model as an HDF5 file via `model.save()` or `keras.saving.save_model(model)`. This file format is considered legacy. We recommend using instead the native Keras format, e.g. `model.save('my_model.keras')` or `keras.saving.save_model(model, 'my_model.keras')`. \n"
     ]
    },
    {
     "name": "stdout",
     "output_type": "stream",
     "text": [
      "\u001b[1m885/885\u001b[0m \u001b[32m━━━━━━━━━━━━━━━━━━━━\u001b[0m\u001b[37m\u001b[0m \u001b[1m4s\u001b[0m 5ms/step - accuracy: 0.7855 - loss: 0.5694 - top_1_categorical_accuracy: 0.7855 - top_2_categorical_accuracy: 0.9100 - top_3_categorical_accuracy: 0.9504\n"
     ]
    },
    {
     "name": "stderr",
     "output_type": "stream",
     "text": [
      "WARNING:absl:You are saving your model as an HDF5 file via `model.save()` or `keras.saving.save_model(model)`. This file format is considered legacy. We recommend using instead the native Keras format, e.g. `model.save('my_model.keras')` or `keras.saving.save_model(model, 'my_model.keras')`. \n"
     ]
    },
    {
     "name": "stdout",
     "output_type": "stream",
     "text": [
      "\u001b[1m885/885\u001b[0m \u001b[32m━━━━━━━━━━━━━━━━━━━━\u001b[0m\u001b[37m\u001b[0m \u001b[1m5s\u001b[0m 5ms/step - accuracy: 0.7826 - loss: 0.5695 - top_1_categorical_accuracy: 0.7826 - top_2_categorical_accuracy: 0.9065 - top_3_categorical_accuracy: 0.9481\n"
     ]
    },
    {
     "name": "stderr",
     "output_type": "stream",
     "text": [
      "WARNING:absl:You are saving your model as an HDF5 file via `model.save()` or `keras.saving.save_model(model)`. This file format is considered legacy. We recommend using instead the native Keras format, e.g. `model.save('my_model.keras')` or `keras.saving.save_model(model, 'my_model.keras')`. \n"
     ]
    }
   ],
   "source": [
    "historials = []\n",
    "evaluations = []\n",
    "for i in range (1,6):\n",
    "    model.compile(loss='categorical_crossentropy', optimizer=\"adam\", metrics=['accuracy', top_1_categorical_accuracy,top_2_categorical_accuracy,top_3_categorical_accuracy])\n",
    "    hist = model.fit(input_list_train,y_train,validation_data=(input_list_test,y_test) , epochs = 25 , batch_size = 64, verbose=0)\n",
    "    historials.append(hist)\n",
    "    evaluation = model.evaluate(x = input_list_testval, y =  y_val)\n",
    "    evaluations. append(evaluation)\n",
    "    model.save (\"model\"+str(i)+\".h5\")"
   ]
  },
  {
   "cell_type": "code",
   "execution_count": 29,
   "metadata": {
    "ExecuteTime": {
     "end_time": "2019-11-04T09:50:26.330206Z",
     "start_time": "2019-11-04T09:50:26.326244Z"
    },
    "colab": {},
    "colab_type": "code",
    "id": "m9isVZio4vuP"
   },
   "outputs": [
    {
     "name": "stdout",
     "output_type": "stream",
     "text": [
      "0.7856920838356019\n"
     ]
    }
   ],
   "source": [
    "suma = 0\n",
    "for i in evaluations:\n",
    "    suma = suma + i[2]\n",
    "print(suma/5)"
   ]
  },
  {
   "cell_type": "code",
   "execution_count": 30,
   "metadata": {
    "ExecuteTime": {
     "end_time": "2019-11-04T13:08:17.064591Z",
     "start_time": "2019-11-04T13:08:16.592853Z"
    },
    "colab": {},
    "colab_type": "code",
    "id": "SnCSpyFE4vuS",
    "outputId": "7b9394d5-1328-4fce-c268-f1afa890b03a"
   },
   "outputs": [
    {
     "name": "stdout",
     "output_type": "stream",
     "text": [
      "\u001b[1m885/885\u001b[0m \u001b[32m━━━━━━━━━━━━━━━━━━━━\u001b[0m\u001b[37m\u001b[0m \u001b[1m4s\u001b[0m 4ms/step - accuracy: 0.7826 - loss: 0.5695 - top_1_categorical_accuracy: 0.7826 - top_2_categorical_accuracy: 0.9065 - top_3_categorical_accuracy: 0.9481\n"
     ]
    },
    {
     "data": {
      "text/plain": [
       "[0.5631259083747864,\n",
       " 0.7855931520462036,\n",
       " 0.7855931520462036,\n",
       " 0.9095597863197327,\n",
       " 0.9505405426025391]"
      ]
     },
     "execution_count": 30,
     "metadata": {},
     "output_type": "execute_result"
    }
   ],
   "source": [
    "model.evaluate(x = input_list_testval, y = y_val)"
   ]
  },
  {
   "cell_type": "markdown",
   "metadata": {
    "colab_type": "text",
    "id": "QFaq9XwP4vuT"
   },
   "source": [
    "## Training Charts"
   ]
  },
  {
   "cell_type": "code",
   "execution_count": 31,
   "metadata": {
    "ExecuteTime": {
     "end_time": "2019-10-30T12:16:38.992828Z",
     "start_time": "2019-10-30T12:16:38.988858Z"
    },
    "colab": {},
    "colab_type": "code",
    "id": "TgmXgnHY4vuU",
    "outputId": "788dea65-bdde-4e22-a099-a46a53ba42ff"
   },
   "outputs": [
    {
     "data": {
      "text/plain": [
       "['loss', 'compile_metrics']"
      ]
     },
     "execution_count": 31,
     "metadata": {},
     "output_type": "execute_result"
    }
   ],
   "source": [
    "model.metrics_names"
   ]
  },
  {
   "cell_type": "code",
   "execution_count": 32,
   "metadata": {
    "ExecuteTime": {
     "end_time": "2019-07-05T11:42:59.144102Z",
     "start_time": "2019-07-05T11:42:58.905719Z"
    },
    "colab": {},
    "colab_type": "code",
    "id": "XRuyJXBI4vuY",
    "outputId": "ac433aa9-647a-4f3f-aa51-c8c4af9ed15b"
   },
   "outputs": [
    {
     "data": {
      "image/png": "[encoded data removed]",
      "text/plain": [
       "<Figure size 640x480 with 1 Axes>"
      ]
     },
     "metadata": {},
     "output_type": "display_data"
    },
    {
     "data": {
      "image/png": "[encoded data removed]",
      "text/plain": [
       "<Figure size 640x480 with 1 Axes>"
      ]
     },
     "metadata": {},
     "output_type": "display_data"
    }
   ],
   "source": [
    "plt.plot(hist.history['loss'], label = 'loss') \n",
    "plt.plot(hist.history['val_loss'], label = 'val_loss') \n",
    "plt.legend()\n",
    "plt.show()\n",
    "\n",
    "\n",
    "plt.plot(hist.history['val_top_1_categorical_accuracy'], label = 'val_acc') \n",
    "plt.legend()\n",
    "plt.show()"
   ]
  },
  {
   "cell_type": "markdown",
   "metadata": {
    "colab_type": "text",
    "id": "Qk0OUmnL4vup"
   },
   "source": [
    "## Models Figure"
   ]
  },
  {
   "cell_type": "code",
   "execution_count": 33,
   "metadata": {
    "ExecuteTime": {
     "end_time": "2019-05-28T12:45:15.959328Z",
     "start_time": "2019-05-28T12:45:15.607243Z"
    },
    "colab": {},
    "colab_type": "code",
    "id": "fh0Lno3Y4vup",
    "outputId": "060907b2-3ade-4d29-c76b-9013d6127663",
    "scrolled": true
   },
   "outputs": [
    {
     "name": "stdout",
     "output_type": "stream",
     "text": [
      "You must install graphviz (see instructions at https://graphviz.gitlab.io/download/) for `plot_model` to work.\n"
     ]
    },
    {
     "ename": "FileNotFoundError",
     "evalue": "[Errno 2] No such file or directory: 'model3.png'",
     "output_type": "error",
     "traceback": [
      "\u001b[1;31m---------------------------------------------------------------------------\u001b[0m",
      "\u001b[1;31mFileNotFoundError\u001b[0m                         Traceback (most recent call last)",
      "Cell \u001b[1;32mIn[33], line 2\u001b[0m\n\u001b[0;32m      1\u001b[0m plot_model(model, to_file\u001b[38;5;241m=\u001b[39m\u001b[38;5;124m'\u001b[39m\u001b[38;5;124mmodel3.png\u001b[39m\u001b[38;5;124m'\u001b[39m,show_shapes\u001b[38;5;241m=\u001b[39m\u001b[38;5;28;01mTrue\u001b[39;00m,show_layer_names\u001b[38;5;241m=\u001b[39m\u001b[38;5;28;01mTrue\u001b[39;00m)\n\u001b[1;32m----> 2\u001b[0m Image(retina\u001b[38;5;241m=\u001b[39m\u001b[38;5;28;01mTrue\u001b[39;00m, filename\u001b[38;5;241m=\u001b[39m\u001b[38;5;124m'\u001b[39m\u001b[38;5;124mmodel3.png\u001b[39m\u001b[38;5;124m'\u001b[39m)\n",
      "File \u001b[1;32m~\\anaconda3\\Lib\\site-packages\\IPython\\core\\display.py:970\u001b[0m, in \u001b[0;36mImage.__init__\u001b[1;34m(self, data, url, filename, format, embed, width, height, retina, unconfined, metadata, alt)\u001b[0m\n\u001b[0;32m    968\u001b[0m \u001b[38;5;28mself\u001b[39m\u001b[38;5;241m.\u001b[39munconfined \u001b[38;5;241m=\u001b[39m unconfined\n\u001b[0;32m    969\u001b[0m \u001b[38;5;28mself\u001b[39m\u001b[38;5;241m.\u001b[39malt \u001b[38;5;241m=\u001b[39m alt\n\u001b[1;32m--> 970\u001b[0m \u001b[38;5;28msuper\u001b[39m(Image, \u001b[38;5;28mself\u001b[39m)\u001b[38;5;241m.\u001b[39m\u001b[38;5;21m__init__\u001b[39m(data\u001b[38;5;241m=\u001b[39mdata, url\u001b[38;5;241m=\u001b[39murl, filename\u001b[38;5;241m=\u001b[39mfilename,\n\u001b[0;32m    971\u001b[0m         metadata\u001b[38;5;241m=\u001b[39mmetadata)\n\u001b[0;32m    973\u001b[0m \u001b[38;5;28;01mif\u001b[39;00m \u001b[38;5;28mself\u001b[39m\u001b[38;5;241m.\u001b[39mwidth \u001b[38;5;129;01mis\u001b[39;00m \u001b[38;5;28;01mNone\u001b[39;00m \u001b[38;5;129;01mand\u001b[39;00m \u001b[38;5;28mself\u001b[39m\u001b[38;5;241m.\u001b[39mmetadata\u001b[38;5;241m.\u001b[39mget(\u001b[38;5;124m'\u001b[39m\u001b[38;5;124mwidth\u001b[39m\u001b[38;5;124m'\u001b[39m, {}):\n\u001b[0;32m    974\u001b[0m     \u001b[38;5;28mself\u001b[39m\u001b[38;5;241m.\u001b[39mwidth \u001b[38;5;241m=\u001b[39m metadata[\u001b[38;5;124m'\u001b[39m\u001b[38;5;124mwidth\u001b[39m\u001b[38;5;124m'\u001b[39m]\n",
      "File \u001b[1;32m~\\anaconda3\\Lib\\site-packages\\IPython\\core\\display.py:327\u001b[0m, in \u001b[0;36mDisplayObject.__init__\u001b[1;34m(self, data, url, filename, metadata)\u001b[0m\n\u001b[0;32m    324\u001b[0m \u001b[38;5;28;01melif\u001b[39;00m \u001b[38;5;28mself\u001b[39m\u001b[38;5;241m.\u001b[39mmetadata \u001b[38;5;129;01mis\u001b[39;00m \u001b[38;5;28;01mNone\u001b[39;00m:\n\u001b[0;32m    325\u001b[0m     \u001b[38;5;28mself\u001b[39m\u001b[38;5;241m.\u001b[39mmetadata \u001b[38;5;241m=\u001b[39m {}\n\u001b[1;32m--> 327\u001b[0m \u001b[38;5;28mself\u001b[39m\u001b[38;5;241m.\u001b[39mreload()\n\u001b[0;32m    328\u001b[0m \u001b[38;5;28mself\u001b[39m\u001b[38;5;241m.\u001b[39m_check_data()\n",
      "File \u001b[1;32m~\\anaconda3\\Lib\\site-packages\\IPython\\core\\display.py:1005\u001b[0m, in \u001b[0;36mImage.reload\u001b[1;34m(self)\u001b[0m\n\u001b[0;32m   1003\u001b[0m \u001b[38;5;250m\u001b[39m\u001b[38;5;124;03m\"\"\"Reload the raw data from file or URL.\"\"\"\u001b[39;00m\n\u001b[0;32m   1004\u001b[0m \u001b[38;5;28;01mif\u001b[39;00m \u001b[38;5;28mself\u001b[39m\u001b[38;5;241m.\u001b[39membed:\n\u001b[1;32m-> 1005\u001b[0m     \u001b[38;5;28msuper\u001b[39m(Image,\u001b[38;5;28mself\u001b[39m)\u001b[38;5;241m.\u001b[39mreload()\n\u001b[0;32m   1006\u001b[0m     \u001b[38;5;28;01mif\u001b[39;00m \u001b[38;5;28mself\u001b[39m\u001b[38;5;241m.\u001b[39mretina:\n\u001b[0;32m   1007\u001b[0m         \u001b[38;5;28mself\u001b[39m\u001b[38;5;241m.\u001b[39m_retina_shape()\n",
      "File \u001b[1;32m~\\anaconda3\\Lib\\site-packages\\IPython\\core\\display.py:353\u001b[0m, in \u001b[0;36mDisplayObject.reload\u001b[1;34m(self)\u001b[0m\n\u001b[0;32m    351\u001b[0m \u001b[38;5;28;01mif\u001b[39;00m \u001b[38;5;28mself\u001b[39m\u001b[38;5;241m.\u001b[39mfilename \u001b[38;5;129;01mis\u001b[39;00m \u001b[38;5;129;01mnot\u001b[39;00m \u001b[38;5;28;01mNone\u001b[39;00m:\n\u001b[0;32m    352\u001b[0m     encoding \u001b[38;5;241m=\u001b[39m \u001b[38;5;28;01mNone\u001b[39;00m \u001b[38;5;28;01mif\u001b[39;00m \u001b[38;5;124m\"\u001b[39m\u001b[38;5;124mb\u001b[39m\u001b[38;5;124m\"\u001b[39m \u001b[38;5;129;01min\u001b[39;00m \u001b[38;5;28mself\u001b[39m\u001b[38;5;241m.\u001b[39m_read_flags \u001b[38;5;28;01melse\u001b[39;00m \u001b[38;5;124m\"\u001b[39m\u001b[38;5;124mutf-8\u001b[39m\u001b[38;5;124m\"\u001b[39m\n\u001b[1;32m--> 353\u001b[0m     \u001b[38;5;28;01mwith\u001b[39;00m \u001b[38;5;28mopen\u001b[39m(\u001b[38;5;28mself\u001b[39m\u001b[38;5;241m.\u001b[39mfilename, \u001b[38;5;28mself\u001b[39m\u001b[38;5;241m.\u001b[39m_read_flags, encoding\u001b[38;5;241m=\u001b[39mencoding) \u001b[38;5;28;01mas\u001b[39;00m f:\n\u001b[0;32m    354\u001b[0m         \u001b[38;5;28mself\u001b[39m\u001b[38;5;241m.\u001b[39mdata \u001b[38;5;241m=\u001b[39m f\u001b[38;5;241m.\u001b[39mread()\n\u001b[0;32m    355\u001b[0m \u001b[38;5;28;01melif\u001b[39;00m \u001b[38;5;28mself\u001b[39m\u001b[38;5;241m.\u001b[39murl \u001b[38;5;129;01mis\u001b[39;00m \u001b[38;5;129;01mnot\u001b[39;00m \u001b[38;5;28;01mNone\u001b[39;00m:\n\u001b[0;32m    356\u001b[0m     \u001b[38;5;66;03m# Deferred import\u001b[39;00m\n",
      "\u001b[1;31mFileNotFoundError\u001b[0m: [Errno 2] No such file or directory: 'model3.png'"
     ]
    }
   ],
   "source": [
    "\n",
    "plot_model(model, to_file='model3.png',show_shapes=True,show_layer_names=True)\n",
    "Image(retina=True, filename='model3.png')"
   ]
  },
  {
   "cell_type": "markdown",
   "metadata": {
    "colab_type": "text",
    "id": "J_PADux24vus"
   },
   "source": [
    "## Dự đoán và biến đổi ngược lại ( chuyển đổi dự đoán số và phân loại dự đoán)"
   ]
  },
  {
   "cell_type": "code",
   "execution_count": 34,
   "metadata": {
    "ExecuteTime": {
     "end_time": "2019-10-30T11:19:03.982854Z",
     "start_time": "2019-10-30T11:19:03.233830Z"
    },
    "colab": {},
    "colab_type": "code",
    "id": "w_RKDViY4vus",
    "outputId": "1367f275-2ec4-40fa-9056-2a2b6a149866"
   },
   "outputs": [
    {
     "name": "stdout",
     "output_type": "stream",
     "text": [
      "\u001b[1m885/885\u001b[0m \u001b[32m━━━━━━━━━━━━━━━━━━━━\u001b[0m\u001b[37m\u001b[0m \u001b[1m4s\u001b[0m 5ms/step\n"
     ]
    },
    {
     "data": {
      "text/plain": [
       "array([8.9267851e-13, 5.5718979e-27, 6.9076468e-12, 2.5447744e-09,\n",
       "       1.6969184e-10, 7.6584649e-05, 1.7387691e-06, 6.5410788e-11,\n",
       "       7.3494930e-06, 6.3297298e-11, 1.0439248e-04, 2.4095232e-07,\n",
       "       1.6871478e-06, 1.6640057e-13, 2.6460961e-07, 1.8556963e-06,\n",
       "       1.0107689e-21, 5.0550807e-07, 5.4987338e-12, 9.2506225e-10,\n",
       "       1.5082160e-02, 1.5271157e-30, 9.4658100e-07, 9.9661726e-08,\n",
       "       2.8576065e-12, 1.4521123e-05, 6.7105492e-07, 6.6621974e-14,\n",
       "       4.0103679e-10, 6.8329318e-05, 9.8463422e-01, 9.7385157e-07,\n",
       "       1.3314888e-11, 6.2111940e-07, 2.0810457e-06, 7.1384540e-07,\n",
       "       2.1325029e-15, 1.2123093e-14], dtype=float32)"
      ]
     },
     "execution_count": 34,
     "metadata": {},
     "output_type": "execute_result"
    }
   ],
   "source": [
    "prediction = model.predict(input_list_test)\n",
    "prediction[0]"
   ]
  },
  {
   "cell_type": "code",
   "execution_count": 35,
   "metadata": {
    "ExecuteTime": {
     "end_time": "2019-05-29T08:28:57.560215Z",
     "start_time": "2019-05-29T08:28:57.554231Z"
    },
    "colab": {},
    "colab_type": "code",
    "id": "C1Pu0Kiz4vuu",
    "outputId": "9f14a765-2404-4a52-8c60-a807852195bb",
    "scrolled": true
   },
   "outputs": [
    {
     "data": {
      "text/plain": [
       "array([0.  , 0.  , 0.  , 0.  , 0.  , 0.  , 0.  , 0.  , 0.  , 0.  , 0.  ,\n",
       "       0.  , 0.  , 0.  , 0.  , 0.  , 0.  , 0.  , 0.  , 0.  , 0.89, 0.  ,\n",
       "       0.  , 0.  , 0.  , 0.  , 0.  , 0.11, 0.  , 0.  , 0.  , 0.  , 0.  ,\n",
       "       0.  , 0.  , 0.  , 0.  , 0.  ], dtype=float32)"
      ]
     },
     "execution_count": 35,
     "metadata": {},
     "output_type": "execute_result"
    }
   ],
   "source": [
    "pred = np.around(prediction[12],decimals = 2)\n",
    "pred"
   ]
  },
  {
   "cell_type": "code",
   "execution_count": 36,
   "metadata": {
    "ExecuteTime": {
     "end_time": "2019-05-29T08:29:08.534489Z",
     "start_time": "2019-05-29T08:29:08.529503Z"
    },
    "colab": {},
    "colab_type": "code",
    "id": "zyG-Bs4x4vux",
    "outputId": "973b0c41-b617-43f4-d50f-93587dce273b"
   },
   "outputs": [
    {
     "data": {
      "text/plain": [
       "(array([], dtype=int64),)"
      ]
     },
     "execution_count": 36,
     "metadata": {},
     "output_type": "execute_result"
    }
   ],
   "source": [
    "np.where(pred == 0.97)"
   ]
  },
  {
   "cell_type": "code",
   "execution_count": 37,
   "metadata": {
    "ExecuteTime": {
     "end_time": "2019-05-29T08:29:16.262711Z",
     "start_time": "2019-05-29T08:29:16.258721Z"
    },
    "colab": {},
    "colab_type": "code",
    "id": "0cuu7prL4vuz"
   },
   "outputs": [],
   "source": [
    "pred[25] = 1"
   ]
  },
  {
   "cell_type": "code",
   "execution_count": 38,
   "metadata": {
    "ExecuteTime": {
     "end_time": "2019-05-29T08:29:30.871409Z",
     "start_time": "2019-05-29T08:29:30.866446Z"
    },
    "colab": {},
    "colab_type": "code",
    "id": "mkNcOio44vu0",
    "outputId": "872c74dd-2ed9-49d3-8fb7-8a2e155d01f5"
   },
   "outputs": [
    {
     "data": {
      "text/plain": [
       "array([['meat and meat products (other than poultry)']], dtype=object)"
      ]
     },
     "execution_count": 38,
     "metadata": {},
     "output_type": "execute_result"
    }
   ],
   "source": [
    "ency.inverse_transform(np.around(pred.reshape(1, -1),decimals = 3)) #Predicción"
   ]
  },
  {
   "cell_type": "code",
   "execution_count": 39,
   "metadata": {
    "ExecuteTime": {
     "end_time": "2019-05-29T08:29:45.430401Z",
     "start_time": "2019-05-29T08:29:45.426409Z"
    },
    "colab": {},
    "colab_type": "code",
    "id": "ETaxNiqL4vu2",
    "outputId": "7d729b9d-98ed-4d49-86d4-5cf0c6d0d6cd"
   },
   "outputs": [
    {
     "data": {
      "text/plain": [
       "array([['food contact materials']], dtype=object)"
      ]
     },
     "execution_count": 39,
     "metadata": {},
     "output_type": "execute_result"
    }
   ],
   "source": [
    "ency.inverse_transform(np.around(y_test[25].reshape(1, -1),decimals = 1)) #Realidad"
   ]
  },
  {
   "cell_type": "markdown",
   "metadata": {
    "colab_type": "text",
    "id": "QP8Cvw294vu5"
   },
   "source": [
    "## Pruebas grid search"
   ]
  },
  {
   "cell_type": "code",
   "execution_count": 51,
   "metadata": {
    "ExecuteTime": {
     "end_time": "2019-03-13T15:00:35.110033Z",
     "start_time": "2019-03-13T15:00:35.101028Z"
    },
    "colab": {},
    "colab_type": "code",
    "id": "2snO_9VV4vu6"
   },
   "outputs": [],
   "source": [
    "def create_model(activation = 'relu' ):\n",
    "    input_models=[]\n",
    "    output_embeddings=[]\n",
    "    combi_input = Input((3,)) # (None, 3)\n",
    "\n",
    "    for categorical_var in categoical_vars:\n",
    "        \n",
    "        cat_emb_name= categorical_var.replace(\" \", \"\")+'_Embedding'\n",
    "        input_name= 'Input_' + categorical_var.replace(\" \", \"\")\n",
    "        no_of_unique_cat  = X_train[categorical_var].nunique()\n",
    "        embedding_size = int(min(np.ceil((no_of_unique_cat)/2), 50 ))\n",
    "        input_model = Input(shape=(1,), name=input_name)\n",
    "        output_model = Embedding(no_of_unique_cat, embedding_size, name=cat_emb_name)(input_model)\n",
    "        output_model = Reshape(target_shape=(embedding_size,))(output_model)    \n",
    "        input_models.append(input_model)\n",
    "        output_embeddings.append(output_model)\n",
    "\n",
    "\n",
    "\n",
    "    output = Concatenate()(output_embeddings)\n",
    "    output = Dense(2500,activation=activation)(output)\n",
    "    output= Dropout(0.5)(output)\n",
    "    output = Dense(1500,activation=activation)(output)\n",
    "    output= Dropout(0.4)(output)\n",
    "    output = Dense(1000,activation=activation)(output)\n",
    "    output= Dropout(0.3)(output)\n",
    "    output = Dense(38, activation='softmax')(output)\n",
    "    model = Model(inputs=input_models, outputs=output)\n",
    "    model.compile(loss='categorical_crossentropy', optimizer=\"adam\", metrics=['categorical_accuracy'])\n",
    "    return model"
   ]
  },
  {
   "cell_type": "code",
   "execution_count": 52,
   "metadata": {
    "ExecuteTime": {
     "end_time": "2019-03-13T15:00:35.944821Z",
     "start_time": "2019-03-13T15:00:35.940857Z"
    },
    "colab": {},
    "colab_type": "code",
    "id": "XP4UChhy4vu8"
   },
   "outputs": [],
   "source": [
    "model = KerasClassifier(model=create_model, verbose=1,batch_size = 512, epochs = 3)"
   ]
  },
  {
   "cell_type": "code",
   "execution_count": 53,
   "metadata": {},
   "outputs": [],
   "source": [
    "input_list_train = [np.array(arr) for arr in input_list_train]\n",
    "input_list_test = [np.array(arr) for arr in input_list_test]\n"
   ]
  },
  {
   "cell_type": "code",
   "execution_count": 55,
   "metadata": {
    "ExecuteTime": {
     "end_time": "2019-03-13T15:00:37.088910Z",
     "start_time": "2019-03-13T15:00:37.084944Z"
    },
    "colab": {},
    "colab_type": "code",
    "id": "8VE399cu4vu_"
   },
   "outputs": [
    {
     "ename": "ValueError",
     "evalue": "\nAll the 16 fits failed.\nIt is very likely that your model is misconfigured.\nYou can try to debug the error by setting error_score='raise'.\n\nBelow are more details about the failures:\n--------------------------------------------------------------------------------\n8 fits failed with the following error:\nTraceback (most recent call last):\n  File \"C:\\Users\\ASUS\\anaconda3\\Lib\\site-packages\\sklearn\\model_selection\\_validation.py\", line 888, in _fit_and_score\n    estimator.fit(X_train, y_train, **fit_params)\n  File \"C:\\Users\\ASUS\\anaconda3\\Lib\\site-packages\\scikeras\\wrappers.py\", line 1501, in fit\n    super().fit(X=X, y=y, sample_weight=sample_weight, **kwargs)\n  File \"C:\\Users\\ASUS\\anaconda3\\Lib\\site-packages\\scikeras\\wrappers.py\", line 770, in fit\n    self._fit(\n  File \"C:\\Users\\ASUS\\anaconda3\\Lib\\site-packages\\scikeras\\wrappers.py\", line 925, in _fit\n    X, y = self._initialize(X, y)\n           ^^^^^^^^^^^^^^^^^^^^^^\n  File \"C:\\Users\\ASUS\\anaconda3\\Lib\\site-packages\\scikeras\\wrappers.py\", line 853, in _initialize\n    X, y = self._validate_data(X, y, reset=True)\n           ^^^^^^^^^^^^^^^^^^^^^^^^^^^^^^^^^^^^^\n  File \"C:\\Users\\ASUS\\anaconda3\\Lib\\site-packages\\scikeras\\wrappers.py\", line 626, in _validate_data\n    X, y = check_X_y(\n           ^^^^^^^^^^\n  File \"C:\\Users\\ASUS\\anaconda3\\Lib\\site-packages\\sklearn\\utils\\validation.py\", line 1273, in check_X_y\n    X = check_array(\n        ^^^^^^^^^^^^\n  File \"C:\\Users\\ASUS\\anaconda3\\Lib\\site-packages\\sklearn\\utils\\validation.py\", line 1045, in check_array\n    raise ValueError(msg)\nValueError: Expected 2D array, got 1D array instead:\narray=[ 9 10  3 ...  6  7  5].\nReshape your data either using array.reshape(-1, 1) if your data has a single feature or array.reshape(1, -1) if it contains a single sample.\n\n--------------------------------------------------------------------------------\n8 fits failed with the following error:\nTraceback (most recent call last):\n  File \"C:\\Users\\ASUS\\anaconda3\\Lib\\site-packages\\sklearn\\model_selection\\_validation.py\", line 888, in _fit_and_score\n    estimator.fit(X_train, y_train, **fit_params)\n  File \"C:\\Users\\ASUS\\anaconda3\\Lib\\site-packages\\scikeras\\wrappers.py\", line 1501, in fit\n    super().fit(X=X, y=y, sample_weight=sample_weight, **kwargs)\n  File \"C:\\Users\\ASUS\\anaconda3\\Lib\\site-packages\\scikeras\\wrappers.py\", line 770, in fit\n    self._fit(\n  File \"C:\\Users\\ASUS\\anaconda3\\Lib\\site-packages\\scikeras\\wrappers.py\", line 925, in _fit\n    X, y = self._initialize(X, y)\n           ^^^^^^^^^^^^^^^^^^^^^^\n  File \"C:\\Users\\ASUS\\anaconda3\\Lib\\site-packages\\scikeras\\wrappers.py\", line 853, in _initialize\n    X, y = self._validate_data(X, y, reset=True)\n           ^^^^^^^^^^^^^^^^^^^^^^^^^^^^^^^^^^^^^\n  File \"C:\\Users\\ASUS\\anaconda3\\Lib\\site-packages\\scikeras\\wrappers.py\", line 626, in _validate_data\n    X, y = check_X_y(\n           ^^^^^^^^^^\n  File \"C:\\Users\\ASUS\\anaconda3\\Lib\\site-packages\\sklearn\\utils\\validation.py\", line 1273, in check_X_y\n    X = check_array(\n        ^^^^^^^^^^^^\n  File \"C:\\Users\\ASUS\\anaconda3\\Lib\\site-packages\\sklearn\\utils\\validation.py\", line 1045, in check_array\n    raise ValueError(msg)\nValueError: Expected 2D array, got 1D array instead:\narray=[ 0  3  6 ... 11  8 10].\nReshape your data either using array.reshape(-1, 1) if your data has a single feature or array.reshape(1, -1) if it contains a single sample.\n",
     "output_type": "error",
     "traceback": [
      "\u001b[1;31m---------------------------------------------------------------------------\u001b[0m",
      "\u001b[1;31mValueError\u001b[0m                                Traceback (most recent call last)",
      "Cell \u001b[1;32mIn[55], line 8\u001b[0m\n\u001b[0;32m      2\u001b[0m param_grid \u001b[38;5;241m=\u001b[39m{\n\u001b[0;32m      3\u001b[0m     \u001b[38;5;124m'\u001b[39m\u001b[38;5;124mmodel__activation\u001b[39m\u001b[38;5;124m'\u001b[39m:activation,\n\u001b[0;32m      4\u001b[0m     }\n\u001b[0;32m      6\u001b[0m grid \u001b[38;5;241m=\u001b[39m GridSearchCV(estimator\u001b[38;5;241m=\u001b[39mmodel, param_grid\u001b[38;5;241m=\u001b[39mparam_grid, n_jobs\u001b[38;5;241m=\u001b[39m\u001b[38;5;241m1\u001b[39m, cv\u001b[38;5;241m=\u001b[39m\u001b[38;5;241m2\u001b[39m)\n\u001b[1;32m----> 8\u001b[0m grid_result \u001b[38;5;241m=\u001b[39m grid\u001b[38;5;241m.\u001b[39mfit(input_list_train[\u001b[38;5;241m0\u001b[39m],y_train)\n",
      "File \u001b[1;32m~\\anaconda3\\Lib\\site-packages\\sklearn\\base.py:1473\u001b[0m, in \u001b[0;36m_fit_context.<locals>.decorator.<locals>.wrapper\u001b[1;34m(estimator, *args, **kwargs)\u001b[0m\n\u001b[0;32m   1466\u001b[0m     estimator\u001b[38;5;241m.\u001b[39m_validate_params()\n\u001b[0;32m   1468\u001b[0m \u001b[38;5;28;01mwith\u001b[39;00m config_context(\n\u001b[0;32m   1469\u001b[0m     skip_parameter_validation\u001b[38;5;241m=\u001b[39m(\n\u001b[0;32m   1470\u001b[0m         prefer_skip_nested_validation \u001b[38;5;129;01mor\u001b[39;00m global_skip_validation\n\u001b[0;32m   1471\u001b[0m     )\n\u001b[0;32m   1472\u001b[0m ):\n\u001b[1;32m-> 1473\u001b[0m     \u001b[38;5;28;01mreturn\u001b[39;00m fit_method(estimator, \u001b[38;5;241m*\u001b[39margs, \u001b[38;5;241m*\u001b[39m\u001b[38;5;241m*\u001b[39mkwargs)\n",
      "File \u001b[1;32m~\\anaconda3\\Lib\\site-packages\\sklearn\\model_selection\\_search.py:968\u001b[0m, in \u001b[0;36mBaseSearchCV.fit\u001b[1;34m(self, X, y, **params)\u001b[0m\n\u001b[0;32m    962\u001b[0m     results \u001b[38;5;241m=\u001b[39m \u001b[38;5;28mself\u001b[39m\u001b[38;5;241m.\u001b[39m_format_results(\n\u001b[0;32m    963\u001b[0m         all_candidate_params, n_splits, all_out, all_more_results\n\u001b[0;32m    964\u001b[0m     )\n\u001b[0;32m    966\u001b[0m     \u001b[38;5;28;01mreturn\u001b[39;00m results\n\u001b[1;32m--> 968\u001b[0m \u001b[38;5;28mself\u001b[39m\u001b[38;5;241m.\u001b[39m_run_search(evaluate_candidates)\n\u001b[0;32m    970\u001b[0m \u001b[38;5;66;03m# multimetric is determined here because in the case of a callable\u001b[39;00m\n\u001b[0;32m    971\u001b[0m \u001b[38;5;66;03m# self.scoring the return type is only known after calling\u001b[39;00m\n\u001b[0;32m    972\u001b[0m first_test_score \u001b[38;5;241m=\u001b[39m all_out[\u001b[38;5;241m0\u001b[39m][\u001b[38;5;124m\"\u001b[39m\u001b[38;5;124mtest_scores\u001b[39m\u001b[38;5;124m\"\u001b[39m]\n",
      "File \u001b[1;32m~\\anaconda3\\Lib\\site-packages\\sklearn\\model_selection\\_search.py:1543\u001b[0m, in \u001b[0;36mGridSearchCV._run_search\u001b[1;34m(self, evaluate_candidates)\u001b[0m\n\u001b[0;32m   1541\u001b[0m \u001b[38;5;28;01mdef\u001b[39;00m \u001b[38;5;21m_run_search\u001b[39m(\u001b[38;5;28mself\u001b[39m, evaluate_candidates):\n\u001b[0;32m   1542\u001b[0m \u001b[38;5;250m    \u001b[39m\u001b[38;5;124;03m\"\"\"Search all candidates in param_grid\"\"\"\u001b[39;00m\n\u001b[1;32m-> 1543\u001b[0m     evaluate_candidates(ParameterGrid(\u001b[38;5;28mself\u001b[39m\u001b[38;5;241m.\u001b[39mparam_grid))\n",
      "File \u001b[1;32m~\\anaconda3\\Lib\\site-packages\\sklearn\\model_selection\\_search.py:945\u001b[0m, in \u001b[0;36mBaseSearchCV.fit.<locals>.evaluate_candidates\u001b[1;34m(candidate_params, cv, more_results)\u001b[0m\n\u001b[0;32m    938\u001b[0m \u001b[38;5;28;01melif\u001b[39;00m \u001b[38;5;28mlen\u001b[39m(out) \u001b[38;5;241m!=\u001b[39m n_candidates \u001b[38;5;241m*\u001b[39m n_splits:\n\u001b[0;32m    939\u001b[0m     \u001b[38;5;28;01mraise\u001b[39;00m \u001b[38;5;167;01mValueError\u001b[39;00m(\n\u001b[0;32m    940\u001b[0m         \u001b[38;5;124m\"\u001b[39m\u001b[38;5;124mcv.split and cv.get_n_splits returned \u001b[39m\u001b[38;5;124m\"\u001b[39m\n\u001b[0;32m    941\u001b[0m         \u001b[38;5;124m\"\u001b[39m\u001b[38;5;124minconsistent results. Expected \u001b[39m\u001b[38;5;132;01m{}\u001b[39;00m\u001b[38;5;124m \u001b[39m\u001b[38;5;124m\"\u001b[39m\n\u001b[0;32m    942\u001b[0m         \u001b[38;5;124m\"\u001b[39m\u001b[38;5;124msplits, got \u001b[39m\u001b[38;5;132;01m{}\u001b[39;00m\u001b[38;5;124m\"\u001b[39m\u001b[38;5;241m.\u001b[39mformat(n_splits, \u001b[38;5;28mlen\u001b[39m(out) \u001b[38;5;241m/\u001b[39m\u001b[38;5;241m/\u001b[39m n_candidates)\n\u001b[0;32m    943\u001b[0m     )\n\u001b[1;32m--> 945\u001b[0m _warn_or_raise_about_fit_failures(out, \u001b[38;5;28mself\u001b[39m\u001b[38;5;241m.\u001b[39merror_score)\n\u001b[0;32m    947\u001b[0m \u001b[38;5;66;03m# For callable self.scoring, the return type is only know after\u001b[39;00m\n\u001b[0;32m    948\u001b[0m \u001b[38;5;66;03m# calling. If the return type is a dictionary, the error scores\u001b[39;00m\n\u001b[0;32m    949\u001b[0m \u001b[38;5;66;03m# can now be inserted with the correct key. The type checking\u001b[39;00m\n\u001b[0;32m    950\u001b[0m \u001b[38;5;66;03m# of out will be done in `_insert_error_scores`.\u001b[39;00m\n\u001b[0;32m    951\u001b[0m \u001b[38;5;28;01mif\u001b[39;00m \u001b[38;5;28mcallable\u001b[39m(\u001b[38;5;28mself\u001b[39m\u001b[38;5;241m.\u001b[39mscoring):\n",
      "File \u001b[1;32m~\\anaconda3\\Lib\\site-packages\\sklearn\\model_selection\\_validation.py:529\u001b[0m, in \u001b[0;36m_warn_or_raise_about_fit_failures\u001b[1;34m(results, error_score)\u001b[0m\n\u001b[0;32m    522\u001b[0m \u001b[38;5;28;01mif\u001b[39;00m num_failed_fits \u001b[38;5;241m==\u001b[39m num_fits:\n\u001b[0;32m    523\u001b[0m     all_fits_failed_message \u001b[38;5;241m=\u001b[39m (\n\u001b[0;32m    524\u001b[0m         \u001b[38;5;124mf\u001b[39m\u001b[38;5;124m\"\u001b[39m\u001b[38;5;130;01m\\n\u001b[39;00m\u001b[38;5;124mAll the \u001b[39m\u001b[38;5;132;01m{\u001b[39;00mnum_fits\u001b[38;5;132;01m}\u001b[39;00m\u001b[38;5;124m fits failed.\u001b[39m\u001b[38;5;130;01m\\n\u001b[39;00m\u001b[38;5;124m\"\u001b[39m\n\u001b[0;32m    525\u001b[0m         \u001b[38;5;124m\"\u001b[39m\u001b[38;5;124mIt is very likely that your model is misconfigured.\u001b[39m\u001b[38;5;130;01m\\n\u001b[39;00m\u001b[38;5;124m\"\u001b[39m\n\u001b[0;32m    526\u001b[0m         \u001b[38;5;124m\"\u001b[39m\u001b[38;5;124mYou can try to debug the error by setting error_score=\u001b[39m\u001b[38;5;124m'\u001b[39m\u001b[38;5;124mraise\u001b[39m\u001b[38;5;124m'\u001b[39m\u001b[38;5;124m.\u001b[39m\u001b[38;5;130;01m\\n\u001b[39;00m\u001b[38;5;130;01m\\n\u001b[39;00m\u001b[38;5;124m\"\u001b[39m\n\u001b[0;32m    527\u001b[0m         \u001b[38;5;124mf\u001b[39m\u001b[38;5;124m\"\u001b[39m\u001b[38;5;124mBelow are more details about the failures:\u001b[39m\u001b[38;5;130;01m\\n\u001b[39;00m\u001b[38;5;132;01m{\u001b[39;00mfit_errors_summary\u001b[38;5;132;01m}\u001b[39;00m\u001b[38;5;124m\"\u001b[39m\n\u001b[0;32m    528\u001b[0m     )\n\u001b[1;32m--> 529\u001b[0m     \u001b[38;5;28;01mraise\u001b[39;00m \u001b[38;5;167;01mValueError\u001b[39;00m(all_fits_failed_message)\n\u001b[0;32m    531\u001b[0m \u001b[38;5;28;01melse\u001b[39;00m:\n\u001b[0;32m    532\u001b[0m     some_fits_failed_message \u001b[38;5;241m=\u001b[39m (\n\u001b[0;32m    533\u001b[0m         \u001b[38;5;124mf\u001b[39m\u001b[38;5;124m\"\u001b[39m\u001b[38;5;130;01m\\n\u001b[39;00m\u001b[38;5;132;01m{\u001b[39;00mnum_failed_fits\u001b[38;5;132;01m}\u001b[39;00m\u001b[38;5;124m fits failed out of a total of \u001b[39m\u001b[38;5;132;01m{\u001b[39;00mnum_fits\u001b[38;5;132;01m}\u001b[39;00m\u001b[38;5;124m.\u001b[39m\u001b[38;5;130;01m\\n\u001b[39;00m\u001b[38;5;124m\"\u001b[39m\n\u001b[0;32m    534\u001b[0m         \u001b[38;5;124m\"\u001b[39m\u001b[38;5;124mThe score on these train-test partitions for these parameters\u001b[39m\u001b[38;5;124m\"\u001b[39m\n\u001b[1;32m   (...)\u001b[0m\n\u001b[0;32m    538\u001b[0m         \u001b[38;5;124mf\u001b[39m\u001b[38;5;124m\"\u001b[39m\u001b[38;5;124mBelow are more details about the failures:\u001b[39m\u001b[38;5;130;01m\\n\u001b[39;00m\u001b[38;5;132;01m{\u001b[39;00mfit_errors_summary\u001b[38;5;132;01m}\u001b[39;00m\u001b[38;5;124m\"\u001b[39m\n\u001b[0;32m    539\u001b[0m     )\n",
      "\u001b[1;31mValueError\u001b[0m: \nAll the 16 fits failed.\nIt is very likely that your model is misconfigured.\nYou can try to debug the error by setting error_score='raise'.\n\nBelow are more details about the failures:\n--------------------------------------------------------------------------------\n8 fits failed with the following error:\nTraceback (most recent call last):\n  File \"C:\\Users\\ASUS\\anaconda3\\Lib\\site-packages\\sklearn\\model_selection\\_validation.py\", line 888, in _fit_and_score\n    estimator.fit(X_train, y_train, **fit_params)\n  File \"C:\\Users\\ASUS\\anaconda3\\Lib\\site-packages\\scikeras\\wrappers.py\", line 1501, in fit\n    super().fit(X=X, y=y, sample_weight=sample_weight, **kwargs)\n  File \"C:\\Users\\ASUS\\anaconda3\\Lib\\site-packages\\scikeras\\wrappers.py\", line 770, in fit\n    self._fit(\n  File \"C:\\Users\\ASUS\\anaconda3\\Lib\\site-packages\\scikeras\\wrappers.py\", line 925, in _fit\n    X, y = self._initialize(X, y)\n           ^^^^^^^^^^^^^^^^^^^^^^\n  File \"C:\\Users\\ASUS\\anaconda3\\Lib\\site-packages\\scikeras\\wrappers.py\", line 853, in _initialize\n    X, y = self._validate_data(X, y, reset=True)\n           ^^^^^^^^^^^^^^^^^^^^^^^^^^^^^^^^^^^^^\n  File \"C:\\Users\\ASUS\\anaconda3\\Lib\\site-packages\\scikeras\\wrappers.py\", line 626, in _validate_data\n    X, y = check_X_y(\n           ^^^^^^^^^^\n  File \"C:\\Users\\ASUS\\anaconda3\\Lib\\site-packages\\sklearn\\utils\\validation.py\", line 1273, in check_X_y\n    X = check_array(\n        ^^^^^^^^^^^^\n  File \"C:\\Users\\ASUS\\anaconda3\\Lib\\site-packages\\sklearn\\utils\\validation.py\", line 1045, in check_array\n    raise ValueError(msg)\nValueError: Expected 2D array, got 1D array instead:\narray=[ 9 10  3 ...  6  7  5].\nReshape your data either using array.reshape(-1, 1) if your data has a single feature or array.reshape(1, -1) if it contains a single sample.\n\n--------------------------------------------------------------------------------\n8 fits failed with the following error:\nTraceback (most recent call last):\n  File \"C:\\Users\\ASUS\\anaconda3\\Lib\\site-packages\\sklearn\\model_selection\\_validation.py\", line 888, in _fit_and_score\n    estimator.fit(X_train, y_train, **fit_params)\n  File \"C:\\Users\\ASUS\\anaconda3\\Lib\\site-packages\\scikeras\\wrappers.py\", line 1501, in fit\n    super().fit(X=X, y=y, sample_weight=sample_weight, **kwargs)\n  File \"C:\\Users\\ASUS\\anaconda3\\Lib\\site-packages\\scikeras\\wrappers.py\", line 770, in fit\n    self._fit(\n  File \"C:\\Users\\ASUS\\anaconda3\\Lib\\site-packages\\scikeras\\wrappers.py\", line 925, in _fit\n    X, y = self._initialize(X, y)\n           ^^^^^^^^^^^^^^^^^^^^^^\n  File \"C:\\Users\\ASUS\\anaconda3\\Lib\\site-packages\\scikeras\\wrappers.py\", line 853, in _initialize\n    X, y = self._validate_data(X, y, reset=True)\n           ^^^^^^^^^^^^^^^^^^^^^^^^^^^^^^^^^^^^^\n  File \"C:\\Users\\ASUS\\anaconda3\\Lib\\site-packages\\scikeras\\wrappers.py\", line 626, in _validate_data\n    X, y = check_X_y(\n           ^^^^^^^^^^\n  File \"C:\\Users\\ASUS\\anaconda3\\Lib\\site-packages\\sklearn\\utils\\validation.py\", line 1273, in check_X_y\n    X = check_array(\n        ^^^^^^^^^^^^\n  File \"C:\\Users\\ASUS\\anaconda3\\Lib\\site-packages\\sklearn\\utils\\validation.py\", line 1045, in check_array\n    raise ValueError(msg)\nValueError: Expected 2D array, got 1D array instead:\narray=[ 0  3  6 ... 11  8 10].\nReshape your data either using array.reshape(-1, 1) if your data has a single feature or array.reshape(1, -1) if it contains a single sample.\n"
     ]
    }
   ],
   "source": [
    "activation = ['softmax', 'softplus', 'softsign', 'relu', 'tanh', 'sigmoid', 'hard_sigmoid', 'linear']\n",
    "param_grid ={\n",
    "    'model__activation':activation,\n",
    "    }\n",
    "\n",
    "grid = GridSearchCV(estimator=model, param_grid=param_grid, n_jobs=1, cv=2)\n",
    "\n",
    "grid_result = grid.fit(input_list_train[0],y_train)\n"
   ]
  },
  {
   "cell_type": "markdown",
   "metadata": {
    "colab_type": "text",
    "id": "9gwf03tj4vvD"
   },
   "source": [
    "# Models embeddings + conv "
   ]
  },
  {
   "cell_type": "code",
   "execution_count": 85,
   "metadata": {
    "ExecuteTime": {
     "end_time": "2019-11-07T10:41:35.504028Z",
     "start_time": "2019-11-07T10:41:34.992375Z"
    },
    "colab": {},
    "colab_type": "code",
    "id": "-tzSKRMw4vvD"
   },
   "outputs": [],
   "source": [
    "# Assuming categorical_vars and X_train are defined elsewhere\n",
    "input_models = []\n",
    "output_embeddings = []\n",
    "\n",
    "for categorical_var in categoical_vars:\n",
    "    cat_emb_name = categorical_var.replace(\" \", \"\") + '_Embedding'\n",
    "    input_name = 'Input_' + categorical_var.replace(\" \", \"\")\n",
    "    no_of_unique_cat = X_train[categorical_var].nunique()\n",
    "    embedding_size = int(min(np.ceil((no_of_unique_cat) / 2), 50))\n",
    "    input_model = Input(shape=(1,), name=input_name)\n",
    "    output_model = Embedding(no_of_unique_cat, embedding_size, name=cat_emb_name)(input_model)\n",
    "    output_model = Reshape(target_shape=(embedding_size,))(output_model)    \n",
    "    input_models.append(input_model)\n",
    "    output_embeddings.append(output_model)\n",
    "\n",
    "# Concatenate embeddings\n",
    "output = Concatenate()(output_embeddings)\n",
    "\n",
    "# Ensure the reshaping is correct\n",
    "output_shape = output.shape[1]\n",
    "output = Reshape(target_shape=(output_shape, 1))(output)\n",
    "\n",
    "# Convolutional layers\n",
    "output = Conv1D(filters=128, kernel_size=4, activation='relu')(output)\n",
    "output = Conv1D(filters=128, kernel_size=4, activation='relu')(output)\n",
    "output = BatchNormalization()(output)\n",
    "output = MaxPooling1D(pool_size=2)(output)\n",
    "\n",
    "output = Conv1D(filters=256, kernel_size=3, activation='relu')(output)\n",
    "output = Conv1D(filters=256, kernel_size=3, activation='relu')(output)\n",
    "output = BatchNormalization()(output)\n",
    "output = GlobalMaxPooling1D()(output)\n",
    "\n",
    "# Dense layers\n",
    "output = Dense(512, activation='relu')(output)\n",
    "output = Dense(256, activation='relu')(output)\n",
    "\n",
    "# Output layer\n",
    "output = Dense(35, activation='softmax')(output)\n",
    "\n",
    "# Define the model\n",
    "model = Model(inputs=input_models, outputs=output)\n",
    "\n",
    "# Compile the model\n",
    "model.compile(loss='categorical_crossentropy', optimizer='adam', metrics=[top_1_categorical_accuracy, top_2_categorical_accuracy, top_3_categorical_accuracy])\n"
   ]
  },
  {
   "cell_type": "code",
   "execution_count": 86,
   "metadata": {
    "ExecuteTime": {
     "end_time": "2019-11-07T10:41:35.781580Z",
     "start_time": "2019-11-07T10:41:35.775620Z"
    },
    "colab": {},
    "colab_type": "code",
    "id": "vcFBb8o14vvG",
    "outputId": "2c66122e-012d-473d-f2b2-3fe901323838"
   },
   "outputs": [
    {
     "data": {
      "text/html": [
       "<pre style=\"white-space:pre;overflow-x:auto;line-height:normal;font-family:Menlo,'DejaVu Sans Mono',consolas,'Courier New',monospace\"><span style=\"font-weight: bold\">Model: \"functional_5\"</span>\n",
       "</pre>\n"
      ],
      "text/plain": [
       "\u001b[1mModel: \"functional_5\"\u001b[0m\n"
      ]
     },
     "metadata": {},
     "output_type": "display_data"
    },
    {
     "data": {
      "text/html": [
       "<pre style=\"white-space:pre;overflow-x:auto;line-height:normal;font-family:Menlo,'DejaVu Sans Mono',consolas,'Courier New',monospace\">┏━━━━━━━━━━━━━━━━━━━━━━━━━━━━━━━┳━━━━━━━━━━━━━━━━━━━━━━━━━━━┳━━━━━━━━━━━━━━━━━┳━━━━━━━━━━━━━━━━━━━━━━━━━━━━┓\n",
       "┃<span style=\"font-weight: bold\"> Layer (type)                  </span>┃<span style=\"font-weight: bold\"> Output Shape              </span>┃<span style=\"font-weight: bold\">         Param # </span>┃<span style=\"font-weight: bold\"> Connected to               </span>┃\n",
       "┡━━━━━━━━━━━━━━━━━━━━━━━━━━━━━━━╇━━━━━━━━━━━━━━━━━━━━━━━━━━━╇━━━━━━━━━━━━━━━━━╇━━━━━━━━━━━━━━━━━━━━━━━━━━━━┩\n",
       "│ Input_DATE_CASE (<span style=\"color: #0087ff; text-decoration-color: #0087ff\">InputLayer</span>)  │ (<span style=\"color: #00d7ff; text-decoration-color: #00d7ff\">None</span>, <span style=\"color: #00af00; text-decoration-color: #00af00\">1</span>)                 │               <span style=\"color: #00af00; text-decoration-color: #00af00\">0</span> │ -                          │\n",
       "├───────────────────────────────┼───────────────────────────┼─────────────────┼────────────────────────────┤\n",
       "│ Input_NOT_COUNTRY             │ (<span style=\"color: #00d7ff; text-decoration-color: #00d7ff\">None</span>, <span style=\"color: #00af00; text-decoration-color: #00af00\">1</span>)                 │               <span style=\"color: #00af00; text-decoration-color: #00af00\">0</span> │ -                          │\n",
       "│ (<span style=\"color: #0087ff; text-decoration-color: #0087ff\">InputLayer</span>)                  │                           │                 │                            │\n",
       "├───────────────────────────────┼───────────────────────────┼─────────────────┼────────────────────────────┤\n",
       "│ Input_DISTRIBUTION_STAT       │ (<span style=\"color: #00d7ff; text-decoration-color: #00d7ff\">None</span>, <span style=\"color: #00af00; text-decoration-color: #00af00\">1</span>)                 │               <span style=\"color: #00af00; text-decoration-color: #00af00\">0</span> │ -                          │\n",
       "│ (<span style=\"color: #0087ff; text-decoration-color: #0087ff\">InputLayer</span>)                  │                           │                 │                            │\n",
       "├───────────────────────────────┼───────────────────────────┼─────────────────┼────────────────────────────┤\n",
       "│ Input_COUNT_ORIGEN            │ (<span style=\"color: #00d7ff; text-decoration-color: #00d7ff\">None</span>, <span style=\"color: #00af00; text-decoration-color: #00af00\">1</span>)                 │               <span style=\"color: #00af00; text-decoration-color: #00af00\">0</span> │ -                          │\n",
       "│ (<span style=\"color: #0087ff; text-decoration-color: #0087ff\">InputLayer</span>)                  │                           │                 │                            │\n",
       "├───────────────────────────────┼───────────────────────────┼─────────────────┼────────────────────────────┤\n",
       "│ DATE_CASE_Embedding           │ (<span style=\"color: #00d7ff; text-decoration-color: #00d7ff\">None</span>, <span style=\"color: #00af00; text-decoration-color: #00af00\">1</span>, <span style=\"color: #00af00; text-decoration-color: #00af00\">6</span>)              │              <span style=\"color: #00af00; text-decoration-color: #00af00\">72</span> │ Input_DATE_CASE[<span style=\"color: #00af00; text-decoration-color: #00af00\">0</span>][<span style=\"color: #00af00; text-decoration-color: #00af00\">0</span>]      │\n",
       "│ (<span style=\"color: #0087ff; text-decoration-color: #0087ff\">Embedding</span>)                   │                           │                 │                            │\n",
       "├───────────────────────────────┼───────────────────────────┼─────────────────┼────────────────────────────┤\n",
       "│ NOT_COUNTRY_Embedding         │ (<span style=\"color: #00d7ff; text-decoration-color: #00d7ff\">None</span>, <span style=\"color: #00af00; text-decoration-color: #00af00\">1</span>, <span style=\"color: #00af00; text-decoration-color: #00af00\">16</span>)             │             <span style=\"color: #00af00; text-decoration-color: #00af00\">512</span> │ Input_NOT_COUNTRY[<span style=\"color: #00af00; text-decoration-color: #00af00\">0</span>][<span style=\"color: #00af00; text-decoration-color: #00af00\">0</span>]    │\n",
       "│ (<span style=\"color: #0087ff; text-decoration-color: #0087ff\">Embedding</span>)                   │                           │                 │                            │\n",
       "├───────────────────────────────┼───────────────────────────┼─────────────────┼────────────────────────────┤\n",
       "│ DISTRIBUTION_STAT_Embedding   │ (<span style=\"color: #00d7ff; text-decoration-color: #00d7ff\">None</span>, <span style=\"color: #00af00; text-decoration-color: #00af00\">1</span>, <span style=\"color: #00af00; text-decoration-color: #00af00\">9</span>)              │             <span style=\"color: #00af00; text-decoration-color: #00af00\">153</span> │ Input_DISTRIBUTION_STAT[<span style=\"color: #00af00; text-decoration-color: #00af00\">0</span>… │\n",
       "│ (<span style=\"color: #0087ff; text-decoration-color: #0087ff\">Embedding</span>)                   │                           │                 │                            │\n",
       "├───────────────────────────────┼───────────────────────────┼─────────────────┼────────────────────────────┤\n",
       "│ COUNT_ORIGEN_Embedding        │ (<span style=\"color: #00d7ff; text-decoration-color: #00d7ff\">None</span>, <span style=\"color: #00af00; text-decoration-color: #00af00\">1</span>, <span style=\"color: #00af00; text-decoration-color: #00af00\">50</span>)             │           <span style=\"color: #00af00; text-decoration-color: #00af00\">9,350</span> │ Input_COUNT_ORIGEN[<span style=\"color: #00af00; text-decoration-color: #00af00\">0</span>][<span style=\"color: #00af00; text-decoration-color: #00af00\">0</span>]   │\n",
       "│ (<span style=\"color: #0087ff; text-decoration-color: #0087ff\">Embedding</span>)                   │                           │                 │                            │\n",
       "├───────────────────────────────┼───────────────────────────┼─────────────────┼────────────────────────────┤\n",
       "│ reshape_9 (<span style=\"color: #0087ff; text-decoration-color: #0087ff\">Reshape</span>)           │ (<span style=\"color: #00d7ff; text-decoration-color: #00d7ff\">None</span>, <span style=\"color: #00af00; text-decoration-color: #00af00\">6</span>)                 │               <span style=\"color: #00af00; text-decoration-color: #00af00\">0</span> │ DATE_CASE_Embedding[<span style=\"color: #00af00; text-decoration-color: #00af00\">0</span>][<span style=\"color: #00af00; text-decoration-color: #00af00\">0</span>]  │\n",
       "├───────────────────────────────┼───────────────────────────┼─────────────────┼────────────────────────────┤\n",
       "│ reshape_10 (<span style=\"color: #0087ff; text-decoration-color: #0087ff\">Reshape</span>)          │ (<span style=\"color: #00d7ff; text-decoration-color: #00d7ff\">None</span>, <span style=\"color: #00af00; text-decoration-color: #00af00\">16</span>)                │               <span style=\"color: #00af00; text-decoration-color: #00af00\">0</span> │ NOT_COUNTRY_Embedding[<span style=\"color: #00af00; text-decoration-color: #00af00\">0</span>][<span style=\"color: #00af00; text-decoration-color: #00af00\">…</span> │\n",
       "├───────────────────────────────┼───────────────────────────┼─────────────────┼────────────────────────────┤\n",
       "│ reshape_11 (<span style=\"color: #0087ff; text-decoration-color: #0087ff\">Reshape</span>)          │ (<span style=\"color: #00d7ff; text-decoration-color: #00d7ff\">None</span>, <span style=\"color: #00af00; text-decoration-color: #00af00\">9</span>)                 │               <span style=\"color: #00af00; text-decoration-color: #00af00\">0</span> │ DISTRIBUTION_STAT_Embeddi… │\n",
       "├───────────────────────────────┼───────────────────────────┼─────────────────┼────────────────────────────┤\n",
       "│ reshape_12 (<span style=\"color: #0087ff; text-decoration-color: #0087ff\">Reshape</span>)          │ (<span style=\"color: #00d7ff; text-decoration-color: #00d7ff\">None</span>, <span style=\"color: #00af00; text-decoration-color: #00af00\">50</span>)                │               <span style=\"color: #00af00; text-decoration-color: #00af00\">0</span> │ COUNT_ORIGEN_Embedding[<span style=\"color: #00af00; text-decoration-color: #00af00\">0</span>]… │\n",
       "├───────────────────────────────┼───────────────────────────┼─────────────────┼────────────────────────────┤\n",
       "│ concatenate_2 (<span style=\"color: #0087ff; text-decoration-color: #0087ff\">Concatenate</span>)   │ (<span style=\"color: #00d7ff; text-decoration-color: #00d7ff\">None</span>, <span style=\"color: #00af00; text-decoration-color: #00af00\">81</span>)                │               <span style=\"color: #00af00; text-decoration-color: #00af00\">0</span> │ reshape_9[<span style=\"color: #00af00; text-decoration-color: #00af00\">0</span>][<span style=\"color: #00af00; text-decoration-color: #00af00\">0</span>],           │\n",
       "│                               │                           │                 │ reshape_10[<span style=\"color: #00af00; text-decoration-color: #00af00\">0</span>][<span style=\"color: #00af00; text-decoration-color: #00af00\">0</span>],          │\n",
       "│                               │                           │                 │ reshape_11[<span style=\"color: #00af00; text-decoration-color: #00af00\">0</span>][<span style=\"color: #00af00; text-decoration-color: #00af00\">0</span>],          │\n",
       "│                               │                           │                 │ reshape_12[<span style=\"color: #00af00; text-decoration-color: #00af00\">0</span>][<span style=\"color: #00af00; text-decoration-color: #00af00\">0</span>]           │\n",
       "├───────────────────────────────┼───────────────────────────┼─────────────────┼────────────────────────────┤\n",
       "│ reshape_13 (<span style=\"color: #0087ff; text-decoration-color: #0087ff\">Reshape</span>)          │ (<span style=\"color: #00d7ff; text-decoration-color: #00d7ff\">None</span>, <span style=\"color: #00af00; text-decoration-color: #00af00\">81</span>, <span style=\"color: #00af00; text-decoration-color: #00af00\">1</span>)             │               <span style=\"color: #00af00; text-decoration-color: #00af00\">0</span> │ concatenate_2[<span style=\"color: #00af00; text-decoration-color: #00af00\">0</span>][<span style=\"color: #00af00; text-decoration-color: #00af00\">0</span>]        │\n",
       "├───────────────────────────────┼───────────────────────────┼─────────────────┼────────────────────────────┤\n",
       "│ conv1d_4 (<span style=\"color: #0087ff; text-decoration-color: #0087ff\">Conv1D</span>)             │ (<span style=\"color: #00d7ff; text-decoration-color: #00d7ff\">None</span>, <span style=\"color: #00af00; text-decoration-color: #00af00\">78</span>, <span style=\"color: #00af00; text-decoration-color: #00af00\">128</span>)           │             <span style=\"color: #00af00; text-decoration-color: #00af00\">640</span> │ reshape_13[<span style=\"color: #00af00; text-decoration-color: #00af00\">0</span>][<span style=\"color: #00af00; text-decoration-color: #00af00\">0</span>]           │\n",
       "├───────────────────────────────┼───────────────────────────┼─────────────────┼────────────────────────────┤\n",
       "│ conv1d_5 (<span style=\"color: #0087ff; text-decoration-color: #0087ff\">Conv1D</span>)             │ (<span style=\"color: #00d7ff; text-decoration-color: #00d7ff\">None</span>, <span style=\"color: #00af00; text-decoration-color: #00af00\">75</span>, <span style=\"color: #00af00; text-decoration-color: #00af00\">128</span>)           │          <span style=\"color: #00af00; text-decoration-color: #00af00\">65,664</span> │ conv1d_4[<span style=\"color: #00af00; text-decoration-color: #00af00\">0</span>][<span style=\"color: #00af00; text-decoration-color: #00af00\">0</span>]             │\n",
       "├───────────────────────────────┼───────────────────────────┼─────────────────┼────────────────────────────┤\n",
       "│ batch_normalization_2         │ (<span style=\"color: #00d7ff; text-decoration-color: #00d7ff\">None</span>, <span style=\"color: #00af00; text-decoration-color: #00af00\">75</span>, <span style=\"color: #00af00; text-decoration-color: #00af00\">128</span>)           │             <span style=\"color: #00af00; text-decoration-color: #00af00\">512</span> │ conv1d_5[<span style=\"color: #00af00; text-decoration-color: #00af00\">0</span>][<span style=\"color: #00af00; text-decoration-color: #00af00\">0</span>]             │\n",
       "│ (<span style=\"color: #0087ff; text-decoration-color: #0087ff\">BatchNormalization</span>)          │                           │                 │                            │\n",
       "├───────────────────────────────┼───────────────────────────┼─────────────────┼────────────────────────────┤\n",
       "│ max_pooling1d_1               │ (<span style=\"color: #00d7ff; text-decoration-color: #00d7ff\">None</span>, <span style=\"color: #00af00; text-decoration-color: #00af00\">37</span>, <span style=\"color: #00af00; text-decoration-color: #00af00\">128</span>)           │               <span style=\"color: #00af00; text-decoration-color: #00af00\">0</span> │ batch_normalization_2[<span style=\"color: #00af00; text-decoration-color: #00af00\">0</span>][<span style=\"color: #00af00; text-decoration-color: #00af00\">…</span> │\n",
       "│ (<span style=\"color: #0087ff; text-decoration-color: #0087ff\">MaxPooling1D</span>)                │                           │                 │                            │\n",
       "├───────────────────────────────┼───────────────────────────┼─────────────────┼────────────────────────────┤\n",
       "│ conv1d_6 (<span style=\"color: #0087ff; text-decoration-color: #0087ff\">Conv1D</span>)             │ (<span style=\"color: #00d7ff; text-decoration-color: #00d7ff\">None</span>, <span style=\"color: #00af00; text-decoration-color: #00af00\">35</span>, <span style=\"color: #00af00; text-decoration-color: #00af00\">256</span>)           │          <span style=\"color: #00af00; text-decoration-color: #00af00\">98,560</span> │ max_pooling1d_1[<span style=\"color: #00af00; text-decoration-color: #00af00\">0</span>][<span style=\"color: #00af00; text-decoration-color: #00af00\">0</span>]      │\n",
       "├───────────────────────────────┼───────────────────────────┼─────────────────┼────────────────────────────┤\n",
       "│ conv1d_7 (<span style=\"color: #0087ff; text-decoration-color: #0087ff\">Conv1D</span>)             │ (<span style=\"color: #00d7ff; text-decoration-color: #00d7ff\">None</span>, <span style=\"color: #00af00; text-decoration-color: #00af00\">33</span>, <span style=\"color: #00af00; text-decoration-color: #00af00\">256</span>)           │         <span style=\"color: #00af00; text-decoration-color: #00af00\">196,864</span> │ conv1d_6[<span style=\"color: #00af00; text-decoration-color: #00af00\">0</span>][<span style=\"color: #00af00; text-decoration-color: #00af00\">0</span>]             │\n",
       "├───────────────────────────────┼───────────────────────────┼─────────────────┼────────────────────────────┤\n",
       "│ batch_normalization_3         │ (<span style=\"color: #00d7ff; text-decoration-color: #00d7ff\">None</span>, <span style=\"color: #00af00; text-decoration-color: #00af00\">33</span>, <span style=\"color: #00af00; text-decoration-color: #00af00\">256</span>)           │           <span style=\"color: #00af00; text-decoration-color: #00af00\">1,024</span> │ conv1d_7[<span style=\"color: #00af00; text-decoration-color: #00af00\">0</span>][<span style=\"color: #00af00; text-decoration-color: #00af00\">0</span>]             │\n",
       "│ (<span style=\"color: #0087ff; text-decoration-color: #0087ff\">BatchNormalization</span>)          │                           │                 │                            │\n",
       "├───────────────────────────────┼───────────────────────────┼─────────────────┼────────────────────────────┤\n",
       "│ global_max_pooling1d_1        │ (<span style=\"color: #00d7ff; text-decoration-color: #00d7ff\">None</span>, <span style=\"color: #00af00; text-decoration-color: #00af00\">256</span>)               │               <span style=\"color: #00af00; text-decoration-color: #00af00\">0</span> │ batch_normalization_3[<span style=\"color: #00af00; text-decoration-color: #00af00\">0</span>][<span style=\"color: #00af00; text-decoration-color: #00af00\">…</span> │\n",
       "│ (<span style=\"color: #0087ff; text-decoration-color: #0087ff\">GlobalMaxPooling1D</span>)          │                           │                 │                            │\n",
       "├───────────────────────────────┼───────────────────────────┼─────────────────┼────────────────────────────┤\n",
       "│ dense_7 (<span style=\"color: #0087ff; text-decoration-color: #0087ff\">Dense</span>)               │ (<span style=\"color: #00d7ff; text-decoration-color: #00d7ff\">None</span>, <span style=\"color: #00af00; text-decoration-color: #00af00\">512</span>)               │         <span style=\"color: #00af00; text-decoration-color: #00af00\">131,584</span> │ global_max_pooling1d_1[<span style=\"color: #00af00; text-decoration-color: #00af00\">0</span>]… │\n",
       "├───────────────────────────────┼───────────────────────────┼─────────────────┼────────────────────────────┤\n",
       "│ dense_8 (<span style=\"color: #0087ff; text-decoration-color: #0087ff\">Dense</span>)               │ (<span style=\"color: #00d7ff; text-decoration-color: #00d7ff\">None</span>, <span style=\"color: #00af00; text-decoration-color: #00af00\">256</span>)               │         <span style=\"color: #00af00; text-decoration-color: #00af00\">131,328</span> │ dense_7[<span style=\"color: #00af00; text-decoration-color: #00af00\">0</span>][<span style=\"color: #00af00; text-decoration-color: #00af00\">0</span>]              │\n",
       "├───────────────────────────────┼───────────────────────────┼─────────────────┼────────────────────────────┤\n",
       "│ dense_9 (<span style=\"color: #0087ff; text-decoration-color: #0087ff\">Dense</span>)               │ (<span style=\"color: #00d7ff; text-decoration-color: #00d7ff\">None</span>, <span style=\"color: #00af00; text-decoration-color: #00af00\">35</span>)                │           <span style=\"color: #00af00; text-decoration-color: #00af00\">8,995</span> │ dense_8[<span style=\"color: #00af00; text-decoration-color: #00af00\">0</span>][<span style=\"color: #00af00; text-decoration-color: #00af00\">0</span>]              │\n",
       "└───────────────────────────────┴───────────────────────────┴─────────────────┴────────────────────────────┘\n",
       "</pre>\n"
      ],
      "text/plain": [
       "┏━━━━━━━━━━━━━━━━━━━━━━━━━━━━━━━┳━━━━━━━━━━━━━━━━━━━━━━━━━━━┳━━━━━━━━━━━━━━━━━┳━━━━━━━━━━━━━━━━━━━━━━━━━━━━┓\n",
       "┃\u001b[1m \u001b[0m\u001b[1mLayer (type)                 \u001b[0m\u001b[1m \u001b[0m┃\u001b[1m \u001b[0m\u001b[1mOutput Shape             \u001b[0m\u001b[1m \u001b[0m┃\u001b[1m \u001b[0m\u001b[1m        Param #\u001b[0m\u001b[1m \u001b[0m┃\u001b[1m \u001b[0m\u001b[1mConnected to              \u001b[0m\u001b[1m \u001b[0m┃\n",
       "┡━━━━━━━━━━━━━━━━━━━━━━━━━━━━━━━╇━━━━━━━━━━━━━━━━━━━━━━━━━━━╇━━━━━━━━━━━━━━━━━╇━━━━━━━━━━━━━━━━━━━━━━━━━━━━┩\n",
       "│ Input_DATE_CASE (\u001b[38;5;33mInputLayer\u001b[0m)  │ (\u001b[38;5;45mNone\u001b[0m, \u001b[38;5;34m1\u001b[0m)                 │               \u001b[38;5;34m0\u001b[0m │ -                          │\n",
       "├───────────────────────────────┼───────────────────────────┼─────────────────┼────────────────────────────┤\n",
       "│ Input_NOT_COUNTRY             │ (\u001b[38;5;45mNone\u001b[0m, \u001b[38;5;34m1\u001b[0m)                 │               \u001b[38;5;34m0\u001b[0m │ -                          │\n",
       "│ (\u001b[38;5;33mInputLayer\u001b[0m)                  │                           │                 │                            │\n",
       "├───────────────────────────────┼───────────────────────────┼─────────────────┼────────────────────────────┤\n",
       "│ Input_DISTRIBUTION_STAT       │ (\u001b[38;5;45mNone\u001b[0m, \u001b[38;5;34m1\u001b[0m)                 │               \u001b[38;5;34m0\u001b[0m │ -                          │\n",
       "│ (\u001b[38;5;33mInputLayer\u001b[0m)                  │                           │                 │                            │\n",
       "├───────────────────────────────┼───────────────────────────┼─────────────────┼────────────────────────────┤\n",
       "│ Input_COUNT_ORIGEN            │ (\u001b[38;5;45mNone\u001b[0m, \u001b[38;5;34m1\u001b[0m)                 │               \u001b[38;5;34m0\u001b[0m │ -                          │\n",
       "│ (\u001b[38;5;33mInputLayer\u001b[0m)                  │                           │                 │                            │\n",
       "├───────────────────────────────┼───────────────────────────┼─────────────────┼────────────────────────────┤\n",
       "│ DATE_CASE_Embedding           │ (\u001b[38;5;45mNone\u001b[0m, \u001b[38;5;34m1\u001b[0m, \u001b[38;5;34m6\u001b[0m)              │              \u001b[38;5;34m72\u001b[0m │ Input_DATE_CASE[\u001b[38;5;34m0\u001b[0m][\u001b[38;5;34m0\u001b[0m]      │\n",
       "│ (\u001b[38;5;33mEmbedding\u001b[0m)                   │                           │                 │                            │\n",
       "├───────────────────────────────┼───────────────────────────┼─────────────────┼────────────────────────────┤\n",
       "│ NOT_COUNTRY_Embedding         │ (\u001b[38;5;45mNone\u001b[0m, \u001b[38;5;34m1\u001b[0m, \u001b[38;5;34m16\u001b[0m)             │             \u001b[38;5;34m512\u001b[0m │ Input_NOT_COUNTRY[\u001b[38;5;34m0\u001b[0m][\u001b[38;5;34m0\u001b[0m]    │\n",
       "│ (\u001b[38;5;33mEmbedding\u001b[0m)                   │                           │                 │                            │\n",
       "├───────────────────────────────┼───────────────────────────┼─────────────────┼────────────────────────────┤\n",
       "│ DISTRIBUTION_STAT_Embedding   │ (\u001b[38;5;45mNone\u001b[0m, \u001b[38;5;34m1\u001b[0m, \u001b[38;5;34m9\u001b[0m)              │             \u001b[38;5;34m153\u001b[0m │ Input_DISTRIBUTION_STAT[\u001b[38;5;34m0\u001b[0m… │\n",
       "│ (\u001b[38;5;33mEmbedding\u001b[0m)                   │                           │                 │                            │\n",
       "├───────────────────────────────┼───────────────────────────┼─────────────────┼────────────────────────────┤\n",
       "│ COUNT_ORIGEN_Embedding        │ (\u001b[38;5;45mNone\u001b[0m, \u001b[38;5;34m1\u001b[0m, \u001b[38;5;34m50\u001b[0m)             │           \u001b[38;5;34m9,350\u001b[0m │ Input_COUNT_ORIGEN[\u001b[38;5;34m0\u001b[0m][\u001b[38;5;34m0\u001b[0m]   │\n",
       "│ (\u001b[38;5;33mEmbedding\u001b[0m)                   │                           │                 │                            │\n",
       "├───────────────────────────────┼───────────────────────────┼─────────────────┼────────────────────────────┤\n",
       "│ reshape_9 (\u001b[38;5;33mReshape\u001b[0m)           │ (\u001b[38;5;45mNone\u001b[0m, \u001b[38;5;34m6\u001b[0m)                 │               \u001b[38;5;34m0\u001b[0m │ DATE_CASE_Embedding[\u001b[38;5;34m0\u001b[0m][\u001b[38;5;34m0\u001b[0m]  │\n",
       "├───────────────────────────────┼───────────────────────────┼─────────────────┼────────────────────────────┤\n",
       "│ reshape_10 (\u001b[38;5;33mReshape\u001b[0m)          │ (\u001b[38;5;45mNone\u001b[0m, \u001b[38;5;34m16\u001b[0m)                │               \u001b[38;5;34m0\u001b[0m │ NOT_COUNTRY_Embedding[\u001b[38;5;34m0\u001b[0m][\u001b[38;5;34m…\u001b[0m │\n",
       "├───────────────────────────────┼───────────────────────────┼─────────────────┼────────────────────────────┤\n",
       "│ reshape_11 (\u001b[38;5;33mReshape\u001b[0m)          │ (\u001b[38;5;45mNone\u001b[0m, \u001b[38;5;34m9\u001b[0m)                 │               \u001b[38;5;34m0\u001b[0m │ DISTRIBUTION_STAT_Embeddi… │\n",
       "├───────────────────────────────┼───────────────────────────┼─────────────────┼────────────────────────────┤\n",
       "│ reshape_12 (\u001b[38;5;33mReshape\u001b[0m)          │ (\u001b[38;5;45mNone\u001b[0m, \u001b[38;5;34m50\u001b[0m)                │               \u001b[38;5;34m0\u001b[0m │ COUNT_ORIGEN_Embedding[\u001b[38;5;34m0\u001b[0m]… │\n",
       "├───────────────────────────────┼───────────────────────────┼─────────────────┼────────────────────────────┤\n",
       "│ concatenate_2 (\u001b[38;5;33mConcatenate\u001b[0m)   │ (\u001b[38;5;45mNone\u001b[0m, \u001b[38;5;34m81\u001b[0m)                │               \u001b[38;5;34m0\u001b[0m │ reshape_9[\u001b[38;5;34m0\u001b[0m][\u001b[38;5;34m0\u001b[0m],           │\n",
       "│                               │                           │                 │ reshape_10[\u001b[38;5;34m0\u001b[0m][\u001b[38;5;34m0\u001b[0m],          │\n",
       "│                               │                           │                 │ reshape_11[\u001b[38;5;34m0\u001b[0m][\u001b[38;5;34m0\u001b[0m],          │\n",
       "│                               │                           │                 │ reshape_12[\u001b[38;5;34m0\u001b[0m][\u001b[38;5;34m0\u001b[0m]           │\n",
       "├───────────────────────────────┼───────────────────────────┼─────────────────┼────────────────────────────┤\n",
       "│ reshape_13 (\u001b[38;5;33mReshape\u001b[0m)          │ (\u001b[38;5;45mNone\u001b[0m, \u001b[38;5;34m81\u001b[0m, \u001b[38;5;34m1\u001b[0m)             │               \u001b[38;5;34m0\u001b[0m │ concatenate_2[\u001b[38;5;34m0\u001b[0m][\u001b[38;5;34m0\u001b[0m]        │\n",
       "├───────────────────────────────┼───────────────────────────┼─────────────────┼────────────────────────────┤\n",
       "│ conv1d_4 (\u001b[38;5;33mConv1D\u001b[0m)             │ (\u001b[38;5;45mNone\u001b[0m, \u001b[38;5;34m78\u001b[0m, \u001b[38;5;34m128\u001b[0m)           │             \u001b[38;5;34m640\u001b[0m │ reshape_13[\u001b[38;5;34m0\u001b[0m][\u001b[38;5;34m0\u001b[0m]           │\n",
       "├───────────────────────────────┼───────────────────────────┼─────────────────┼────────────────────────────┤\n",
       "│ conv1d_5 (\u001b[38;5;33mConv1D\u001b[0m)             │ (\u001b[38;5;45mNone\u001b[0m, \u001b[38;5;34m75\u001b[0m, \u001b[38;5;34m128\u001b[0m)           │          \u001b[38;5;34m65,664\u001b[0m │ conv1d_4[\u001b[38;5;34m0\u001b[0m][\u001b[38;5;34m0\u001b[0m]             │\n",
       "├───────────────────────────────┼───────────────────────────┼─────────────────┼────────────────────────────┤\n",
       "│ batch_normalization_2         │ (\u001b[38;5;45mNone\u001b[0m, \u001b[38;5;34m75\u001b[0m, \u001b[38;5;34m128\u001b[0m)           │             \u001b[38;5;34m512\u001b[0m │ conv1d_5[\u001b[38;5;34m0\u001b[0m][\u001b[38;5;34m0\u001b[0m]             │\n",
       "│ (\u001b[38;5;33mBatchNormalization\u001b[0m)          │                           │                 │                            │\n",
       "├───────────────────────────────┼───────────────────────────┼─────────────────┼────────────────────────────┤\n",
       "│ max_pooling1d_1               │ (\u001b[38;5;45mNone\u001b[0m, \u001b[38;5;34m37\u001b[0m, \u001b[38;5;34m128\u001b[0m)           │               \u001b[38;5;34m0\u001b[0m │ batch_normalization_2[\u001b[38;5;34m0\u001b[0m][\u001b[38;5;34m…\u001b[0m │\n",
       "│ (\u001b[38;5;33mMaxPooling1D\u001b[0m)                │                           │                 │                            │\n",
       "├───────────────────────────────┼───────────────────────────┼─────────────────┼────────────────────────────┤\n",
       "│ conv1d_6 (\u001b[38;5;33mConv1D\u001b[0m)             │ (\u001b[38;5;45mNone\u001b[0m, \u001b[38;5;34m35\u001b[0m, \u001b[38;5;34m256\u001b[0m)           │          \u001b[38;5;34m98,560\u001b[0m │ max_pooling1d_1[\u001b[38;5;34m0\u001b[0m][\u001b[38;5;34m0\u001b[0m]      │\n",
       "├───────────────────────────────┼───────────────────────────┼─────────────────┼────────────────────────────┤\n",
       "│ conv1d_7 (\u001b[38;5;33mConv1D\u001b[0m)             │ (\u001b[38;5;45mNone\u001b[0m, \u001b[38;5;34m33\u001b[0m, \u001b[38;5;34m256\u001b[0m)           │         \u001b[38;5;34m196,864\u001b[0m │ conv1d_6[\u001b[38;5;34m0\u001b[0m][\u001b[38;5;34m0\u001b[0m]             │\n",
       "├───────────────────────────────┼───────────────────────────┼─────────────────┼────────────────────────────┤\n",
       "│ batch_normalization_3         │ (\u001b[38;5;45mNone\u001b[0m, \u001b[38;5;34m33\u001b[0m, \u001b[38;5;34m256\u001b[0m)           │           \u001b[38;5;34m1,024\u001b[0m │ conv1d_7[\u001b[38;5;34m0\u001b[0m][\u001b[38;5;34m0\u001b[0m]             │\n",
       "│ (\u001b[38;5;33mBatchNormalization\u001b[0m)          │                           │                 │                            │\n",
       "├───────────────────────────────┼───────────────────────────┼─────────────────┼────────────────────────────┤\n",
       "│ global_max_pooling1d_1        │ (\u001b[38;5;45mNone\u001b[0m, \u001b[38;5;34m256\u001b[0m)               │               \u001b[38;5;34m0\u001b[0m │ batch_normalization_3[\u001b[38;5;34m0\u001b[0m][\u001b[38;5;34m…\u001b[0m │\n",
       "│ (\u001b[38;5;33mGlobalMaxPooling1D\u001b[0m)          │                           │                 │                            │\n",
       "├───────────────────────────────┼───────────────────────────┼─────────────────┼────────────────────────────┤\n",
       "│ dense_7 (\u001b[38;5;33mDense\u001b[0m)               │ (\u001b[38;5;45mNone\u001b[0m, \u001b[38;5;34m512\u001b[0m)               │         \u001b[38;5;34m131,584\u001b[0m │ global_max_pooling1d_1[\u001b[38;5;34m0\u001b[0m]… │\n",
       "├───────────────────────────────┼───────────────────────────┼─────────────────┼────────────────────────────┤\n",
       "│ dense_8 (\u001b[38;5;33mDense\u001b[0m)               │ (\u001b[38;5;45mNone\u001b[0m, \u001b[38;5;34m256\u001b[0m)               │         \u001b[38;5;34m131,328\u001b[0m │ dense_7[\u001b[38;5;34m0\u001b[0m][\u001b[38;5;34m0\u001b[0m]              │\n",
       "├───────────────────────────────┼───────────────────────────┼─────────────────┼────────────────────────────┤\n",
       "│ dense_9 (\u001b[38;5;33mDense\u001b[0m)               │ (\u001b[38;5;45mNone\u001b[0m, \u001b[38;5;34m35\u001b[0m)                │           \u001b[38;5;34m8,995\u001b[0m │ dense_8[\u001b[38;5;34m0\u001b[0m][\u001b[38;5;34m0\u001b[0m]              │\n",
       "└───────────────────────────────┴───────────────────────────┴─────────────────┴────────────────────────────┘\n"
      ]
     },
     "metadata": {},
     "output_type": "display_data"
    },
    {
     "data": {
      "text/html": [
       "<pre style=\"white-space:pre;overflow-x:auto;line-height:normal;font-family:Menlo,'DejaVu Sans Mono',consolas,'Courier New',monospace\"><span style=\"font-weight: bold\"> Total params: </span><span style=\"color: #00af00; text-decoration-color: #00af00\">645,258</span> (2.46 MB)\n",
       "</pre>\n"
      ],
      "text/plain": [
       "\u001b[1m Total params: \u001b[0m\u001b[38;5;34m645,258\u001b[0m (2.46 MB)\n"
      ]
     },
     "metadata": {},
     "output_type": "display_data"
    },
    {
     "data": {
      "text/html": [
       "<pre style=\"white-space:pre;overflow-x:auto;line-height:normal;font-family:Menlo,'DejaVu Sans Mono',consolas,'Courier New',monospace\"><span style=\"font-weight: bold\"> Trainable params: </span><span style=\"color: #00af00; text-decoration-color: #00af00\">644,490</span> (2.46 MB)\n",
       "</pre>\n"
      ],
      "text/plain": [
       "\u001b[1m Trainable params: \u001b[0m\u001b[38;5;34m644,490\u001b[0m (2.46 MB)\n"
      ]
     },
     "metadata": {},
     "output_type": "display_data"
    },
    {
     "data": {
      "text/html": [
       "<pre style=\"white-space:pre;overflow-x:auto;line-height:normal;font-family:Menlo,'DejaVu Sans Mono',consolas,'Courier New',monospace\"><span style=\"font-weight: bold\"> Non-trainable params: </span><span style=\"color: #00af00; text-decoration-color: #00af00\">768</span> (3.00 KB)\n",
       "</pre>\n"
      ],
      "text/plain": [
       "\u001b[1m Non-trainable params: \u001b[0m\u001b[38;5;34m768\u001b[0m (3.00 KB)\n"
      ]
     },
     "metadata": {},
     "output_type": "display_data"
    }
   ],
   "source": [
    "model.summary()"
   ]
  },
  {
   "cell_type": "code",
   "execution_count": 87,
   "metadata": {
    "ExecuteTime": {
     "end_time": "2019-11-07T10:41:36.988927Z",
     "start_time": "2019-11-07T10:41:36.543652Z"
    },
    "colab": {},
    "colab_type": "code",
    "id": "jgIWNjKd4vvI"
   },
   "outputs": [
    {
     "name": "stdout",
     "output_type": "stream",
     "text": [
      "You must install graphviz (see instructions at https://graphviz.gitlab.io/download/) for `plot_model` to work.\n"
     ]
    }
   ],
   "source": [
    "plot_model(model,show_shapes=True,show_layer_names=True)\n"
   ]
  },
  {
   "cell_type": "code",
   "execution_count": null,
   "metadata": {},
   "outputs": [],
   "source": []
  },
  {
   "cell_type": "code",
   "execution_count": 88,
   "metadata": {
    "ExecuteTime": {
     "end_time": "2019-11-07T10:55:12.499089Z",
     "start_time": "2019-11-07T10:48:30.464147Z"
    },
    "colab": {},
    "colab_type": "code",
    "id": "61trnQV_4vvL",
    "outputId": "e16857a3-7aff-4c86-96fa-720495f896d4",
    "scrolled": true
   },
   "outputs": [
    {
     "name": "stdout",
     "output_type": "stream",
     "text": [
      "Epoch 1/25\n"
     ]
    },
    {
     "ename": "ValueError",
     "evalue": "Arguments `target` and `output` must have the same shape. Received: target.shape=(None, 38), output.shape=(None, 35)",
     "output_type": "error",
     "traceback": [
      "\u001b[1;31m---------------------------------------------------------------------------\u001b[0m",
      "\u001b[1;31mValueError\u001b[0m                                Traceback (most recent call last)",
      "Cell \u001b[1;32mIn[88], line 1\u001b[0m\n\u001b[1;32m----> 1\u001b[0m hist \u001b[38;5;241m=\u001b[39m model\u001b[38;5;241m.\u001b[39mfit(input_list_train,y_train,validation_data\u001b[38;5;241m=\u001b[39m(input_list_test,y_test) , epochs \u001b[38;5;241m=\u001b[39m  \u001b[38;5;241m25\u001b[39m, batch_size \u001b[38;5;241m=\u001b[39m \u001b[38;5;241m64\u001b[39m, verbose\u001b[38;5;241m=\u001b[39m \u001b[38;5;241m1\u001b[39m)\n",
      "File \u001b[1;32m~\\anaconda3\\Lib\\site-packages\\keras\\src\\utils\\traceback_utils.py:122\u001b[0m, in \u001b[0;36mfilter_traceback.<locals>.error_handler\u001b[1;34m(*args, **kwargs)\u001b[0m\n\u001b[0;32m    119\u001b[0m     filtered_tb \u001b[38;5;241m=\u001b[39m _process_traceback_frames(e\u001b[38;5;241m.\u001b[39m__traceback__)\n\u001b[0;32m    120\u001b[0m     \u001b[38;5;66;03m# To get the full stack trace, call:\u001b[39;00m\n\u001b[0;32m    121\u001b[0m     \u001b[38;5;66;03m# `keras.config.disable_traceback_filtering()`\u001b[39;00m\n\u001b[1;32m--> 122\u001b[0m     \u001b[38;5;28;01mraise\u001b[39;00m e\u001b[38;5;241m.\u001b[39mwith_traceback(filtered_tb) \u001b[38;5;28;01mfrom\u001b[39;00m \u001b[38;5;28;01mNone\u001b[39;00m\n\u001b[0;32m    123\u001b[0m \u001b[38;5;28;01mfinally\u001b[39;00m:\n\u001b[0;32m    124\u001b[0m     \u001b[38;5;28;01mdel\u001b[39;00m filtered_tb\n",
      "File \u001b[1;32m~\\anaconda3\\Lib\\site-packages\\keras\\src\\backend\\tensorflow\\nn.py:554\u001b[0m, in \u001b[0;36mcategorical_crossentropy\u001b[1;34m(target, output, from_logits, axis)\u001b[0m\n\u001b[0;32m    552\u001b[0m \u001b[38;5;28;01mfor\u001b[39;00m e1, e2 \u001b[38;5;129;01min\u001b[39;00m \u001b[38;5;28mzip\u001b[39m(target\u001b[38;5;241m.\u001b[39mshape, output\u001b[38;5;241m.\u001b[39mshape):\n\u001b[0;32m    553\u001b[0m     \u001b[38;5;28;01mif\u001b[39;00m e1 \u001b[38;5;129;01mis\u001b[39;00m \u001b[38;5;129;01mnot\u001b[39;00m \u001b[38;5;28;01mNone\u001b[39;00m \u001b[38;5;129;01mand\u001b[39;00m e2 \u001b[38;5;129;01mis\u001b[39;00m \u001b[38;5;129;01mnot\u001b[39;00m \u001b[38;5;28;01mNone\u001b[39;00m \u001b[38;5;129;01mand\u001b[39;00m e1 \u001b[38;5;241m!=\u001b[39m e2:\n\u001b[1;32m--> 554\u001b[0m         \u001b[38;5;28;01mraise\u001b[39;00m \u001b[38;5;167;01mValueError\u001b[39;00m(\n\u001b[0;32m    555\u001b[0m             \u001b[38;5;124m\"\u001b[39m\u001b[38;5;124mArguments `target` and `output` must have the same shape. \u001b[39m\u001b[38;5;124m\"\u001b[39m\n\u001b[0;32m    556\u001b[0m             \u001b[38;5;124m\"\u001b[39m\u001b[38;5;124mReceived: \u001b[39m\u001b[38;5;124m\"\u001b[39m\n\u001b[0;32m    557\u001b[0m             \u001b[38;5;124mf\u001b[39m\u001b[38;5;124m\"\u001b[39m\u001b[38;5;124mtarget.shape=\u001b[39m\u001b[38;5;132;01m{\u001b[39;00mtarget\u001b[38;5;241m.\u001b[39mshape\u001b[38;5;132;01m}\u001b[39;00m\u001b[38;5;124m, output.shape=\u001b[39m\u001b[38;5;132;01m{\u001b[39;00moutput\u001b[38;5;241m.\u001b[39mshape\u001b[38;5;132;01m}\u001b[39;00m\u001b[38;5;124m\"\u001b[39m\n\u001b[0;32m    558\u001b[0m         )\n\u001b[0;32m    560\u001b[0m output, from_logits \u001b[38;5;241m=\u001b[39m _get_logits(\n\u001b[0;32m    561\u001b[0m     output, from_logits, \u001b[38;5;124m\"\u001b[39m\u001b[38;5;124mSoftmax\u001b[39m\u001b[38;5;124m\"\u001b[39m, \u001b[38;5;124m\"\u001b[39m\u001b[38;5;124mcategorical_crossentropy\u001b[39m\u001b[38;5;124m\"\u001b[39m\n\u001b[0;32m    562\u001b[0m )\n\u001b[0;32m    563\u001b[0m \u001b[38;5;28;01mif\u001b[39;00m from_logits:\n",
      "\u001b[1;31mValueError\u001b[0m: Arguments `target` and `output` must have the same shape. Received: target.shape=(None, 38), output.shape=(None, 35)"
     ]
    }
   ],
   "source": [
    "hist = model.fit(input_list_train,y_train,validation_data=(input_list_test,y_test) , epochs =  25, batch_size = 64, verbose= 1)"
   ]
  },
  {
   "cell_type": "code",
   "execution_count": null,
   "metadata": {
    "ExecuteTime": {
     "end_time": "2019-05-29T10:35:41.668398Z",
     "start_time": "2019-05-29T10:35:41.518798Z"
    },
    "colab": {},
    "colab_type": "code",
    "id": "6g_T791_4vvN",
    "outputId": "dbf2d852-d7ea-41dc-f06d-a6809a916856"
   },
   "outputs": [],
   "source": [
    "model.evaluate(x = input_list_testval, y = y_val)"
   ]
  },
  {
   "cell_type": "code",
   "execution_count": null,
   "metadata": {
    "ExecuteTime": {
     "end_time": "2019-04-24T14:51:28.498386Z",
     "start_time": "2019-04-24T14:51:28.351524Z"
    },
    "colab": {},
    "colab_type": "code",
    "id": "1JJH3Qi14vvP"
   },
   "outputs": [],
   "source": [
    "plt.plot(hist.history['loss'], label = 'loss') \n",
    "plt.plot(hist.history['val_loss'], label = 'val_loss') \n",
    "plt.legend()\n",
    "plt.show()\n",
    "\n",
    "\n",
    "plt.plot(hist.history['categorical_accuracy'], label = 'acc') \n",
    "plt.plot(hist.history['val_categorical_accuracy'], label = 'val_acc') \n",
    "plt.legend()\n",
    "plt.show()"
   ]
  },
  {
   "cell_type": "code",
   "execution_count": null,
   "metadata": {},
   "outputs": [],
   "source": [
    "n_sample = 1000\n",
    "a_input, b_input, c_input = [np.random.uniform(0,1, n_sample) for _ in range(3)]\n",
    "y = np.random.randint(0,2, n_sample)\n",
    "\n",
    "## merge inputs\n",
    "combi_input = np.stack([a_input, b_input, c_input], axis=-1)\n",
    "combi_input"
   ]
  },
  {
   "cell_type": "code",
   "execution_count": null,
   "metadata": {},
   "outputs": [],
   "source": [
    "input_list_train.shape"
   ]
  },
  {
   "cell_type": "code",
   "execution_count": null,
   "metadata": {},
   "outputs": [],
   "source": []
  },
  {
   "cell_type": "code",
   "execution_count": null,
   "metadata": {},
   "outputs": [],
   "source": []
  },
  {
   "cell_type": "code",
   "execution_count": null,
   "metadata": {},
   "outputs": [],
   "source": []
  }
 ],
 "metadata": {
  "colab": {
   "collapsed_sections": [],
   "name": "Categorical embedding.ipynb",
   "provenance": [],
   "toc_visible": true
  },
  "kernelspec": {
   "display_name": "Python 3 (ipykernel)",
   "language": "python",
   "name": "python3"
  },
  "language_info": {
   "codemirror_mode": {
    "name": "ipython",
    "version": 3
   },
   "file_extension": ".py",
   "mimetype": "text/x-python",
   "name": "python",
   "nbconvert_exporter": "python",
   "pygments_lexer": "ipython3",
   "version": "3.11.7"
  },
  "toc": {
   "base_numbering": 1,
   "nav_menu": {},
   "number_sections": true,
   "sideBar": true,
   "skip_h1_title": false,
   "title_cell": "Table of Contents",
   "title_sidebar": "Contents",
   "toc_cell": false,
   "toc_position": {},
   "toc_section_display": true,
   "toc_window_display": false
  }
 },
 "nbformat": 4,
 "nbformat_minor": 4
}
