{
 "cells": [
  {
   "cell_type": "code",
   "execution_count": 1,
   "metadata": {
    "ExecuteTime": {
     "end_time": "2019-11-05T15:07:09.047628Z",
     "start_time": "2019-11-05T15:07:09.041610Z"
    }
   },
   "outputs": [],
   "source": [
    "import numpy as np\n",
    "import pandas as pd\n",
    "import matplotlib.pyplot as plt\n",
    "from IPython.display import Image\n",
    "import category_encoders as ce\n",
    "import functools\n",
    "\n",
    "from keras.models import Sequential, Model\n",
    "from keras.layers import Dense, Dropout, Flatten, Input, MaxPooling1D, Conv1D, Embedding,Reshape, Concatenate,BatchNormalization,GlobalMaxPooling1D,GlobalAveragePooling1D\n",
    "# from keras.layers.merge import Concatenate\n",
    "from keras.preprocessing import sequence\n",
    "from keras.optimizers import RMSprop, Adam\n",
    "from keras.preprocessing.sequence import pad_sequences\n",
    "from keras.utils import to_categorical\n",
    "from keras.utils import plot_model\n",
    "from keras import backend as K\n",
    "# from keras.wrappers.scikit_learn import KerasClassifier\n",
    "from keras import metrics\n",
    "from keras import regularizers\n",
    "\n",
    "from sklearn.model_selection import train_test_split\n",
    "from sklearn.preprocessing import OneHotEncoder\n",
    "from sklearn.preprocessing import LabelBinarizer\n",
    "from sklearn import preprocessing\n",
    "from sklearn.model_selection import GridSearchCV \n",
    "from sklearn.metrics import classification_report\n",
    "from sklearn.preprocessing import OrdinalEncoder\n",
    "from sklearn.feature_extraction import FeatureHasher"
   ]
  },
  {
   "cell_type": "markdown",
   "metadata": {},
   "source": [
    "# Lectura de datos"
   ]
  },
  {
   "cell_type": "code",
   "execution_count": 2,
   "metadata": {
    "ExecuteTime": {
     "end_time": "2019-11-05T15:07:09.855479Z",
     "start_time": "2019-11-05T15:07:09.529324Z"
    }
   },
   "outputs": [
    {
     "data": {
      "text/html": [
       "<div>\n",
       "<style scoped>\n",
       "    .dataframe tbody tr th:only-of-type {\n",
       "        vertical-align: middle;\n",
       "    }\n",
       "\n",
       "    .dataframe tbody tr th {\n",
       "        vertical-align: top;\n",
       "    }\n",
       "\n",
       "    .dataframe thead th {\n",
       "        text-align: right;\n",
       "    }\n",
       "</style>\n",
       "<table border=\"1\" class=\"dataframe\">\n",
       "  <thead>\n",
       "    <tr style=\"text-align: right;\">\n",
       "      <th></th>\n",
       "      <th>DATE_CASE</th>\n",
       "      <th>NOT_COUNTRY</th>\n",
       "      <th>PROD_CAT</th>\n",
       "      <th>TYPE</th>\n",
       "      <th>RISK_DECISION</th>\n",
       "      <th>ACTION_TAKEN</th>\n",
       "      <th>DISTRIBUTION_STAT</th>\n",
       "      <th>HAZARDS_CAT</th>\n",
       "      <th>COUNT_ORIGEN</th>\n",
       "      <th>COUNT_DESTIN</th>\n",
       "      <th>COUNT_CONCERN</th>\n",
       "    </tr>\n",
       "  </thead>\n",
       "  <tbody>\n",
       "    <tr>\n",
       "      <th>10466</th>\n",
       "      <td>2018-12-14</td>\n",
       "      <td>Netherlands</td>\n",
       "      <td>fish and fish products</td>\n",
       "      <td>food</td>\n",
       "      <td>serious</td>\n",
       "      <td>informing recipient(s)</td>\n",
       "      <td>product (presumably) no longer on the market</td>\n",
       "      <td>biological contaminants (other)</td>\n",
       "      <td>Maldives</td>\n",
       "      <td>Sweden</td>\n",
       "      <td>Netherlands</td>\n",
       "    </tr>\n",
       "    <tr>\n",
       "      <th>33745</th>\n",
       "      <td>2017-07-07</td>\n",
       "      <td>United Kingdom</td>\n",
       "      <td>confectionery</td>\n",
       "      <td>food</td>\n",
       "      <td>undecided</td>\n",
       "      <td>withdrawal from the market</td>\n",
       "      <td>distribution to other member countries</td>\n",
       "      <td>labelling absent/incomplete/incorrect</td>\n",
       "      <td>United States</td>\n",
       "      <td>France</td>\n",
       "      <td></td>\n",
       "    </tr>\n",
       "    <tr>\n",
       "      <th>20087</th>\n",
       "      <td>2018-05-07</td>\n",
       "      <td>Germany</td>\n",
       "      <td>feed materials</td>\n",
       "      <td>feed</td>\n",
       "      <td>serious</td>\n",
       "      <td>withdrawal from the market</td>\n",
       "      <td>distribution to other member countries</td>\n",
       "      <td>composition</td>\n",
       "      <td>Ukraine</td>\n",
       "      <td>Slovenia</td>\n",
       "      <td>INFOSAN</td>\n",
       "    </tr>\n",
       "    <tr>\n",
       "      <th>78089</th>\n",
       "      <td>2013-02-08</td>\n",
       "      <td>United Kingdom</td>\n",
       "      <td>prepared dishes and snacks</td>\n",
       "      <td>food</td>\n",
       "      <td>not serious</td>\n",
       "      <td>recall from consumers</td>\n",
       "      <td>distribution to other member countries</td>\n",
       "      <td>adulteration / fraud</td>\n",
       "      <td>Romania</td>\n",
       "      <td>Portugal</td>\n",
       "      <td>Slovenia</td>\n",
       "    </tr>\n",
       "    <tr>\n",
       "      <th>9951</th>\n",
       "      <td>2018-12-27</td>\n",
       "      <td>Germany</td>\n",
       "      <td>soups, broths, sauces and condiments</td>\n",
       "      <td>food</td>\n",
       "      <td>serious</td>\n",
       "      <td>detained by operator</td>\n",
       "      <td>distribution to other member countries</td>\n",
       "      <td>food additives and flavourings</td>\n",
       "      <td>Italy</td>\n",
       "      <td>Lithuania</td>\n",
       "      <td>Commission Services</td>\n",
       "    </tr>\n",
       "    <tr>\n",
       "      <th>...</th>\n",
       "      <td>...</td>\n",
       "      <td>...</td>\n",
       "      <td>...</td>\n",
       "      <td>...</td>\n",
       "      <td>...</td>\n",
       "      <td>...</td>\n",
       "      <td>...</td>\n",
       "      <td>...</td>\n",
       "      <td>...</td>\n",
       "      <td>...</td>\n",
       "      <td>...</td>\n",
       "    </tr>\n",
       "    <tr>\n",
       "      <th>22172</th>\n",
       "      <td>2018-03-16</td>\n",
       "      <td>Netherlands</td>\n",
       "      <td>nuts, nut products and seeds</td>\n",
       "      <td>food</td>\n",
       "      <td>serious</td>\n",
       "      <td>public warning - press release</td>\n",
       "      <td>distribution to other member countries</td>\n",
       "      <td>pathogenic micro-organisms</td>\n",
       "      <td>India</td>\n",
       "      <td>Germany</td>\n",
       "      <td>Slovakia</td>\n",
       "    </tr>\n",
       "    <tr>\n",
       "      <th>72853</th>\n",
       "      <td>2013-07-29</td>\n",
       "      <td>Netherlands</td>\n",
       "      <td>alcoholic beverages</td>\n",
       "      <td>food</td>\n",
       "      <td>serious</td>\n",
       "      <td>recall from consumers</td>\n",
       "      <td>distribution to other member countries</td>\n",
       "      <td>packaging defective / incorrect</td>\n",
       "      <td>Belgium</td>\n",
       "      <td>Switzerland</td>\n",
       "      <td></td>\n",
       "    </tr>\n",
       "    <tr>\n",
       "      <th>54019</th>\n",
       "      <td>2015-07-22</td>\n",
       "      <td>Germany</td>\n",
       "      <td>feed materials</td>\n",
       "      <td>feed</td>\n",
       "      <td>serious</td>\n",
       "      <td>informing authorities</td>\n",
       "      <td>no distribution from notifying country</td>\n",
       "      <td>environmental pollutants</td>\n",
       "      <td>Poland</td>\n",
       "      <td>Germany</td>\n",
       "      <td>Austria</td>\n",
       "    </tr>\n",
       "    <tr>\n",
       "      <th>10516</th>\n",
       "      <td>2018-12-11</td>\n",
       "      <td>Sweden</td>\n",
       "      <td>dietetic foods, food supplements, fortified foods</td>\n",
       "      <td>food</td>\n",
       "      <td>serious</td>\n",
       "      <td></td>\n",
       "      <td>product traded online</td>\n",
       "      <td>composition</td>\n",
       "      <td>United States</td>\n",
       "      <td></td>\n",
       "      <td>INFOSAN</td>\n",
       "    </tr>\n",
       "    <tr>\n",
       "      <th>47190</th>\n",
       "      <td>2016-03-22</td>\n",
       "      <td>Czech Republic</td>\n",
       "      <td>food contact materials</td>\n",
       "      <td>fcm</td>\n",
       "      <td>serious</td>\n",
       "      <td>withdrawal from the market</td>\n",
       "      <td>distribution to other member countries</td>\n",
       "      <td>migration</td>\n",
       "      <td>Hong Kong</td>\n",
       "      <td>Finland</td>\n",
       "      <td>China</td>\n",
       "    </tr>\n",
       "  </tbody>\n",
       "</table>\n",
       "<p>141529 rows × 11 columns</p>\n",
       "</div>"
      ],
      "text/plain": [
       "        DATE_CASE     NOT_COUNTRY  \\\n",
       "10466  2018-12-14     Netherlands   \n",
       "33745  2017-07-07  United Kingdom   \n",
       "20087  2018-05-07         Germany   \n",
       "78089  2013-02-08  United Kingdom   \n",
       "9951   2018-12-27         Germany   \n",
       "...           ...             ...   \n",
       "22172  2018-03-16     Netherlands   \n",
       "72853  2013-07-29     Netherlands   \n",
       "54019  2015-07-22         Germany   \n",
       "10516  2018-12-11          Sweden   \n",
       "47190  2016-03-22  Czech Republic   \n",
       "\n",
       "                                                PROD_CAT  TYPE RISK_DECISION  \\\n",
       "10466                             fish and fish products  food       serious   \n",
       "33745                                      confectionery  food     undecided   \n",
       "20087                                     feed materials  feed       serious   \n",
       "78089                         prepared dishes and snacks  food   not serious   \n",
       "9951                soups, broths, sauces and condiments  food       serious   \n",
       "...                                                  ...   ...           ...   \n",
       "22172                       nuts, nut products and seeds  food       serious   \n",
       "72853                                alcoholic beverages  food       serious   \n",
       "54019                                     feed materials  feed       serious   \n",
       "10516  dietetic foods, food supplements, fortified foods  food       serious   \n",
       "47190                             food contact materials   fcm       serious   \n",
       "\n",
       "                         ACTION_TAKEN  \\\n",
       "10466          informing recipient(s)   \n",
       "33745      withdrawal from the market   \n",
       "20087      withdrawal from the market   \n",
       "78089           recall from consumers   \n",
       "9951             detained by operator   \n",
       "...                               ...   \n",
       "22172  public warning - press release   \n",
       "72853           recall from consumers   \n",
       "54019           informing authorities   \n",
       "10516                                   \n",
       "47190      withdrawal from the market   \n",
       "\n",
       "                                  DISTRIBUTION_STAT  \\\n",
       "10466  product (presumably) no longer on the market   \n",
       "33745        distribution to other member countries   \n",
       "20087        distribution to other member countries   \n",
       "78089        distribution to other member countries   \n",
       "9951         distribution to other member countries   \n",
       "...                                             ...   \n",
       "22172        distribution to other member countries   \n",
       "72853        distribution to other member countries   \n",
       "54019        no distribution from notifying country   \n",
       "10516                         product traded online   \n",
       "47190        distribution to other member countries   \n",
       "\n",
       "                                 HAZARDS_CAT   COUNT_ORIGEN COUNT_DESTIN  \\\n",
       "10466        biological contaminants (other)       Maldives       Sweden   \n",
       "33745  labelling absent/incomplete/incorrect  United States       France   \n",
       "20087                            composition        Ukraine     Slovenia   \n",
       "78089                   adulteration / fraud        Romania     Portugal   \n",
       "9951          food additives and flavourings          Italy    Lithuania   \n",
       "...                                      ...            ...          ...   \n",
       "22172             pathogenic micro-organisms          India      Germany   \n",
       "72853        packaging defective / incorrect        Belgium  Switzerland   \n",
       "54019               environmental pollutants         Poland      Germany   \n",
       "10516                            composition  United States                \n",
       "47190                              migration      Hong Kong      Finland   \n",
       "\n",
       "             COUNT_CONCERN  \n",
       "10466          Netherlands  \n",
       "33745                       \n",
       "20087              INFOSAN  \n",
       "78089             Slovenia  \n",
       "9951   Commission Services  \n",
       "...                    ...  \n",
       "22172             Slovakia  \n",
       "72853                       \n",
       "54019              Austria  \n",
       "10516              INFOSAN  \n",
       "47190                China  \n",
       "\n",
       "[141529 rows x 11 columns]"
      ]
     },
     "execution_count": 2,
     "metadata": {},
     "output_type": "execute_result"
    }
   ],
   "source": [
    "data = pd.read_csv('C:/Users/ASUS/Documents/Data mining/splited_RASFF_DATA_16092019.csv', sep=';', \n",
    "                header=0, index_col = 0)\n",
    "data ['DATE_CASE'] = data ['DATE_CASE'].astype(str)\n",
    "data ['HAZARDS_CAT'] = data ['HAZARDS_CAT'].astype(str)\n",
    "data = data.sample(frac = 1)\n",
    "df = data\n",
    "df"
   ]
  },
  {
   "cell_type": "code",
   "execution_count": 3,
   "metadata": {
    "ExecuteTime": {
     "end_time": "2019-11-05T15:07:10.270056Z",
     "start_time": "2019-11-05T15:07:10.240159Z"
    }
   },
   "outputs": [
    {
     "name": "stderr",
     "output_type": "stream",
     "text": [
      "C:\\Users\\ASUS\\AppData\\Local\\Temp\\ipykernel_4436\\335135510.py:3: SettingWithCopyWarning: \n",
      "A value is trying to be set on a copy of a slice from a DataFrame.\n",
      "Try using .loc[row_indexer,col_indexer] = value instead\n",
      "\n",
      "See the caveats in the documentation: https://pandas.pydata.org/pandas-docs/stable/user_guide/indexing.html#returning-a-view-versus-a-copy\n",
      "  df['DATE_CASE'] =pd.to_datetime(df.DATE_CASE)\n",
      "C:\\Users\\ASUS\\AppData\\Local\\Temp\\ipykernel_4436\\335135510.py:4: SettingWithCopyWarning: \n",
      "A value is trying to be set on a copy of a slice from a DataFrame.\n",
      "Try using .loc[row_indexer,col_indexer] = value instead\n",
      "\n",
      "See the caveats in the documentation: https://pandas.pydata.org/pandas-docs/stable/user_guide/indexing.html#returning-a-view-versus-a-copy\n",
      "  df['DATE_CASE'] = df.DATE_CASE.dt.month\n"
     ]
    }
   ],
   "source": [
    "mask = (df['DATE_CASE'] >= '2004-01-01') & (df['DATE_CASE'] <= '2018-12-31')\n",
    "df = df.loc[mask]\n",
    "df['DATE_CASE'] =pd.to_datetime(df.DATE_CASE)\n",
    "df['DATE_CASE'] = df.DATE_CASE.dt.month"
   ]
  },
  {
   "cell_type": "code",
   "execution_count": 4,
   "metadata": {
    "ExecuteTime": {
     "end_time": "2019-11-05T15:07:11.786191Z",
     "start_time": "2019-11-05T15:07:11.776240Z"
    }
   },
   "outputs": [],
   "source": [
    "features = [0,1,2,6,7,8]\n",
    "target = [5]\n",
    "X = df.iloc[:,features]\n",
    "y = df.iloc[:,target]"
   ]
  },
  {
   "cell_type": "code",
   "execution_count": 5,
   "metadata": {
    "ExecuteTime": {
     "end_time": "2019-11-05T15:07:12.344412Z",
     "start_time": "2019-11-05T15:07:12.323496Z"
    },
    "scrolled": true
   },
   "outputs": [
    {
     "data": {
      "text/html": [
       "<div>\n",
       "<style scoped>\n",
       "    .dataframe tbody tr th:only-of-type {\n",
       "        vertical-align: middle;\n",
       "    }\n",
       "\n",
       "    .dataframe tbody tr th {\n",
       "        vertical-align: top;\n",
       "    }\n",
       "\n",
       "    .dataframe thead th {\n",
       "        text-align: right;\n",
       "    }\n",
       "</style>\n",
       "<table border=\"1\" class=\"dataframe\">\n",
       "  <thead>\n",
       "    <tr style=\"text-align: right;\">\n",
       "      <th></th>\n",
       "      <th>DATE_CASE</th>\n",
       "      <th>NOT_COUNTRY</th>\n",
       "      <th>PROD_CAT</th>\n",
       "      <th>DISTRIBUTION_STAT</th>\n",
       "      <th>HAZARDS_CAT</th>\n",
       "      <th>COUNT_ORIGEN</th>\n",
       "    </tr>\n",
       "  </thead>\n",
       "  <tbody>\n",
       "    <tr>\n",
       "      <th>10466</th>\n",
       "      <td>12</td>\n",
       "      <td>Netherlands</td>\n",
       "      <td>fish and fish products</td>\n",
       "      <td>product (presumably) no longer on the market</td>\n",
       "      <td>biological contaminants (other)</td>\n",
       "      <td>Maldives</td>\n",
       "    </tr>\n",
       "    <tr>\n",
       "      <th>33745</th>\n",
       "      <td>7</td>\n",
       "      <td>United Kingdom</td>\n",
       "      <td>confectionery</td>\n",
       "      <td>distribution to other member countries</td>\n",
       "      <td>labelling absent/incomplete/incorrect</td>\n",
       "      <td>United States</td>\n",
       "    </tr>\n",
       "    <tr>\n",
       "      <th>20087</th>\n",
       "      <td>5</td>\n",
       "      <td>Germany</td>\n",
       "      <td>feed materials</td>\n",
       "      <td>distribution to other member countries</td>\n",
       "      <td>composition</td>\n",
       "      <td>Ukraine</td>\n",
       "    </tr>\n",
       "    <tr>\n",
       "      <th>78089</th>\n",
       "      <td>2</td>\n",
       "      <td>United Kingdom</td>\n",
       "      <td>prepared dishes and snacks</td>\n",
       "      <td>distribution to other member countries</td>\n",
       "      <td>adulteration / fraud</td>\n",
       "      <td>Romania</td>\n",
       "    </tr>\n",
       "    <tr>\n",
       "      <th>9951</th>\n",
       "      <td>12</td>\n",
       "      <td>Germany</td>\n",
       "      <td>soups, broths, sauces and condiments</td>\n",
       "      <td>distribution to other member countries</td>\n",
       "      <td>food additives and flavourings</td>\n",
       "      <td>Italy</td>\n",
       "    </tr>\n",
       "    <tr>\n",
       "      <th>...</th>\n",
       "      <td>...</td>\n",
       "      <td>...</td>\n",
       "      <td>...</td>\n",
       "      <td>...</td>\n",
       "      <td>...</td>\n",
       "      <td>...</td>\n",
       "    </tr>\n",
       "    <tr>\n",
       "      <th>22172</th>\n",
       "      <td>3</td>\n",
       "      <td>Netherlands</td>\n",
       "      <td>nuts, nut products and seeds</td>\n",
       "      <td>distribution to other member countries</td>\n",
       "      <td>pathogenic micro-organisms</td>\n",
       "      <td>India</td>\n",
       "    </tr>\n",
       "    <tr>\n",
       "      <th>72853</th>\n",
       "      <td>7</td>\n",
       "      <td>Netherlands</td>\n",
       "      <td>alcoholic beverages</td>\n",
       "      <td>distribution to other member countries</td>\n",
       "      <td>packaging defective / incorrect</td>\n",
       "      <td>Belgium</td>\n",
       "    </tr>\n",
       "    <tr>\n",
       "      <th>54019</th>\n",
       "      <td>7</td>\n",
       "      <td>Germany</td>\n",
       "      <td>feed materials</td>\n",
       "      <td>no distribution from notifying country</td>\n",
       "      <td>environmental pollutants</td>\n",
       "      <td>Poland</td>\n",
       "    </tr>\n",
       "    <tr>\n",
       "      <th>10516</th>\n",
       "      <td>12</td>\n",
       "      <td>Sweden</td>\n",
       "      <td>dietetic foods, food supplements, fortified foods</td>\n",
       "      <td>product traded online</td>\n",
       "      <td>composition</td>\n",
       "      <td>United States</td>\n",
       "    </tr>\n",
       "    <tr>\n",
       "      <th>47190</th>\n",
       "      <td>3</td>\n",
       "      <td>Czech Republic</td>\n",
       "      <td>food contact materials</td>\n",
       "      <td>distribution to other member countries</td>\n",
       "      <td>migration</td>\n",
       "      <td>Hong Kong</td>\n",
       "    </tr>\n",
       "  </tbody>\n",
       "</table>\n",
       "<p>131694 rows × 6 columns</p>\n",
       "</div>"
      ],
      "text/plain": [
       "       DATE_CASE     NOT_COUNTRY  \\\n",
       "10466         12     Netherlands   \n",
       "33745          7  United Kingdom   \n",
       "20087          5         Germany   \n",
       "78089          2  United Kingdom   \n",
       "9951          12         Germany   \n",
       "...          ...             ...   \n",
       "22172          3     Netherlands   \n",
       "72853          7     Netherlands   \n",
       "54019          7         Germany   \n",
       "10516         12          Sweden   \n",
       "47190          3  Czech Republic   \n",
       "\n",
       "                                                PROD_CAT  \\\n",
       "10466                             fish and fish products   \n",
       "33745                                      confectionery   \n",
       "20087                                     feed materials   \n",
       "78089                         prepared dishes and snacks   \n",
       "9951                soups, broths, sauces and condiments   \n",
       "...                                                  ...   \n",
       "22172                       nuts, nut products and seeds   \n",
       "72853                                alcoholic beverages   \n",
       "54019                                     feed materials   \n",
       "10516  dietetic foods, food supplements, fortified foods   \n",
       "47190                             food contact materials   \n",
       "\n",
       "                                  DISTRIBUTION_STAT  \\\n",
       "10466  product (presumably) no longer on the market   \n",
       "33745        distribution to other member countries   \n",
       "20087        distribution to other member countries   \n",
       "78089        distribution to other member countries   \n",
       "9951         distribution to other member countries   \n",
       "...                                             ...   \n",
       "22172        distribution to other member countries   \n",
       "72853        distribution to other member countries   \n",
       "54019        no distribution from notifying country   \n",
       "10516                         product traded online   \n",
       "47190        distribution to other member countries   \n",
       "\n",
       "                                 HAZARDS_CAT   COUNT_ORIGEN  \n",
       "10466        biological contaminants (other)       Maldives  \n",
       "33745  labelling absent/incomplete/incorrect  United States  \n",
       "20087                            composition        Ukraine  \n",
       "78089                   adulteration / fraud        Romania  \n",
       "9951          food additives and flavourings          Italy  \n",
       "...                                      ...            ...  \n",
       "22172             pathogenic micro-organisms          India  \n",
       "72853        packaging defective / incorrect        Belgium  \n",
       "54019               environmental pollutants         Poland  \n",
       "10516                            composition  United States  \n",
       "47190                              migration      Hong Kong  \n",
       "\n",
       "[131694 rows x 6 columns]"
      ]
     },
     "execution_count": 5,
     "metadata": {},
     "output_type": "execute_result"
    }
   ],
   "source": [
    "X"
   ]
  },
  {
   "cell_type": "code",
   "execution_count": 6,
   "metadata": {
    "ExecuteTime": {
     "end_time": "2019-11-05T15:07:12.748943Z",
     "start_time": "2019-11-05T15:07:12.736947Z"
    },
    "scrolled": true
   },
   "outputs": [
    {
     "data": {
      "text/html": [
       "<div>\n",
       "<style scoped>\n",
       "    .dataframe tbody tr th:only-of-type {\n",
       "        vertical-align: middle;\n",
       "    }\n",
       "\n",
       "    .dataframe tbody tr th {\n",
       "        vertical-align: top;\n",
       "    }\n",
       "\n",
       "    .dataframe thead th {\n",
       "        text-align: right;\n",
       "    }\n",
       "</style>\n",
       "<table border=\"1\" class=\"dataframe\">\n",
       "  <thead>\n",
       "    <tr style=\"text-align: right;\">\n",
       "      <th></th>\n",
       "      <th>ACTION_TAKEN</th>\n",
       "    </tr>\n",
       "  </thead>\n",
       "  <tbody>\n",
       "    <tr>\n",
       "      <th>10466</th>\n",
       "      <td>informing recipient(s)</td>\n",
       "    </tr>\n",
       "    <tr>\n",
       "      <th>33745</th>\n",
       "      <td>withdrawal from the market</td>\n",
       "    </tr>\n",
       "    <tr>\n",
       "      <th>20087</th>\n",
       "      <td>withdrawal from the market</td>\n",
       "    </tr>\n",
       "    <tr>\n",
       "      <th>78089</th>\n",
       "      <td>recall from consumers</td>\n",
       "    </tr>\n",
       "    <tr>\n",
       "      <th>9951</th>\n",
       "      <td>detained by operator</td>\n",
       "    </tr>\n",
       "    <tr>\n",
       "      <th>...</th>\n",
       "      <td>...</td>\n",
       "    </tr>\n",
       "    <tr>\n",
       "      <th>22172</th>\n",
       "      <td>public warning - press release</td>\n",
       "    </tr>\n",
       "    <tr>\n",
       "      <th>72853</th>\n",
       "      <td>recall from consumers</td>\n",
       "    </tr>\n",
       "    <tr>\n",
       "      <th>54019</th>\n",
       "      <td>informing authorities</td>\n",
       "    </tr>\n",
       "    <tr>\n",
       "      <th>10516</th>\n",
       "      <td></td>\n",
       "    </tr>\n",
       "    <tr>\n",
       "      <th>47190</th>\n",
       "      <td>withdrawal from the market</td>\n",
       "    </tr>\n",
       "  </tbody>\n",
       "</table>\n",
       "<p>131694 rows × 1 columns</p>\n",
       "</div>"
      ],
      "text/plain": [
       "                         ACTION_TAKEN\n",
       "10466          informing recipient(s)\n",
       "33745      withdrawal from the market\n",
       "20087      withdrawal from the market\n",
       "78089           recall from consumers\n",
       "9951             detained by operator\n",
       "...                               ...\n",
       "22172  public warning - press release\n",
       "72853           recall from consumers\n",
       "54019           informing authorities\n",
       "10516                                \n",
       "47190      withdrawal from the market\n",
       "\n",
       "[131694 rows x 1 columns]"
      ]
     },
     "execution_count": 6,
     "metadata": {},
     "output_type": "execute_result"
    }
   ],
   "source": [
    "y"
   ]
  },
  {
   "cell_type": "markdown",
   "metadata": {},
   "source": [
    "# Selección de codificación"
   ]
  },
  {
   "cell_type": "code",
   "execution_count": 7,
   "metadata": {
    "ExecuteTime": {
     "end_time": "2019-11-05T15:07:13.480299Z",
     "start_time": "2019-11-05T15:07:13.440406Z"
    }
   },
   "outputs": [],
   "source": [
    "ency = OneHotEncoder(handle_unknown='ignore', sparse_output=False)\n",
    "\n",
    "\n",
    "# Fit the encoder to your data\n",
    "\n",
    "ency.fit(y.values)\n",
    "\n",
    "\n",
    "# Transform the data to one-hot encoded format\n",
    "\n",
    "y_one_hot = ency.transform(y.values)"
   ]
  },
  {
   "cell_type": "code",
   "execution_count": 8,
   "metadata": {
    "ExecuteTime": {
     "end_time": "2019-11-05T15:07:18.548386Z",
     "start_time": "2019-11-05T15:07:18.543400Z"
    }
   },
   "outputs": [
    {
     "data": {
      "text/plain": [
       "'encx = OrdinalEncoder()\\nencx.fit(X.values)\\nx_one_hot = encx.transform(X.values)'"
      ]
     },
     "execution_count": 8,
     "metadata": {},
     "output_type": "execute_result"
    }
   ],
   "source": [
    "'''encx = OrdinalEncoder()\n",
    "encx.fit(X.values)\n",
    "x_one_hot = encx.transform(X.values)'''"
   ]
  },
  {
   "cell_type": "code",
   "execution_count": 9,
   "metadata": {
    "ExecuteTime": {
     "end_time": "2019-11-05T15:07:18.899374Z",
     "start_time": "2019-11-05T15:07:18.896370Z"
    }
   },
   "outputs": [
    {
     "data": {
      "text/plain": [
       "\"encx = OneHotEncoder(handle_unknown='ignore', sparse = False)\\nencx.fit(X.values)\\nx_one_hot = encx.transform(X.values)\""
      ]
     },
     "execution_count": 9,
     "metadata": {},
     "output_type": "execute_result"
    }
   ],
   "source": [
    "'''encx = OneHotEncoder(handle_unknown='ignore', sparse = False)\n",
    "encx.fit(X.values)\n",
    "x_one_hot = encx.transform(X.values)'''"
   ]
  },
  {
   "cell_type": "code",
   "execution_count": 10,
   "metadata": {
    "ExecuteTime": {
     "end_time": "2019-11-05T15:07:22.117670Z",
     "start_time": "2019-11-05T15:07:21.375656Z"
    }
   },
   "outputs": [],
   "source": [
    "encx  = ce.BaseNEncoder()\n",
    "encx.fit(X.values)\n",
    "x_one_hot = encx.transform(X.values)"
   ]
  },
  {
   "cell_type": "code",
   "execution_count": 11,
   "metadata": {
    "ExecuteTime": {
     "end_time": "2019-11-05T15:07:26.823459Z",
     "start_time": "2019-11-05T15:07:26.767582Z"
    }
   },
   "outputs": [],
   "source": [
    "X_train, X_val, y_train, y_val = train_test_split(x_one_hot, y_one_hot, test_size=0.2)"
   ]
  },
  {
   "cell_type": "markdown",
   "metadata": {},
   "source": [
    "# Pruebas con mlp básico"
   ]
  },
  {
   "cell_type": "code",
   "execution_count": 12,
   "metadata": {
    "ExecuteTime": {
     "end_time": "2019-11-05T15:18:18.781542Z",
     "start_time": "2019-11-05T15:09:12.417315Z"
    },
    "scrolled": true
   },
   "outputs": [
    {
     "name": "stdout",
     "output_type": "stream",
     "text": [
      "WARNING:tensorflow:From C:\\Users\\ASUS\\anaconda3\\Lib\\site-packages\\keras\\src\\backend\\common\\global_state.py:82: The name tf.reset_default_graph is deprecated. Please use tf.compat.v1.reset_default_graph instead.\n",
      "\n",
      "Epoch 1/15\n"
     ]
    },
    {
     "name": "stderr",
     "output_type": "stream",
     "text": [
      "C:\\Users\\ASUS\\anaconda3\\Lib\\site-packages\\keras\\src\\layers\\core\\dense.py:87: UserWarning: Do not pass an `input_shape`/`input_dim` argument to a layer. When using Sequential models, prefer using an `Input(shape)` object as the first layer in the model instead.\n",
      "  super().__init__(activity_regularizer=activity_regularizer, **kwargs)\n"
     ]
    },
    {
     "name": "stdout",
     "output_type": "stream",
     "text": [
      "\u001b[1m1647/1647\u001b[0m \u001b[32m━━━━━━━━━━━━━━━━━━━━\u001b[0m\u001b[37m\u001b[0m \u001b[1m74s\u001b[0m 43ms/step - categorical_accuracy: 0.4221 - loss: 1.9102 - val_categorical_accuracy: 0.5870 - val_loss: 1.3585\n",
      "Epoch 2/15\n",
      "\u001b[1m1647/1647\u001b[0m \u001b[32m━━━━━━━━━━━━━━━━━━━━\u001b[0m\u001b[37m\u001b[0m \u001b[1m75s\u001b[0m 45ms/step - categorical_accuracy: 0.5944 - loss: 1.3233 - val_categorical_accuracy: 0.6544 - val_loss: 1.1405\n",
      "Epoch 3/15\n",
      "\u001b[1m1647/1647\u001b[0m \u001b[32m━━━━━━━━━━━━━━━━━━━━\u001b[0m\u001b[37m\u001b[0m \u001b[1m73s\u001b[0m 44ms/step - categorical_accuracy: 0.6518 - loss: 1.1174 - val_categorical_accuracy: 0.6876 - val_loss: 1.0108\n",
      "Epoch 4/15\n",
      "\u001b[1m1647/1647\u001b[0m \u001b[32m━━━━━━━━━━━━━━━━━━━━\u001b[0m\u001b[37m\u001b[0m \u001b[1m76s\u001b[0m 46ms/step - categorical_accuracy: 0.6892 - loss: 0.9790 - val_categorical_accuracy: 0.7082 - val_loss: 0.9380\n",
      "Epoch 5/15\n",
      "\u001b[1m1647/1647\u001b[0m \u001b[32m━━━━━━━━━━━━━━━━━━━━\u001b[0m\u001b[37m\u001b[0m \u001b[1m76s\u001b[0m 46ms/step - categorical_accuracy: 0.7160 - loss: 0.8806 - val_categorical_accuracy: 0.7282 - val_loss: 0.8910\n",
      "Epoch 6/15\n",
      "\u001b[1m1647/1647\u001b[0m \u001b[32m━━━━━━━━━━━━━━━━━━━━\u001b[0m\u001b[37m\u001b[0m \u001b[1m77s\u001b[0m 47ms/step - categorical_accuracy: 0.7396 - loss: 0.8092 - val_categorical_accuracy: 0.7425 - val_loss: 0.8500\n",
      "Epoch 7/15\n",
      "\u001b[1m1647/1647\u001b[0m \u001b[32m━━━━━━━━━━━━━━━━━━━━\u001b[0m\u001b[37m\u001b[0m \u001b[1m59s\u001b[0m 36ms/step - categorical_accuracy: 0.7521 - loss: 0.7583 - val_categorical_accuracy: 0.7485 - val_loss: 0.8278\n",
      "Epoch 8/15\n",
      "\u001b[1m1647/1647\u001b[0m \u001b[32m━━━━━━━━━━━━━━━━━━━━\u001b[0m\u001b[37m\u001b[0m \u001b[1m77s\u001b[0m 46ms/step - categorical_accuracy: 0.7649 - loss: 0.7141 - val_categorical_accuracy: 0.7582 - val_loss: 0.8110\n",
      "Epoch 9/15\n",
      "\u001b[1m1647/1647\u001b[0m \u001b[32m━━━━━━━━━━━━━━━━━━━━\u001b[0m\u001b[37m\u001b[0m \u001b[1m80s\u001b[0m 49ms/step - categorical_accuracy: 0.7747 - loss: 0.6707 - val_categorical_accuracy: 0.7608 - val_loss: 0.8067\n",
      "Epoch 10/15\n",
      "\u001b[1m1647/1647\u001b[0m \u001b[32m━━━━━━━━━━━━━━━━━━━━\u001b[0m\u001b[37m\u001b[0m \u001b[1m82s\u001b[0m 50ms/step - categorical_accuracy: 0.7842 - loss: 0.6461 - val_categorical_accuracy: 0.7664 - val_loss: 0.7903\n",
      "Epoch 11/15\n",
      "\u001b[1m1647/1647\u001b[0m \u001b[32m━━━━━━━━━━━━━━━━━━━━\u001b[0m\u001b[37m\u001b[0m \u001b[1m71s\u001b[0m 43ms/step - categorical_accuracy: 0.7910 - loss: 0.6192 - val_categorical_accuracy: 0.7664 - val_loss: 0.7897\n",
      "Epoch 12/15\n",
      "\u001b[1m1647/1647\u001b[0m \u001b[32m━━━━━━━━━━━━━━━━━━━━\u001b[0m\u001b[37m\u001b[0m \u001b[1m93s\u001b[0m 49ms/step - categorical_accuracy: 0.7959 - loss: 0.6025 - val_categorical_accuracy: 0.7717 - val_loss: 0.7860\n",
      "Epoch 13/15\n",
      "\u001b[1m1647/1647\u001b[0m \u001b[32m━━━━━━━━━━━━━━━━━━━━\u001b[0m\u001b[37m\u001b[0m \u001b[1m80s\u001b[0m 48ms/step - categorical_accuracy: 0.8039 - loss: 0.5792 - val_categorical_accuracy: 0.7800 - val_loss: 0.7674\n",
      "Epoch 14/15\n",
      "\u001b[1m1647/1647\u001b[0m \u001b[32m━━━━━━━━━━━━━━━━━━━━\u001b[0m\u001b[37m\u001b[0m \u001b[1m78s\u001b[0m 47ms/step - categorical_accuracy: 0.8083 - loss: 0.5601 - val_categorical_accuracy: 0.7780 - val_loss: 0.7789\n",
      "Epoch 15/15\n",
      "\u001b[1m1647/1647\u001b[0m \u001b[32m━━━━━━━━━━━━━━━━━━━━\u001b[0m\u001b[37m\u001b[0m \u001b[1m85s\u001b[0m 52ms/step - categorical_accuracy: 0.7778 - loss: 0.6724 - val_categorical_accuracy: 0.7646 - val_loss: 0.7926\n",
      "Epoch 10/15\n",
      "\u001b[1m1647/1647\u001b[0m \u001b[32m━━━━━━━━━━━━━━━━━━━━\u001b[0m\u001b[37m\u001b[0m \u001b[1m91s\u001b[0m 55ms/step - categorical_accuracy: 0.7963 - loss: 0.5967 - val_categorical_accuracy: 0.7734 - val_loss: 0.7850\n",
      "Epoch 13/15\n",
      "\u001b[1m1647/1647\u001b[0m \u001b[32m━━━━━━━━━━━━━━━━━━━━\u001b[0m\u001b[37m\u001b[0m \u001b[1m90s\u001b[0m 55ms/step - categorical_accuracy: 0.8047 - loss: 0.5739 - val_categorical_accuracy: 0.7758 - val_loss: 0.7696\n",
      "Epoch 14/15\n",
      "\u001b[1m1647/1647\u001b[0m \u001b[32m━━━━━━━━━━━━━━━━━━━━\u001b[0m\u001b[37m\u001b[0m \u001b[1m91s\u001b[0m 55ms/step - categorical_accuracy: 0.8062 - loss: 0.5613 - val_categorical_accuracy: 0.7782 - val_loss: 0.7796\n",
      "Epoch 15/15\n",
      "\u001b[1m1647/1647\u001b[0m \u001b[32m━━━━━━━━━━━━━━━━━━━━\u001b[0m\u001b[37m\u001b[0m \u001b[1m89s\u001b[0m 54ms/step - categorical_accuracy: 0.5919 - loss: 1.3271 - val_categorical_accuracy: 0.6514 - val_loss: 1.1224\n",
      "Epoch 3/15\n",
      "\u001b[1m1647/1647\u001b[0m \u001b[32m━━━━━━━━━━━━━━━━━━━━\u001b[0m\u001b[37m\u001b[0m \u001b[1m88s\u001b[0m 53ms/step - categorical_accuracy: 0.6550 - loss: 1.1077 - val_categorical_accuracy: 0.6881 - val_loss: 1.0211\n",
      "Epoch 4/15\n",
      "\u001b[1m1647/1647\u001b[0m \u001b[32m━━━━━━━━━━━━━━━━━━━━\u001b[0m\u001b[37m\u001b[0m \u001b[1m89s\u001b[0m 54ms/step - categorical_accuracy: 0.6904 - loss: 0.9733 - val_categorical_accuracy: 0.7101 - val_loss: 0.9370\n",
      "Epoch 5/15\n",
      "\u001b[1m1647/1647\u001b[0m \u001b[32m━━━━━━━━━━━━━━━━━━━━\u001b[0m\u001b[37m\u001b[0m \u001b[1m88s\u001b[0m 53ms/step - categorical_accuracy: 0.7170 - loss: 0.8815 - val_categorical_accuracy: 0.7244 - val_loss: 0.8894\n",
      "Epoch 6/15\n",
      "\u001b[1m1647/1647\u001b[0m \u001b[32m━━━━━━━━━━━━━━━━━━━━\u001b[0m\u001b[37m\u001b[0m \u001b[1m91s\u001b[0m 55ms/step - categorical_accuracy: 0.7734 - loss: 0.6766 - val_categorical_accuracy: 0.7618 - val_loss: 0.8049\n",
      "Epoch 10/15\n",
      "\u001b[1m1647/1647\u001b[0m \u001b[32m━━━━━━━━━━━━━━━━━━━━\u001b[0m\u001b[37m\u001b[0m \u001b[1m88s\u001b[0m 54ms/step - categorical_accuracy: 0.7854 - loss: 0.6437 - val_categorical_accuracy: 0.7658 - val_loss: 0.8008\n",
      "Epoch 11/15\n",
      "\u001b[1m1498/1647\u001b[0m \u001b[32m━━━━━━━━━━━━━━━━━━\u001b[0m\u001b[37m━━\u001b[0m \u001b[1m7s\u001b[0m 48ms/step - categorical_accuracy: 0.7941 - loss: 0.6198"
     ]
    },
    {
     "name": "stderr",
     "output_type": "stream",
     "text": [
      "IOPub message rate exceeded.\n",
      "The Jupyter server will temporarily stop sending output\n",
      "to the client in order to avoid crashing it.\n",
      "To change this limit, set the config variable\n",
      "`--ServerApp.iopub_msg_rate_limit`.\n",
      "\n",
      "Current values:\n",
      "ServerApp.iopub_msg_rate_limit=1000.0 (msgs/sec)\n",
      "ServerApp.rate_limit_window=3.0 (secs)\n",
      "\n"
     ]
    },
    {
     "name": "stdout",
     "output_type": "stream",
     "text": [
      "\u001b[1m1647/1647\u001b[0m \u001b[32m━━━━━━━━━━━━━━━━━━━━\u001b[0m\u001b[37m\u001b[0m \u001b[1m88s\u001b[0m 53ms/step - categorical_accuracy: 0.8025 - loss: 0.5768 - val_categorical_accuracy: 0.7773 - val_loss: 0.7835\n",
      "Epoch 14/15\n",
      "\u001b[1m1647/1647\u001b[0m \u001b[32m━━━━━━━━━━━━━━━━━━━━\u001b[0m\u001b[37m\u001b[0m \u001b[1m85s\u001b[0m 52ms/step - categorical_accuracy: 0.8088 - loss: 0.5587 - val_categorical_accuracy: 0.7763 - val_loss: 0.7853\n",
      "Epoch 15/15\n",
      "\u001b[1m1647/1647\u001b[0m \u001b[32m━━━━━━━━━━━━━━━━━━━━\u001b[0m\u001b[37m\u001b[0m \u001b[1m136s\u001b[0m 48ms/step - categorical_accuracy: 0.8108 - loss: 0.5515 - val_categorical_accuracy: 0.7814 - val_loss: 0.7860\n"
     ]
    },
    {
     "name": "stderr",
     "output_type": "stream",
     "text": [
      "WARNING:absl:You are saving your model as an HDF5 file via `model.save()` or `keras.saving.save_model(model)`. This file format is considered legacy. We recommend using instead the native Keras format, e.g. `model.save('my_model.keras')` or `keras.saving.save_model(model, 'my_model.keras')`. \n",
      "C:\\Users\\ASUS\\anaconda3\\Lib\\site-packages\\keras\\src\\layers\\core\\dense.py:87: UserWarning: Do not pass an `input_shape`/`input_dim` argument to a layer. When using Sequential models, prefer using an `Input(shape)` object as the first layer in the model instead.\n",
      "  super().__init__(activity_regularizer=activity_regularizer, **kwargs)\n"
     ]
    },
    {
     "name": "stdout",
     "output_type": "stream",
     "text": [
      "Epoch 1/15\n",
      "\u001b[1m1647/1647\u001b[0m \u001b[32m━━━━━━━━━━━━━━━━━━━━\u001b[0m\u001b[37m\u001b[0m \u001b[1m108s\u001b[0m 51ms/step - categorical_accuracy: 0.4258 - loss: 1.9026 - val_categorical_accuracy: 0.5800 - val_loss: 1.3605\n",
      "Epoch 2/15\n",
      "\u001b[1m1647/1647\u001b[0m \u001b[32m━━━━━━━━━━━━━━━━━━━━\u001b[0m\u001b[37m\u001b[0m \u001b[1m78s\u001b[0m 47ms/step - categorical_accuracy: 0.5956 - loss: 1.3145 - val_categorical_accuracy: 0.6521 - val_loss: 1.1257\n",
      "Epoch 3/15\n",
      "\u001b[1m1647/1647\u001b[0m \u001b[32m━━━━━━━━━━━━━━━━━━━━\u001b[0m\u001b[37m\u001b[0m \u001b[1m74s\u001b[0m 45ms/step - categorical_accuracy: 0.6547 - loss: 1.1019 - val_categorical_accuracy: 0.6913 - val_loss: 1.0068\n",
      "Epoch 4/15\n",
      "\u001b[1m1647/1647\u001b[0m \u001b[32m━━━━━━━━━━━━━━━━━━━━\u001b[0m\u001b[37m\u001b[0m \u001b[1m74s\u001b[0m 45ms/step - categorical_accuracy: 0.6934 - loss: 0.9684 - val_categorical_accuracy: 0.7113 - val_loss: 0.9331\n",
      "Epoch 5/15\n",
      "\u001b[1m1647/1647\u001b[0m \u001b[32m━━━━━━━━━━━━━━━━━━━━\u001b[0m\u001b[37m\u001b[0m \u001b[1m80s\u001b[0m 49ms/step - categorical_accuracy: 0.7154 - loss: 0.8801 - val_categorical_accuracy: 0.7271 - val_loss: 0.8887\n",
      "Epoch 6/15\n",
      "\u001b[1m1647/1647\u001b[0m \u001b[32m━━━━━━━━━━━━━━━━━━━━\u001b[0m\u001b[37m\u001b[0m \u001b[1m78s\u001b[0m 47ms/step - categorical_accuracy: 0.7371 - loss: 0.8087 - val_categorical_accuracy: 0.7388 - val_loss: 0.8543\n",
      "Epoch 7/15\n",
      "\u001b[1m1647/1647\u001b[0m \u001b[32m━━━━━━━━━━━━━━━━━━━━\u001b[0m\u001b[37m\u001b[0m \u001b[1m78s\u001b[0m 47ms/step - categorical_accuracy: 0.7537 - loss: 0.7547 - val_categorical_accuracy: 0.7479 - val_loss: 0.8368\n",
      "Epoch 8/15\n",
      "\u001b[1m1647/1647\u001b[0m \u001b[32m━━━━━━━━━━━━━━━━━━━━\u001b[0m\u001b[37m\u001b[0m \u001b[1m79s\u001b[0m 48ms/step - categorical_accuracy: 0.7674 - loss: 0.7025 - val_categorical_accuracy: 0.7593 - val_loss: 0.8069\n",
      "Epoch 9/15\n",
      "\u001b[1m1647/1647\u001b[0m \u001b[32m━━━━━━━━━━━━━━━━━━━━\u001b[0m\u001b[37m\u001b[0m \u001b[1m77s\u001b[0m 47ms/step - categorical_accuracy: 0.7777 - loss: 0.6720 - val_categorical_accuracy: 0.7627 - val_loss: 0.7989\n",
      "Epoch 10/15\n",
      "\u001b[1m1647/1647\u001b[0m \u001b[32m━━━━━━━━━━━━━━━━━━━━\u001b[0m\u001b[37m\u001b[0m \u001b[1m65s\u001b[0m 39ms/step - categorical_accuracy: 0.7851 - loss: 0.6406 - val_categorical_accuracy: 0.7666 - val_loss: 0.8021\n",
      "Epoch 11/15\n",
      "\u001b[1m1647/1647\u001b[0m \u001b[32m━━━━━━━━━━━━━━━━━━━━\u001b[0m\u001b[37m\u001b[0m \u001b[1m63s\u001b[0m 38ms/step - categorical_accuracy: 0.7921 - loss: 0.6147 - val_categorical_accuracy: 0.7688 - val_loss: 0.7904\n",
      "Epoch 12/15\n",
      "\u001b[1m1647/1647\u001b[0m \u001b[32m━━━━━━━━━━━━━━━━━━━━\u001b[0m\u001b[37m\u001b[0m \u001b[1m77s\u001b[0m 47ms/step - categorical_accuracy: 0.7975 - loss: 0.5914 - val_categorical_accuracy: 0.7737 - val_loss: 0.7834\n",
      "Epoch 13/15\n",
      "\u001b[1m1647/1647\u001b[0m \u001b[32m━━━━━━━━━━━━━━━━━━━━\u001b[0m\u001b[37m\u001b[0m \u001b[1m78s\u001b[0m 48ms/step - categorical_accuracy: 0.8035 - loss: 0.5746 - val_categorical_accuracy: 0.7766 - val_loss: 0.7859\n",
      "Epoch 14/15\n",
      "\u001b[1m1647/1647\u001b[0m \u001b[32m━━━━━━━━━━━━━━━━━━━━\u001b[0m\u001b[37m\u001b[0m \u001b[1m73s\u001b[0m 44ms/step - categorical_accuracy: 0.8072 - loss: 0.5580 - val_categorical_accuracy: 0.7797 - val_loss: 0.7878\n",
      "Epoch 15/15\n",
      "\u001b[1m1647/1647\u001b[0m \u001b[32m━━━━━━━━━━━━━━━━━━━━\u001b[0m\u001b[37m\u001b[0m \u001b[1m58s\u001b[0m 35ms/step - categorical_accuracy: 0.8126 - loss: 0.5427 - val_categorical_accuracy: 0.7826 - val_loss: 0.7887\n"
     ]
    },
    {
     "name": "stderr",
     "output_type": "stream",
     "text": [
      "WARNING:absl:You are saving your model as an HDF5 file via `model.save()` or `keras.saving.save_model(model)`. This file format is considered legacy. We recommend using instead the native Keras format, e.g. `model.save('my_model.keras')` or `keras.saving.save_model(model, 'my_model.keras')`. \n",
      "C:\\Users\\ASUS\\anaconda3\\Lib\\site-packages\\keras\\src\\layers\\core\\dense.py:87: UserWarning: Do not pass an `input_shape`/`input_dim` argument to a layer. When using Sequential models, prefer using an `Input(shape)` object as the first layer in the model instead.\n",
      "  super().__init__(activity_regularizer=activity_regularizer, **kwargs)\n"
     ]
    },
    {
     "name": "stdout",
     "output_type": "stream",
     "text": [
      "Epoch 1/15\n",
      "\u001b[1m1647/1647\u001b[0m \u001b[32m━━━━━━━━━━━━━━━━━━━━\u001b[0m\u001b[37m\u001b[0m \u001b[1m64s\u001b[0m 34ms/step - categorical_accuracy: 0.4237 - loss: 1.9078 - val_categorical_accuracy: 0.5840 - val_loss: 1.3584\n",
      "Epoch 2/15\n",
      "\u001b[1m1647/1647\u001b[0m \u001b[32m━━━━━━━━━━━━━━━━━━━━\u001b[0m\u001b[37m\u001b[0m \u001b[1m53s\u001b[0m 32ms/step - categorical_accuracy: 0.5907 - loss: 1.3253 - val_categorical_accuracy: 0.6518 - val_loss: 1.1319\n",
      "Epoch 3/15\n",
      "\u001b[1m1647/1647\u001b[0m \u001b[32m━━━━━━━━━━━━━━━━━━━━\u001b[0m\u001b[37m\u001b[0m \u001b[1m53s\u001b[0m 32ms/step - categorical_accuracy: 0.6504 - loss: 1.1123 - val_categorical_accuracy: 0.6871 - val_loss: 1.0162\n",
      "Epoch 4/15\n",
      "\u001b[1m1647/1647\u001b[0m \u001b[32m━━━━━━━━━━━━━━━━━━━━\u001b[0m\u001b[37m\u001b[0m \u001b[1m54s\u001b[0m 33ms/step - categorical_accuracy: 0.6877 - loss: 0.9819 - val_categorical_accuracy: 0.7077 - val_loss: 0.9405\n",
      "Epoch 5/15\n",
      "\u001b[1m1647/1647\u001b[0m \u001b[32m━━━━━━━━━━━━━━━━━━━━\u001b[0m\u001b[37m\u001b[0m \u001b[1m54s\u001b[0m 33ms/step - categorical_accuracy: 0.7135 - loss: 0.8969 - val_categorical_accuracy: 0.7277 - val_loss: 0.8872\n",
      "Epoch 6/15\n",
      "\u001b[1m1647/1647\u001b[0m \u001b[32m━━━━━━━━━━━━━━━━━━━━\u001b[0m\u001b[37m\u001b[0m \u001b[1m53s\u001b[0m 32ms/step - categorical_accuracy: 0.7340 - loss: 0.8150 - val_categorical_accuracy: 0.7406 - val_loss: 0.8506\n",
      "Epoch 7/15\n",
      "\u001b[1m1647/1647\u001b[0m \u001b[32m━━━━━━━━━━━━━━━━━━━━\u001b[0m\u001b[37m\u001b[0m \u001b[1m53s\u001b[0m 32ms/step - categorical_accuracy: 0.7499 - loss: 0.7657 - val_categorical_accuracy: 0.7466 - val_loss: 0.8325\n",
      "Epoch 8/15\n",
      "\u001b[1m1647/1647\u001b[0m \u001b[32m━━━━━━━━━━━━━━━━━━━━\u001b[0m\u001b[37m\u001b[0m \u001b[1m54s\u001b[0m 33ms/step - categorical_accuracy: 0.7603 - loss: 0.7195 - val_categorical_accuracy: 0.7526 - val_loss: 0.8109\n",
      "Epoch 9/15\n",
      "\u001b[1m1647/1647\u001b[0m \u001b[32m━━━━━━━━━━━━━━━━━━━━\u001b[0m\u001b[37m\u001b[0m \u001b[1m58s\u001b[0m 35ms/step - categorical_accuracy: 0.7735 - loss: 0.6846 - val_categorical_accuracy: 0.7611 - val_loss: 0.7948\n",
      "Epoch 10/15\n",
      "\u001b[1m1647/1647\u001b[0m \u001b[32m━━━━━━━━━━━━━━━━━━━━\u001b[0m\u001b[37m\u001b[0m \u001b[1m62s\u001b[0m 38ms/step - categorical_accuracy: 0.7824 - loss: 0.6536 - val_categorical_accuracy: 0.7670 - val_loss: 0.7999\n",
      "Epoch 11/15\n",
      "\u001b[1m1647/1647\u001b[0m \u001b[32m━━━━━━━━━━━━━━━━━━━━\u001b[0m\u001b[37m\u001b[0m \u001b[1m62s\u001b[0m 38ms/step - categorical_accuracy: 0.7866 - loss: 0.6313 - val_categorical_accuracy: 0.7637 - val_loss: 0.7936\n",
      "Epoch 12/15\n",
      "\u001b[1m1647/1647\u001b[0m \u001b[32m━━━━━━━━━━━━━━━━━━━━\u001b[0m\u001b[37m\u001b[0m \u001b[1m83s\u001b[0m 38ms/step - categorical_accuracy: 0.7951 - loss: 0.6068 - val_categorical_accuracy: 0.7738 - val_loss: 0.7801\n",
      "Epoch 13/15\n",
      "\u001b[1m1647/1647\u001b[0m \u001b[32m━━━━━━━━━━━━━━━━━━━━\u001b[0m\u001b[37m\u001b[0m \u001b[1m63s\u001b[0m 38ms/step - categorical_accuracy: 0.8013 - loss: 0.5829 - val_categorical_accuracy: 0.7753 - val_loss: 0.7801\n",
      "Epoch 14/15\n",
      "\u001b[1m1647/1647\u001b[0m \u001b[32m━━━━━━━━━━━━━━━━━━━━\u001b[0m\u001b[37m\u001b[0m \u001b[1m62s\u001b[0m 37ms/step - categorical_accuracy: 0.8053 - loss: 0.5694 - val_categorical_accuracy: 0.7750 - val_loss: 0.7827\n",
      "Epoch 15/15\n",
      "\u001b[1m1647/1647\u001b[0m \u001b[32m━━━━━━━━━━━━━━━━━━━━\u001b[0m\u001b[37m\u001b[0m \u001b[1m63s\u001b[0m 38ms/step - categorical_accuracy: 0.8088 - loss: 0.5590 - val_categorical_accuracy: 0.7777 - val_loss: 0.7875\n"
     ]
    },
    {
     "name": "stderr",
     "output_type": "stream",
     "text": [
      "WARNING:absl:You are saving your model as an HDF5 file via `model.save()` or `keras.saving.save_model(model)`. This file format is considered legacy. We recommend using instead the native Keras format, e.g. `model.save('my_model.keras')` or `keras.saving.save_model(model, 'my_model.keras')`. \n"
     ]
    }
   ],
   "source": [
    "accs = []\n",
    "for i in range (1,6):\n",
    "    K.clear_session()\n",
    "    model = Sequential()\n",
    "    model.add(Dense(2048, activation=\"relu\", input_dim=len(X_train.values[1])))\n",
    "    model.add(Dropout(0.3))\n",
    "    model.add(Dense(1024, activation=\"relu\"))\n",
    "    model.add(Dropout(0.2))\n",
    "    model.add(Dense(512, activation=\"relu\"))\n",
    "    model.add(Dropout(0.2))\n",
    "    model.add(Dense(24, activation = \"softmax\"))\n",
    "    model.compile(loss='categorical_crossentropy', optimizer=\"adam\",  metrics=['categorical_accuracy'])\n",
    "    hist = model.fit(X_train,y_train, epochs= 15,validation_data=(X_val, y_val), batch_size = 64)\n",
    "    accs.append(hist.history['val_categorical_accuracy'][9])\n",
    "    model.save (\"model\"+str(i)+\".h5\")"
   ]
  },
  {
   "cell_type": "code",
   "execution_count": 13,
   "metadata": {
    "ExecuteTime": {
     "end_time": "2019-11-06T09:53:12.133191Z",
     "start_time": "2019-11-06T09:53:12.129201Z"
    },
    "scrolled": true
   },
   "outputs": [
    {
     "name": "stdout",
     "output_type": "stream",
     "text": [
      "0.7666653990745544\n"
     ]
    }
   ],
   "source": [
    "suma = 0\n",
    "for i in accs:\n",
    "    suma = suma + i\n",
    "print(suma/5)"
   ]
  },
  {
   "cell_type": "code",
   "execution_count": null,
   "metadata": {},
   "outputs": [],
   "source": []
  }
 ],
 "metadata": {
  "kernelspec": {
   "display_name": "Python 3 (ipykernel)",
   "language": "python",
   "name": "python3"
  },
  "language_info": {
   "codemirror_mode": {
    "name": "ipython",
    "version": 3
   },
   "file_extension": ".py",
   "mimetype": "text/x-python",
   "name": "python",
   "nbconvert_exporter": "python",
   "pygments_lexer": "ipython3",
   "version": "3.11.7"
  },
  "toc": {
   "base_numbering": 1,
   "nav_menu": {},
   "number_sections": true,
   "sideBar": true,
   "skip_h1_title": false,
   "title_cell": "Table of Contents",
   "title_sidebar": "Contents",
   "toc_cell": false,
   "toc_position": {},
   "toc_section_display": true,
   "toc_window_display": false
  }
 },
 "nbformat": 4,
 "nbformat_minor": 4
}
